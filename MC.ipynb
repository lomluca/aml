{
 "cells": [
  {
   "cell_type": "markdown",
   "metadata": {},
   "source": [
    "2018 Edition<br>\n",
    "*Claudio SCALZO and Luca LOMBARDO*"
   ]
  },
  {
   "cell_type": "markdown",
   "metadata": {},
   "source": [
    "# Estimating Financial Risk through Monte Carlo Simulation\n",
    "Risk analysis is part of every decision we make when faced with uncertainty, ambiguity, and variability. Indeed, even though we have unprecedented access to information, we can't accurately predict the future. In finance, there is a fair amount of uncertainty and risk involved with estimating the future value of financial products, due to the wide variety of potential outcomes. Monte Carlo simulation (also known as the Monte Carlo Method) allows inspecting many possible outcomes of the decision making process, and can be used to assess the impact of risk: this, in turns, allows for better decision-making under uncertainty.\n",
    "\n",
    "## Goals\n",
    "The main objectives we set for this Notebook are as follows:\n",
    "1. Develop fundamental knowledge about Risk analysis\n",
    "2. Understand Monte Carlo Simulation (MCS)\n",
    "3. Apply Monte Carlo Simulation for predicting risk\n",
    "\n",
    "\n",
    "## Steps\n",
    "1. First, in section 1, we introduce the basics of MCS\n",
    "2. In section 2, we work on a simple example to where we apply the MCS method\n",
    "3. In section 3, we briefly summarize the main characteristics of the Monte Carlo Simulation (MCS) technique\n",
    "4. In section 4, we overview the common distributions which are often used in MCS\n",
    "5. In section 5, we work on a real use case, that focuses on estimating financial risk. We will use techniques such as featurization  (that is, generating additional features to improve model accuracy), linear regression, kernel density estimation, sampling distributions and so on ...\n",
    "\n",
    "## Reference\n",
    "This Notebook is inspired by Chapter 9 of the book [Advanced Analytics with Spark](http://shop.oreilly.com/product/0636920035091.do) by Josh Wills, Sandy Ryza, Sean Owen, and Uri Laserson. It is strongly suggested to read this Chapter to get a general idea of the topic of this Notebook.\n",
    "\n",
    "# 1. Introduction\n",
    "\n",
    "## 1.1. Monte Carlo Simulation (MCS)\n",
    "Monte Carlo simulation is a computerized mathematical technique that can be applied such that it is possible to account for risk in quantitative analysis and decision making. This technique is used in many different fields, such as R&D, risk management, portfolio management, pricing derivatives, strategic planning, project planning, cost modeling and many more.\n",
    "\n",
    "In general, MCS is a technique that \"converts\" uncertainty on input variables of a model into **probability distributions**. By combining the distributions and randomly selecting values from them, it recalculates the simulated model many times, to determine the probability of the output.\n",
    "\n",
    "Historically, this technique was first used by scientists working on the atomic bomb: it was named after Monte Carlo, the Monaco resort town renowned for its casinos.  Since its introduction in World War II, Monte Carlo simulation has been used to model a variety of physical and conceptual systems.\n",
    "\n",
    "## 1.2. How does it work?\n",
    "Monte Carlo simulation performs risk analysis by building models of possible results by *substituting a range of possible input values, that constitute uncertainty, into a statistical distribution*. It then computes possible outcomes repeatedly, each time using a different set of random values from the probability functions that \"model\" the input. Depending upon the number of random input variables and their distribution, a Monte Carlo simulation could involve thousands or tens of thousands of \"rounds\" before it is complete. When complete, *Monte Carlo simulation produces distributions of possible outcome values*.\n",
    "\n",
    "By using probability distributions instead of actual input samples, it is possible to model more accurately uncertainty: different choices of distributions will yield different outputs."
   ]
  },
  {
   "cell_type": "markdown",
   "metadata": {},
   "source": [
    "# 2. Illustrative example\n",
    "\n",
    "Imagine you are the marketing manager for a firm that is planning to introduce a new product. You need to estimate the first-year net profit from this product, which might depend on:\n",
    "\n",
    "- Sales volume in units\n",
    "- Price per unit (also called \"Selling price\")\n",
    "- Unit cost\n",
    "- Fixed costs\n",
    "\n",
    "Net profit will be calculated as $Net Profit = Sales Volume* (Selling Price - Unit cost) - Fixed costs$.  Fixed costs (accounting for various overheads, advertising budget, etc.) are known to be \\$ 120,000, which we assume to be deterministic. All other factors, instead, involve some uncertainty: *sales volume* (in units) can cover quite a large range, the *selling price* per unit will depend on competitor actions, which are hard to predict, and *unit costs* will also vary depending on vendor prices and production experience, for example.\n",
    "\n",
    "Now, to build a risk analysis model, we must first identify the uncertain variables -- which are essentially random variables.  While there's some uncertainty in almost all variables in a business model, we want to focus on variables where the range of values is significant."
   ]
  },
  {
   "cell_type": "markdown",
   "metadata": {},
   "source": [
    "## 2.1. Unit sales and unit price\n",
    "\n",
    "Based on a hypothetical market research you have done, you have beliefs that there are equal chances for the market to be `slow`, `normal`, or `hot`:\n",
    "\n",
    "- In a \"slow\" market, you expect to sell 50,000 units at an average selling price of \\$11.00 per unit\n",
    "- In a \"normal\" market, you expect to sell 75,000 units, but you'll likely realize a lower average selling price of \\$10.00 per unit\n",
    "- In a \"hot\" market, you expect to sell 100,000 units, but this will bring in competitors, who will drive down the average selling price to \\$8.00 per unit"
   ]
  },
  {
   "cell_type": "code",
   "execution_count": 1,
   "metadata": {},
   "outputs": [
    {
     "name": "stderr",
     "output_type": "stream",
     "text": [
      "/opt/conda/lib/python3.6/site-packages/statsmodels/compat/pandas.py:56: FutureWarning: The pandas.core.datetools module is deprecated and will be removed in a future version. Please use the pandas.tseries module instead.\n",
      "  from pandas.core import datetools\n"
     ]
    }
   ],
   "source": [
    "# LIBRARIES IMPORT\n",
    "import numpy as np\n",
    "import random\n",
    "from datetime import datetime\n",
    "from datetime import timedelta\n",
    "from itertools import islice\n",
    "%matplotlib inline\n",
    "import statsmodels.api as sm\n",
    "from os import listdir\n",
    "from os.path import isfile, join\n",
    "from scipy import stats\n",
    "from statsmodels.nonparametric.kernel_density import KDEMultivariate\n",
    "from statsmodels.nonparametric.kde import KDEUnivariate\n",
    "from IPython.display import display, HTML, display_html\n",
    "import matplotlib.pyplot as plt\n",
    "import pandas as pd\n",
    "import math\n",
    "import scipy"
   ]
  },
  {
   "cell_type": "code",
   "execution_count": 2,
   "metadata": {},
   "outputs": [],
   "source": [
    "# FUNCTIONS TO DISPLAY HTML TABLES\n",
    "def displayTable(table, header, title):\n",
    "    print(title)\n",
    "    display(HTML(pd.DataFrame(data=table, columns=header).to_html(index=False)))\n",
    "    print()\n",
    "    \n",
    "def displaySideBySide(*tables, header, title):\n",
    "    print(title)\n",
    "    htmlStr = \"\"\n",
    "    for table in tables:\n",
    "        htmlStr += pd.DataFrame(data=table, columns=header).to_html(index=False)\n",
    "        htmlStr += \"&nbsp\"*5\n",
    "    display_html(htmlStr.replace('table','table style=\"display:inline\"'), raw=True)\n",
    "    print()"
   ]
  },
  {
   "cell_type": "markdown",
   "metadata": {},
   "source": [
    "### Question 1\n",
    "<div class=\"alert alert-info\">\n",
    "Calculate the average units and the unit price that you expect to sell, which depend on the market state. Use the assumptions above to compute the expected quantity of products and their expected unit price. \n",
    "</div>\n"
   ]
  },
  {
   "cell_type": "code",
   "execution_count": 3,
   "metadata": {},
   "outputs": [
    {
     "name": "stdout",
     "output_type": "stream",
     "text": [
      "\n"
     ]
    },
    {
     "data": {
      "text/html": [
       "<table border=\"1\" class=\"dataframe\">\n",
       "  <thead>\n",
       "    <tr style=\"text-align: right;\">\n",
       "      <th>Average number of units</th>\n",
       "    </tr>\n",
       "  </thead>\n",
       "  <tbody>\n",
       "    <tr>\n",
       "      <td>75000.0</td>\n",
       "    </tr>\n",
       "  </tbody>\n",
       "</table>"
      ],
      "text/plain": [
       "<IPython.core.display.HTML object>"
      ]
     },
     "metadata": {},
     "output_type": "display_data"
    },
    {
     "name": "stdout",
     "output_type": "stream",
     "text": [
      "\n",
      "\n"
     ]
    },
    {
     "data": {
      "text/html": [
       "<table border=\"1\" class=\"dataframe\">\n",
       "  <thead>\n",
       "    <tr style=\"text-align: right;\">\n",
       "      <th>Average price [$]</th>\n",
       "    </tr>\n",
       "  </thead>\n",
       "  <tbody>\n",
       "    <tr>\n",
       "      <td>9.666667</td>\n",
       "    </tr>\n",
       "  </tbody>\n",
       "</table>"
      ],
      "text/plain": [
       "<IPython.core.display.HTML object>"
      ]
     },
     "metadata": {},
     "output_type": "display_data"
    },
    {
     "name": "stdout",
     "output_type": "stream",
     "text": [
      "\n"
     ]
    }
   ],
   "source": [
    "# CALCULATE AVERAGE NUMBER OF UNITS AND AVERAGE PRICE PER UNIT\n",
    "avgUnitsNumber = np.mean([50000, 75000, 100000])\n",
    "avgUnitPrice = np.mean([11.0, 10.0, 8.0])\n",
    "\n",
    "# PRINT THE INFORMATIONS\n",
    "displayTable(np.matrix(avgUnitsNumber), [\"Average number of units\"], \"\")\n",
    "displayTable(np.matrix(avgUnitPrice), [\"Average price [$]\"], \"\")"
   ]
  },
  {
   "cell_type": "markdown",
   "metadata": {},
   "source": [
    "## 2.2. Unit Cost\n",
    "\n",
    "Another uncertain variable is Unit Cost. In our illustrative example, we assume that your firm's production manager advises you that unit costs may be anywhere from \\$5.50 to \\$7.50, with a most likely expected cost of \\$6.50. In this case, the most likely cost can be considered as the average cost.\n",
    "\n",
    "## 2.3. A Flawed Model: using averages to represent our random variables\n",
    "Our next step is to identify uncertain functions -- also called functions of a random variable.  Recall that Net Profit is calculated as $Net Profit = Sales Volume * (Selling Price - Unit cost) - Fixed costs$.  However, Sales Volume, Selling Price and Unit Cost are all uncertain variables, so Net Profit is an uncertain function.\n",
    "\n",
    "The simplest model to predict the Net Profit is using average of sales volume, average of selling price and average of unit cost for calculating. So, if only consider averages, we can say that the $Net Profit = 75,000*(9.66666666 - 6.5) - 120,000 \\sim 117,500$.\n",
    "\n",
    "However, as [Dr. Sam Savage](http://web.stanford.edu/~savage/faculty/savage/) warns, \"Plans based on average assumptions will be wrong on average.\" The calculated result is far from the actual value: indeed, the **true average Net Profit** is roughly  \\$93,000, as we will see later in the example."
   ]
  },
  {
   "cell_type": "markdown",
   "metadata": {},
   "source": [
    "### Question 2\n",
    "#### Question 2.1\n",
    "<div class=\"alert alert-info\">\n",
    "Write a function named `calNetProfit` to calculate the Net Profit using the average of sales volume, the average of selling price and the average of unit cost.\n",
    "</div>"
   ]
  },
  {
   "cell_type": "code",
   "execution_count": 4,
   "metadata": {},
   "outputs": [],
   "source": [
    "# FUNCTION TO CALCULATE THE NET PROFIT USING AVERAGES\n",
    "def calNetProfit(unitsNumber, unitPrice, unitCost, fixedCost):\n",
    "    return unitsNumber * (unitPrice - unitCost) - fixedCost"
   ]
  },
  {
   "cell_type": "code",
   "execution_count": 5,
   "metadata": {},
   "outputs": [
    {
     "name": "stdout",
     "output_type": "stream",
     "text": [
      "\n"
     ]
    },
    {
     "data": {
      "text/html": [
       "<table border=\"1\" class=\"dataframe\">\n",
       "  <thead>\n",
       "    <tr style=\"text-align: right;\">\n",
       "      <th>Net profit [$]</th>\n",
       "    </tr>\n",
       "  </thead>\n",
       "  <tbody>\n",
       "    <tr>\n",
       "      <td>117500.0</td>\n",
       "    </tr>\n",
       "  </tbody>\n",
       "</table>"
      ],
      "text/plain": [
       "<IPython.core.display.HTML object>"
      ]
     },
     "metadata": {},
     "output_type": "display_data"
    },
    {
     "name": "stdout",
     "output_type": "stream",
     "text": [
      "\n"
     ]
    }
   ],
   "source": [
    "# CALCULATE AVERAGE COST PER UNIT AND TOTAL FIXED COST\n",
    "avgUnitCost = 6.50\n",
    "fixedCost = 120000\n",
    "\n",
    "# CALCULATE THE NETPROFIT\n",
    "netProfit = calNetProfit(avgUnitsNumber, avgUnitPrice, avgUnitCost, fixedCost)\n",
    "\n",
    "# PRINT INFORMATIONS\n",
    "displayTable(np.matrix(netProfit), [\"Net profit [$]\"], \"\")"
   ]
  },
  {
   "cell_type": "markdown",
   "metadata": {},
   "source": [
    "#### Question 2.2\n",
    "<div class=\"alert alert-info\">\n",
    "Verify the warning message of Dr. Sam Savage by calculating the error of our estimated Net Profit using averages only. Recall that the true value is roughly \\$93,000, so we are interested in:\n",
    "<br>\n",
    "$$ error = \\frac{your\\_value - true\\_value}{true\\_value}$$\n",
    "<br>\n",
    "Note also we are interested in displaying the error as a percentage.\n",
    "<br>\n",
    "Looking at the error we make, do you think that we can use the current model that only relies on averages?\n",
    "</div>"
   ]
  },
  {
   "cell_type": "code",
   "execution_count": 6,
   "metadata": {},
   "outputs": [],
   "source": [
    "# FUNCTION TO CALCULATE THE ERROR PERCENTAGE\n",
    "def calculateError(calcValue, trueValue):\n",
    "    \n",
    "    # CALCULATE\n",
    "    error = (calcValue - trueValue) / (trueValue)\n",
    "    \n",
    "    return error"
   ]
  },
  {
   "cell_type": "code",
   "execution_count": 7,
   "metadata": {},
   "outputs": [
    {
     "name": "stdout",
     "output_type": "stream",
     "text": [
      "\n"
     ]
    },
    {
     "data": {
      "text/html": [
       "<table border=\"1\" class=\"dataframe\">\n",
       "  <thead>\n",
       "    <tr style=\"text-align: right;\">\n",
       "      <th>Net profit error [%]</th>\n",
       "    </tr>\n",
       "  </thead>\n",
       "  <tbody>\n",
       "    <tr>\n",
       "      <td>26.344086</td>\n",
       "    </tr>\n",
       "  </tbody>\n",
       "</table>"
      ],
      "text/plain": [
       "<IPython.core.display.HTML object>"
      ]
     },
     "metadata": {},
     "output_type": "display_data"
    },
    {
     "name": "stdout",
     "output_type": "stream",
     "text": [
      "\n"
     ]
    }
   ],
   "source": [
    "# CALCULATE ERROR\n",
    "error = calculateError(netProfit, 93000)\n",
    "\n",
    "# SHOW\n",
    "displayTable(np.matrix(error * 100), [\"Net profit error [%]\"], \"\")"
   ]
  },
  {
   "cell_type": "markdown",
   "metadata": {},
   "source": [
    "<div class=\"alert alert-success\">\n",
    "As we clearly see from the result, the error is very high. An error that oscillates around the 26% is not a good index for our model: in this case, our result is totally in line with the Sam Savage's warning. We need another solution for our model. \n",
    "</div>"
   ]
  },
  {
   "cell_type": "markdown",
   "metadata": {},
   "source": [
    "## 2.4. Using the Monte Carlo Simulation method to improve our model\n",
    "As discussed before, the selling price and selling volume both depend on the state of the market scenario (slow/normal/hot). So, the net profit is the result of two random variables: `market scenario` (which in turn determines `sales volumes` and `selling price`) and `unit cost`.\n",
    "\n",
    "Now, let's assume (this is an *a-priori* assumption we make) that `market scenario` follows a discrete, uniform distribution and that `unit cost` also follows a uniform distribution. Then, we can compute directly the values for selling price and selling volumes based on the outcome of the random variable `market scenario`, as shown in Section 2.1.\n",
    "\n",
    "From these a-priori distributions, in each run (or trial) of our Monte Carlo simulation, we can generate the sample value for each random variable and use it to calculate the Net Profit. The more simulation runs, the more accurate our results will be. For example, if we run the simulation 100,000 times, the average net profit will amount to roughly \\$92,600. Every time we run the simulation, a different prediction will be output: the average of such predictions will consistently be less than \\$117,500, which we predicted using averages only.\n",
    "\n",
    "Note also that in this simple example, we generate values for the `market scenario` and `unit cost` independently: we consider them to be **independent random variables**. This means that the eventual (and realistic!) correlation between the `market scenario` and `unit cost` variables is ignored. Later, we will learn how to be more precise and account for dependency between random variables.\n"
   ]
  },
  {
   "cell_type": "markdown",
   "metadata": {},
   "source": [
    "### Question 3\n",
    "#### Question 3.1\n",
    "<div class=\"alert alert-info\">\n",
    "Write a function named `get_sales_volume_price` that returns the sales volume and price based on the market scenario. In particular, the scenario can get one of three values:\n",
    "<ul>\n",
    "  <li>0: Slow market</li>\n",
    "  <li>1: Normal market</li>\n",
    "  <li>2: Hot market</li>\n",
    "</ul>  \n",
    "\n",
    "The return value is a tuple in the form: `(sales_volume, price)`\n",
    "</div>"
   ]
  },
  {
   "cell_type": "code",
   "execution_count": 8,
   "metadata": {},
   "outputs": [],
   "source": [
    "# FUNCTION TO GET THE UNITS AND THE PRICE\n",
    "# BASED ON THE MARKET SCENARIO\n",
    "def getSalesVolumePrice(scenario):\n",
    "    \n",
    "    # SLOW MARKET\n",
    "    if scenario == 0:\n",
    "        return (50000, 11.0)\n",
    "    \n",
    "    # NORMAL MARKET\n",
    "    elif scenario == 1:\n",
    "        return (75000, 10.0)\n",
    "    \n",
    "    # HOT MARKET\n",
    "    elif scenario == 2:\n",
    "        return (100000, 8.0)\n",
    "    \n",
    "    else:\n",
    "        print(\"Unsupported scenario value!\")\n",
    "        return (-1, -1.0)"
   ]
  },
  {
   "cell_type": "markdown",
   "metadata": {},
   "source": [
    "#### Question 3.2\n",
    "<div class=\"alert alert-info\">\n",
    "Run 100,000 Monte Carlo simulations and calculate the average net profit they produce. Then, compare the result to the \"average model\" we used in the previous questions (the one we called \"flawed\" model). Put your comments about the discrepancies between a simplistic model, and the more accurate MCS approach.<br>\n",
    "<br>\n",
    "Note that in each iteration, the `unit_cost` and `market_scenario` are generated according to their distributions. Also, recall what we have seen in Section 2.2: your firm account manager helped you with some research, to determine the variability of your random variables.<br>\n",
    "<br>\n",
    "<div class=\"label label-success\">\n",
    "HINT\n",
    "</div>\n",
    "<br>\n",
    "Function `uniform(a,b)` in module `random` generates a number $a<=c<=b$, which is drawn from a uniform distribution.  \n",
    "\n",
    "Function `randint(a,b)` helps you generating an integer number $a<=c<=b$.\n",
    "</div>"
   ]
  },
  {
   "cell_type": "code",
   "execution_count": 9,
   "metadata": {},
   "outputs": [],
   "source": [
    "# FUNCTION TO RUN THE MONTE CARLO SIMULATION\n",
    "def mcs(numSimulations, fixedCost, costMin, costMax, seedValue):\n",
    "    \n",
    "    # INIT\n",
    "    tests = []\n",
    "    random.seed(seedValue)\n",
    "    \n",
    "    # SIMULATIONS LOOP\n",
    "    for i in range(0, numSimulations):\n",
    "\n",
    "        # RANDOM PARAMETERS\n",
    "        unitCost = random.uniform(costMin, costMax)\n",
    "        marketScenario = random.randint(0, 2)\n",
    "\n",
    "        # GET THE UNITS NUMBER AND PRICE FOR THE SELECTED SCENARIO\n",
    "        unitsNumber, unitPrice = getSalesVolumePrice(marketScenario)\n",
    "\n",
    "        # CALCULATE NET PROFIT\n",
    "        netProfit = calNetProfit(unitsNumber, unitPrice, unitCost, fixedCost)\n",
    "        tests.append(netProfit)\n",
    "    \n",
    "    # CALCULATE AVERAGE\n",
    "    avgNetProfit = np.mean(tests)\n",
    "    \n",
    "    return avgNetProfit"
   ]
  },
  {
   "cell_type": "code",
   "execution_count": 43,
   "metadata": {},
   "outputs": [
    {
     "name": "stdout",
     "output_type": "stream",
     "text": [
      "\n"
     ]
    },
    {
     "data": {
      "text/html": [
       "<table border=\"1\" class=\"dataframe\">\n",
       "  <thead>\n",
       "    <tr style=\"text-align: right;\">\n",
       "      <th>Average net profit [$]</th>\n",
       "    </tr>\n",
       "  </thead>\n",
       "  <tbody>\n",
       "    <tr>\n",
       "      <td>92700.544808</td>\n",
       "    </tr>\n",
       "  </tbody>\n",
       "</table>"
      ],
      "text/plain": [
       "<IPython.core.display.HTML object>"
      ]
     },
     "metadata": {},
     "output_type": "display_data"
    },
    {
     "name": "stdout",
     "output_type": "stream",
     "text": [
      "\n",
      "\n"
     ]
    },
    {
     "data": {
      "text/html": [
       "<table border=\"1\" class=\"dataframe\">\n",
       "  <thead>\n",
       "    <tr style=\"text-align: right;\">\n",
       "      <th>Net profit error [%]</th>\n",
       "    </tr>\n",
       "  </thead>\n",
       "  <tbody>\n",
       "    <tr>\n",
       "      <td>-0.321995</td>\n",
       "    </tr>\n",
       "  </tbody>\n",
       "</table>"
      ],
      "text/plain": [
       "<IPython.core.display.HTML object>"
      ]
     },
     "metadata": {},
     "output_type": "display_data"
    },
    {
     "name": "stdout",
     "output_type": "stream",
     "text": [
      "\n"
     ]
    }
   ],
   "source": [
    "# RUN MONTE CARLO SIMULATION\n",
    "netProfit = mcs (\n",
    "    numSimulations = 100000,             # the number of simulation to compute\n",
    "    fixedCost = 120000,                  # the total fixed cost\n",
    "    costMin = 5.5,                       # minumum unit cost\n",
    "    costMax = 7.5,                       # maximum unit cost\n",
    "    seedValue = datetime.now()           # seed value for the function 'random.seed' called inside the mcs\n",
    ")\n",
    "\n",
    "# CALCULATE ERROR\n",
    "error = calculateError(netProfit, 93000)\n",
    "\n",
    "# SHOW\n",
    "displayTable(np.matrix(netProfit), [\"Average net profit [$]\"], \"\")\n",
    "displayTable(np.matrix(error * 100), [\"Net profit error [%]\"], \"\")"
   ]
  },
  {
   "cell_type": "markdown",
   "metadata": {},
   "source": [
    "<div class=\"alert alert-success\">\n",
    "Thanks to the Monte Carlo method the profit error is extremely better than before! The error stays (in absolute value) around the 0.2%-0.3%, that compared to the 26% obtained with the simple averages, is better without any doubt.<br>\n",
    "<br>\n",
    "We can now try to see how the results react to the number of simulation of the Monte Carlo method, which is the main hyperparameter we need to set before running the simulation.<br>\n",
    "It's **important to notice** that we *don't* need to run *n* times the Monte Carlo simulation, with a value that grows from 1 to *n*. The results obtained with the previous iterations (for example the iteration number 5) can be reused for the next iteration (for example the iteration number 6): it's enough to add the netProfit to an accumulator and then compute just the new mean at each iteration. Let's see the code:\n",
    "</div>"
   ]
  },
  {
   "cell_type": "code",
   "execution_count": 11,
   "metadata": {},
   "outputs": [
    {
     "data": {
      "image/png": "[encoded data removed]",
      "text/plain": [
       "<matplotlib.figure.Figure at 0x7f9b701affd0>"
      ]
     },
     "metadata": {},
     "output_type": "display_data"
    }
   ],
   "source": [
    "profits = []\n",
    "errors = []\n",
    "numIterations = 500\n",
    "\n",
    "# RUN MONTE CARLO SIMULATION FOR A LOT OF TIMES WITH DIFFERENT NUMBER OF SIMULATIONS\n",
    "for i in range(1, numIterations):\n",
    "    \n",
    "    # RUN MONTE CARLO SIMULATION SINGLE TIME\n",
    "    netProfit = mcs (\n",
    "        numSimulations = 1,                  # the number of simulation to compute (in this case just one!)\n",
    "        fixedCost = 120000,                  # the total fixed cost\n",
    "        costMin = 5.5,                       # minumum unit cost\n",
    "        costMax = 7.5,                       # maximum unit cost\n",
    "        seedValue = datetime.now()           # seed value for the function 'random.seed' called inside the mcs\n",
    "    )\n",
    "    \n",
    "    # APPEND THE SINGLE TEST ('netProfit') TO THE 'tests' ARRAY\n",
    "    profits.append(netProfit)\n",
    "    \n",
    "    # CALCULATE ERROR ON THE 'INCREMENTAL' TESTS ARRAY\n",
    "    errors.append(calculateError(np.mean(profits), 93000))\n",
    "\n",
    "# PLOT THE RESULTS\n",
    "fig, ax1 = plt.subplots(figsize=(15,10))\n",
    "ax2 = ax1.twinx()\n",
    "ax1.plot([x for x in range(0, numIterations-1)], errors, color=\"darkmagenta\")\n",
    "ax1.set_ylabel(\"Net profit error [%]\")\n",
    "ax1.set_xlabel(\"Iterations #\")\n",
    "ax2.plot([x for x in range(0, numIterations-1)], profits, color=\"darkorange\")\n",
    "ax2.set_ylabel(\"Net profit [$]\")\n",
    "ax2.set_ylim(-1000000, 1500000)\n",
    "plt.show()"
   ]
  },
  {
   "cell_type": "markdown",
   "metadata": {},
   "source": [
    "<div class=\"alert alert-success\">\n",
    "It's clear from the plot that the result immediately converges to an error! Around 1000 iterations are enough for the Monte Carlo Simulation (on this dataset) to stabilize on the error value that we've obtained with a lot more loops (100000) in the previous test.\n",
    "</div>"
   ]
  },
  {
   "cell_type": "markdown",
   "metadata": {},
   "source": [
    "\n",
    "# 3. A brief summary of the Monte Carlo Simulation (MCS) technique\n",
    "\n",
    "- A MCS allows several inputs to be used at the same time to compute the probability distribution of one or more outputs\n",
    "- Different types of probability distributions can be assigned to the inputs of the model, depending on any *a-priori* information that is available. When the distribution is completely unknown, a common technique is to use a distribution computed by finding the best fit to the data you have\n",
    "- The MCS method is also called a **stochastic method** because it uses random variables. Note also that the general assumption is for input random variables to be independent from each other. When this is not the case, there are techniques to account for correlation between random variables.\n",
    "- A MCS generates the output as a range instead of a fixed value and shows how likely the output value is to occur in that range. In other words, the model outputs a probability distribution."
   ]
  },
  {
   "cell_type": "markdown",
   "metadata": {},
   "source": [
    "# 4. Common distributions used in MCS\n",
    "In what follows, we summarize the most common probability distributions that are used as *a-priori* distributions for input random variables:\n",
    "\n",
    "- ***Normal/Gaussian Distribution***: this is a continuous distribution applied in situations where the mean and the standard deviation of a given input variable are given, and the mean represents the most probable value of the variable. In other words, values \"near\" the mean are most likely to occur.  This is symmetric distribution, and it is not bounded in its co-domain. It is very often used to  describe **natural phenomena, such as people’s heights, inflation rates, energy prices**, and so on and so forth. An illustration of a normal distribution is given below:\n",
    "![normal_distribution](https://upload.wikimedia.org/wikipedia/commons/thumb/7/74/Normal_Distribution_PDF.svg/320px-Normal_Distribution_PDF.svg.png)\n",
    "\n",
    "- ***Lognormal Distribution***: this is a distribution which is appropriate for variables taking values in the range $[0, \\infty]$. Values are positively skewed, not symmetric like a normal distribution.  Examples of variables described by some lognormal distributions include, for example, **real estate property values, stock prices, and oil reserves**. An illustration of a lognormal distribution is given below:\n",
    "![log_normal_distribution](https://upload.wikimedia.org/wikipedia/commons/thumb/a/ae/PDF-log_normal_distributions.svg/320px-PDF-log_normal_distributions.svg.png) \n",
    "\n",
    "- ***Triangular Distribution***: this is a continuous distribution with fixed minimum and maximum values. It is bounded by the minimum and maximum values and can be either symmetrical (the most probable value = mean = median) or asymmetrical. Values around the most likely value (e.g. the mean) are more likely to occur.  Variables that could be described by a triangular distribution include, for example, **past sales history per unit of time and inventory levels**. An illustration of a triangular distribution is given below:\n",
    "![](https://upload.wikimedia.org/wikipedia/commons/thumb/4/45/Triangular_distribution_PMF.png/320px-Triangular_distribution_PMF.png)\n",
    "\n",
    "- ***Uniform Distribution***: this is a continuous distribution bounded by known minimum and maximum values. In contrast to the triangular distribution, the likelihood of occurrence of the values between the minimum and maximum is the same. In other words, all values have an equal chance of occurring, and the distribution is simply characterized by the minimum and maximum values. Examples of variables that can be described by a uniform distribution include **manufacturing costs or future sales revenues for a new product**. An illustration of the uniform distribution is given below:\n",
    "![](https://upload.wikimedia.org/wikipedia/commons/thumb/9/96/Uniform_Distribution_PDF_SVG.svg/320px-Uniform_Distribution_PDF_SVG.svg.png)\n",
    "\n",
    "- ***Exponential Distribution***: this is a continuous distribution used to model **the time that pass between independent occurrences**, provided that the rate of occurrences is known. An example of the exponential distribution is given below:\n",
    "![](https://upload.wikimedia.org/wikipedia/commons/thumb/e/ec/Exponential_pdf.svg/320px-Exponential_pdf.svg.png)\n",
    "\n",
    "- ***Discrete Distribution*** : for this kind of distribution, the \"user\" defines specific values that may occur and the likelihood of each of them.  An example might be the **results of a lawsuit: 20% chance of positive verdict, 30% change of negative verdict, 40% chance of settlement, and 10% chance of mistrial**.\n"
   ]
  },
  {
   "cell_type": "markdown",
   "metadata": {},
   "source": [
    "# 5. A real use case: estimating the financial risk of a portfolio of stocks\n",
    "We hope that by now you have a good understanding about Monte Carlo simulation. Next, we apply this method to a real use case: *financial risk estimation*.\n",
    "\n",
    "Imagine that you are an investor on the stock market. You plan to buy some stocks and you want to estimate the maximum loss you could incur after two weeks of investing. This is the quantity that the financial statistic \"Value at Risk\" (VaR) seeks to measure. [VaR](https://en.wikipedia.org/wiki/Value_at_risk) is defined as a measure of investment risk that can be used as a reasonable estimate of the maximum probable loss for a value of an investment portfolio, over a particular time period. A VaR statistic depends on three parameters: a portfolio, a time period, and a confidence level. A VaR of 1 million dollars with a 95% confidence level over two weeks, indicates the belief that the portfolio stands only a 5% chance of losing more than 1 million dollars over two weeks. VaR has seen widespread use across financial services organizations. This statistic plays a vital role in determining how much cash investors must hold to meet the credit ratings that they seek. In addition, it is also used to understand the risk characteristics of large portfolios: it is a good idea to compute the VaR before executing trades, such that it can help take informed decisions about investments. \n",
    "\n",
    "Our goal is calculating VaR of two weeks interval with 95% confidence level and the associated [VaR confidence interval](http://www.investopedia.com/ask/answers/041615/whats-difference-between-confidence-level-and-confidence-interval-value-risk-var.asp).\n",
    "\n",
    "\n",
    "## 5.1. Terminology\n",
    "In this use case, we will use some terms that might require a proper definition, given the domain. This is what we call the *Domain Knowledge*.\n",
    "\n",
    "- **Instrument**: A tradable asset, such as a bond, loan, option, or stock investment. At any particular time, an instrument is considered to have a value, which is the price for which it can be sold. In the use case of this notebook, instruments are stock investments.\n",
    "- **Portfolio**: A collection of instruments owned by a financial institution. \n",
    "- **Return**: The change in an instrument or portfolio’s value over a time period. \n",
    "- **Loss**: A negative return. \n",
    "- **Index**: An imaginary portfolio of instruments. For example, the NASDAQ Composite index includes about 3,000 stocks and similar instruments for major US and international companies. \n",
    "- **Market factor**: A value that can be used as an indicator of macro aspects of the financial climate at a particular time. For example, the value of an index, the Gross Domestic Product of the United States, or the exchange rate between the dollar and the euro. We will often refer to market factors as just factors.\n",
    "\n",
    "## 5.2. The context of our use case\n",
    "We have a list of instruments that we plan to invest in. The historical data of each instrument has been collected for you. For simplicity, assume that the returns of instruments at a given time, depend on 4 market factors only: \n",
    "\n",
    "- GSPC value\n",
    "- IXIC value \n",
    "- The return of crude oil\n",
    "- The return of treasury bonds\n",
    "\n",
    "Our goal is building a model to predict the loss after two weeks' time interval with confidence level set to 95%.\n",
    "\n",
    "As a side note, it is important to realize that the approach presented in this Notebook is a simplified version of what would happen in a real Financial firm. For example, the returns of instruments at a given time often depend on more than 4 market factors only! Moreover, the choice of what constitute an appropriate market factor is an art!\n",
    "\n"
   ]
  },
  {
   "cell_type": "markdown",
   "metadata": {},
   "source": [
    "## 5.3. The Data\n",
    "The stock data can be downloaded (or scraped) from Yahoo! by making a series of REST calls. The data includes multiple files. Each file contains the historical information of each instrument that we want to invest in. The data is in the following format (with some samples):\n",
    "```\n",
    "Date, Open, High, Low, Close, Volume, Adj Close\n",
    "2016-01-22,66.239998,68.07,65.449997,67.860001,137400,67.860001\n",
    "2016-01-21,65.410004,66.18,64.459999,65.050003,148000,65.050003\n",
    "2016-01-20,64.279999,66.32,62.77,65.389999,141300,65.389999\n",
    "2016-01-19,67.720001,67.989998,64.720001,65.379997,178400,65.379997\n",
    "```\n",
    "\n",
    "The data of GSPC and IXIC values (our two first market factors) are also available on Yahoo! and use the very same format. \n",
    "\n",
    "The crude oil and treasure bonds data is collected from investing.com, and has a different format, as shown below (with some samples):\n",
    "```\n",
    "Date    Price   Open    High    Low     Vol.    Change %\n",
    "Jan 25, 2016    32.17   32.36   32.44   32.10   -       -0.59%\n",
    "Jan 24, 2016    32.37   32.10   32.62   31.99   -       0.54%\n",
    "Jan 22, 2016    32.19   29.84   32.35   29.53   -       9.01%\n",
    "Jan 21, 2016    29.53   28.35   30.25   27.87   694.04K 11.22%\n",
    "Jan 20, 2016    26.55   28.33   28.58   26.19   32.11K  -6.71%\n",
    "Jan 19, 2016    28.46   29.20   30.21   28.21   188.03K -5.21%\n",
    "```\n",
    "\n",
    "In our use case, the factors' data will be used jointly to build a statistical model: as a consequence, we first need to preprocess the data to proceed.\n",
    "\n",
    "## 5.4. Data preprocessing\n",
    "In this Notebook, all data files have been downloaded for you, such that you can focus on pre-processing. Next, we will:\n",
    "\n",
    "  - Read the factor data files which are in two different formats, process and merge them together\n",
    "  - Read the stock data and pre-process it\n",
    "  - Trim all data into a specific time region\n",
    "  - Fill in the missing values\n",
    "  - Generate the data of returns in each two weeks' time interval window\n",
    "  \n",
    "### Factor data pre-processing\n",
    "\n",
    "We need two functions to read and parse data from Yahoo! and Investing.com respectively. We are interested only in information about the time and the corresponding returns of a factor or an instrument: as a consequence, we will project away many columns of our RAW data, and keep only the information we are interested in.\n",
    "\n",
    "The 3000-instrument and the 4-factor history are small enough to be read and processed locally: we do not need to use the power of parallel computing to proceed. Note that this is true also for larger cases with hundreds of thousands of instruments and thousands of factors. The need for a distributed system like Spark comes in when actually **running** the Monte Carlo simulations, which can require massive amounts of computation on each instrument. "
   ]
  },
  {
   "cell_type": "markdown",
   "metadata": {},
   "source": [
    "### Question 4\n",
    "#### Question 4.1\n",
    "<div class=\"alert alert-info\">\n",
    "Write a function named `readInvestingDotComHistory` to parse data from investing.com based on the format specified above (see Section 5.3). Recall that we use two factors here: one that is related to the price of crude oil, one that is related to some specific US bonds. \n",
    "\n",
    "<br>\n",
    "\n",
    "Print the first 5 entries of the first factor (crude oil price) in the parsed data.\n",
    "\n",
    "<br>\n",
    "\n",
    "Note that we are only interested in the date and price of stocks.<br>\n",
    "<br>\n",
    "<div class=\"label label-success\">HINT</div>  \n",
    "You can parse a string to `datetime` object by using the function `strptime(<string>, <dtime_format>)`. In this case, the datetime format is `\"%b %d, %Y\"`. For more information, please follow this [link](https://docs.python.org/2/library/datetime.html#strftime-and-strptime-behavior).\n",
    "</div>"
   ]
  },
  {
   "cell_type": "markdown",
   "metadata": {},
   "source": [
    "In the next cell, we simply copy data from our HDFS cluster (that contains everything we need for this Notebook) to the instance (a Docker container) running your Notebook. This means that you will have \"local\" data that you can process without using Spark. Note the folder location: find and verify that you have correctly downloaded the files!"
   ]
  },
  {
   "cell_type": "code",
   "execution_count": 12,
   "metadata": {},
   "outputs": [],
   "source": [
    "! [ -d monte-carlo-risk ] || (echo \"Downloading prepared data from HDFS. Please wait...\" ; hdfs dfs -copyToLocal /datasets/monte-carlo-risk . ; echo \"Done!\";)"
   ]
  },
  {
   "cell_type": "code",
   "execution_count": 13,
   "metadata": {},
   "outputs": [],
   "source": [
    "baseFolder = \"monte-carlo-risk/\"\n",
    "factorsFolder = baseFolder + \"factors/\"\n",
    "\n",
    "# FUNCTION TO READ THE .tsv FILES\n",
    "def readInvestingDotComHistory(fname):\n",
    "    \n",
    "    def processLine(line):\n",
    "        cols = line.split(\"\\t\")\n",
    "        date = datetime.strptime(cols[0], \"%b %d, %Y\")\n",
    "        value = float(cols[1])\n",
    "        return (date, value)\n",
    "    \n",
    "    with open(fname) as f:\n",
    "        content = f.readlines()[:0:-1] # reverse order (ascending date)\n",
    "        return list(map(processLine, content))"
   ]
  },
  {
   "cell_type": "code",
   "execution_count": 14,
   "metadata": {},
   "outputs": [
    {
     "name": "stdout",
     "output_type": "stream",
     "text": [
      "First 5 and Last 5 results:\n"
     ]
    },
    {
     "data": {
      "text/html": [
       "<table style=\"display:inline\" border=\"1\" class=\"dataframe\">\n",
       "  <thead>\n",
       "    <tr style=\"text-align: right;\">\n",
       "      <th>Date</th>\n",
       "      <th>Close price</th>\n",
       "    </tr>\n",
       "  </thead>\n",
       "  <tbody>\n",
       "    <tr>\n",
       "      <td>2006-01-26</td>\n",
       "      <td>66.26</td>\n",
       "    </tr>\n",
       "    <tr>\n",
       "      <td>2006-01-27</td>\n",
       "      <td>67.76</td>\n",
       "    </tr>\n",
       "    <tr>\n",
       "      <td>2006-01-30</td>\n",
       "      <td>68.35</td>\n",
       "    </tr>\n",
       "    <tr>\n",
       "      <td>2006-01-31</td>\n",
       "      <td>67.92</td>\n",
       "    </tr>\n",
       "    <tr>\n",
       "      <td>2006-02-01</td>\n",
       "      <td>66.56</td>\n",
       "    </tr>\n",
       "  </tbody>\n",
       "</table style=\"display:inline\">&nbsp&nbsp&nbsp&nbsp&nbsp<table style=\"display:inline\" border=\"1\" class=\"dataframe\">\n",
       "  <thead>\n",
       "    <tr style=\"text-align: right;\">\n",
       "      <th>Date</th>\n",
       "      <th>Close price</th>\n",
       "    </tr>\n",
       "  </thead>\n",
       "  <tbody>\n",
       "    <tr>\n",
       "      <td>2016-01-20</td>\n",
       "      <td>26.55</td>\n",
       "    </tr>\n",
       "    <tr>\n",
       "      <td>2016-01-21</td>\n",
       "      <td>29.53</td>\n",
       "    </tr>\n",
       "    <tr>\n",
       "      <td>2016-01-22</td>\n",
       "      <td>32.19</td>\n",
       "    </tr>\n",
       "    <tr>\n",
       "      <td>2016-01-24</td>\n",
       "      <td>32.37</td>\n",
       "    </tr>\n",
       "    <tr>\n",
       "      <td>2016-01-25</td>\n",
       "      <td>32.17</td>\n",
       "    </tr>\n",
       "  </tbody>\n",
       "</table style=\"display:inline\">&nbsp&nbsp&nbsp&nbsp&nbsp"
      ]
     },
     "metadata": {},
     "output_type": "display_data"
    },
    {
     "name": "stdout",
     "output_type": "stream",
     "text": [
      "\n"
     ]
    }
   ],
   "source": [
    "# LIST ALL FILES\n",
    "factor1files = map(lambda fn: factorsFolder + fn, ['crudeoil.tsv', 'us30yeartreasurybonds.tsv'])\n",
    "\n",
    "# PROCESS EACH FILE\n",
    "factors1 = [readInvestingDotComHistory(f) for f in factor1files]\n",
    "\n",
    "# PRINT THE FIRST AND LAST 5 RESULTS\n",
    "displaySideBySide(factors1[0][:5], factors1[0][-5:],\n",
    "                  header=[\"Date\", \"Close price\"],\n",
    "                  title=\"First 5 and Last 5 results:\")"
   ]
  },
  {
   "cell_type": "markdown",
   "metadata": {},
   "source": [
    "Now, the data structure `factors1` is a list, containing data that pertains to two (out of a total of four) factors that influence the market, as obtained by investing.com. Each element in the list is a tuple, containing some sort of timestamp, and the value of one of the two factors discussed above. From now on, we call these elements \"**records**\" or \"**entries**\". Visually, `factors1` looks like this:\n",
    "\n",
    "| 0 (crude oil) | 1 (US bonds)|\n",
    "| --- | --- |\n",
    "| time_stamp, value | time_stamp, value |\n",
    "| ... | ... |\n",
    "| time_stamp, value | time_stamp, value |\n",
    "| ... | ... |\n"
   ]
  },
  {
   "cell_type": "markdown",
   "metadata": {},
   "source": [
    "#### Question 4.2\n",
    "<div class=\"alert alert-info\">\n",
    "Write a function named `readYahooHistory` to parse data from yahoo.com based on its format, as described in Section 5.3.  \n",
    "<ul></ul>\n",
    "Print the first 5 entries of the first factor (namely GSPC). Comment the time range of the second batch of data we use in our Notebook.  \n",
    "<ul></ul>\n",
    "\n",
    "Note that we are only interested in the date and price of stocks.<br>\n",
    "<br>\n",
    "<div class=\"label label-danger\">NOTE</div> The datetime format now is in a different format than the previous one.<br>\n",
    "\n",
    "<div class=\"label label-success\">HINT</div> Use a terminal (or put the bash commands inline in your Notebook) to list filenames in your local working directory to find and have a look at your local files.\n",
    "\n",
    "</div>"
   ]
  },
  {
   "cell_type": "code",
   "execution_count": 15,
   "metadata": {},
   "outputs": [],
   "source": [
    "# FUNCTION TO READ THE .csv FILES\n",
    "def readYahooHistory(fname):\n",
    "    \n",
    "    def processLine(line):\n",
    "        cols = line.split(\",\")\n",
    "        date = datetime.strptime(cols[0], \"%Y-%m-%d\")\n",
    "        value = float(cols[4])\n",
    "        return (date, value)\n",
    "\n",
    "    with open(fname) as f:\n",
    "        content = f.readlines()[:0:-1] # reverse order (ascending date)\n",
    "        return list(map(processLine, content))"
   ]
  },
  {
   "cell_type": "code",
   "execution_count": 16,
   "metadata": {},
   "outputs": [
    {
     "name": "stdout",
     "output_type": "stream",
     "text": [
      "First 5 and Last 5 results:\n"
     ]
    },
    {
     "data": {
      "text/html": [
       "<table style=\"display:inline\" border=\"1\" class=\"dataframe\">\n",
       "  <thead>\n",
       "    <tr style=\"text-align: right;\">\n",
       "      <th>Date</th>\n",
       "      <th>Close price</th>\n",
       "    </tr>\n",
       "  </thead>\n",
       "  <tbody>\n",
       "    <tr>\n",
       "      <td>1950-01-03</td>\n",
       "      <td>16.66</td>\n",
       "    </tr>\n",
       "    <tr>\n",
       "      <td>1950-01-04</td>\n",
       "      <td>16.85</td>\n",
       "    </tr>\n",
       "    <tr>\n",
       "      <td>1950-01-05</td>\n",
       "      <td>16.93</td>\n",
       "    </tr>\n",
       "    <tr>\n",
       "      <td>1950-01-06</td>\n",
       "      <td>16.98</td>\n",
       "    </tr>\n",
       "    <tr>\n",
       "      <td>1950-01-09</td>\n",
       "      <td>17.08</td>\n",
       "    </tr>\n",
       "  </tbody>\n",
       "</table style=\"display:inline\">&nbsp&nbsp&nbsp&nbsp&nbsp<table style=\"display:inline\" border=\"1\" class=\"dataframe\">\n",
       "  <thead>\n",
       "    <tr style=\"text-align: right;\">\n",
       "      <th>Date</th>\n",
       "      <th>Close price</th>\n",
       "    </tr>\n",
       "  </thead>\n",
       "  <tbody>\n",
       "    <tr>\n",
       "      <td>2016-01-15</td>\n",
       "      <td>1880.329956</td>\n",
       "    </tr>\n",
       "    <tr>\n",
       "      <td>2016-01-19</td>\n",
       "      <td>1881.329956</td>\n",
       "    </tr>\n",
       "    <tr>\n",
       "      <td>2016-01-20</td>\n",
       "      <td>1859.329956</td>\n",
       "    </tr>\n",
       "    <tr>\n",
       "      <td>2016-01-21</td>\n",
       "      <td>1868.989990</td>\n",
       "    </tr>\n",
       "    <tr>\n",
       "      <td>2016-01-22</td>\n",
       "      <td>1906.900024</td>\n",
       "    </tr>\n",
       "  </tbody>\n",
       "</table style=\"display:inline\">&nbsp&nbsp&nbsp&nbsp&nbsp"
      ]
     },
     "metadata": {},
     "output_type": "display_data"
    },
    {
     "name": "stdout",
     "output_type": "stream",
     "text": [
      "\n"
     ]
    }
   ],
   "source": [
    "# LIST ALL FILES\n",
    "factor2Files = map(lambda fn: factorsFolder + fn, ['GSPC.csv', 'IXIC.csv'])\n",
    "\n",
    "# PROCESS EACH FILE\n",
    "factors2 = [readYahooHistory(f) for f in factor2Files]\n",
    "\n",
    "# PRINT THE FIRST AND LAST 5 RESULTS\n",
    "displaySideBySide(factors2[0][:5], factors2[0][-5:],\n",
    "                  header=[\"Date\", \"Close price\"],\n",
    "                  title=\"First 5 and Last 5 results:\")"
   ]
  },
  {
   "cell_type": "markdown",
   "metadata": {},
   "source": [
    "<div class=\"alert alert-success\">\n",
    "The data obtained analyzing the *Yahoo.com* history are obviously different from the ones of *Investing.com*. The last ones start from *March 1, 1950* while the data obtained from *Investing.com* start from the 2006!<br>\n",
    "The price then, is of course very different: one starts from about 17€, while in the *Investing.com* dataset the price was about 66-67€.\n",
    "</div>"
   ]
  },
  {
   "cell_type": "markdown",
   "metadata": {},
   "source": [
    "Now, the data structure `factors2` is again list, containing data that pertains to the next two (out of a total of four) factors that influence the market, as obtained by Yahoo!. Each element in the list is a tuple, containing some sort of timestamp, and the value of one of the two factors discussed above. Visually, `factors2` looks like this:\n",
    "\n",
    "| 0 (GSPC) | 1 (IXIC)|\n",
    "| --- | --- |\n",
    "| time_stamp, value | time_stamp, value |\n",
    "| ... | ... |\n",
    "| time_stamp, value | time_stamp, value |\n",
    "| ... | ... |\n"
   ]
  },
  {
   "cell_type": "markdown",
   "metadata": {},
   "source": [
    "### Stock data pre-processing\n",
    "\n",
    "Next, we prepare the data for the instruments we consider in this Notebook (i.e., the stocks we want to invest in). "
   ]
  },
  {
   "cell_type": "markdown",
   "metadata": {},
   "source": [
    "#### Question 4.3\n",
    "\n",
    "<div class=\"alert alert-info\">\n",
    "In this Notebook, we assume that we want to invest on the first **35 stocks** out of the total **3000 stocks** present in our datasets.\n",
    "\n",
    "<ul></ul>\n",
    "\n",
    "Load and prepare all the data for the considered instruments (the first 35 stocks) which have historical information for more than 5 years. This means that all instruments with less than **5 years** of history should be removed.\n",
    "\n",
    "<br><br>\n",
    "\n",
    "<div class=\"label label-success\">HINT</div> we suggest to open a terminal window (not on your local machine, but the Notebook terminal that you can find on the Jupyter dashboard) and visually check the contents of the directories holding our dataset, if you didn't do this before! Have a look at how stock data is organized!\n",
    "\n",
    "</div>"
   ]
  },
  {
   "cell_type": "code",
   "execution_count": 17,
   "metadata": {},
   "outputs": [],
   "source": [
    "stockFolder = baseFolder + 'stocks'\n",
    "\n",
    "def processStockFile(fname):\n",
    "    try:\n",
    "        return readYahooHistory(fname)\n",
    "    except Exception as e:\n",
    "        raise e\n",
    "        return None"
   ]
  },
  {
   "cell_type": "code",
   "execution_count": 18,
   "metadata": {},
   "outputs": [],
   "source": [
    "# FUNCTION TO LOAD THE STOCK FILES\n",
    "def loadRawStocks(numFiles = 35):\n",
    "    \n",
    "    # LIST ALL FILES\n",
    "    files = [join(stockFolder, f) for f in listdir(stockFolder) if isfile(join(stockFolder, f))]\n",
    "\n",
    "    # WE INVEST ONLY 'numFiles' STOCKS\n",
    "    files = files[:numFiles]\n",
    "\n",
    "    # CONVERT EACH LINE OF EACH FILE INTO THE FORMAT (date, value)\n",
    "    rawStocks = [processStockFile(f) for f in files]\n",
    "\n",
    "    # SELECT ONLY INSTRUMENTS WITH MORE THAN 5 YEARS OF HISTORY\n",
    "    # (note: the number of business days in a year is 260)\n",
    "    nYears = 5\n",
    "    rawStocks = list(filter(lambda instrument: len(instrument) >= 260*nYears, rawStocks))\n",
    "    \n",
    "    return rawStocks"
   ]
  },
  {
   "cell_type": "code",
   "execution_count": 19,
   "metadata": {},
   "outputs": [
    {
     "name": "stdout",
     "output_type": "stream",
     "text": [
      "First 5 results:\n"
     ]
    },
    {
     "data": {
      "text/html": [
       "<table border=\"1\" class=\"dataframe\">\n",
       "  <thead>\n",
       "    <tr style=\"text-align: right;\">\n",
       "      <th>Date</th>\n",
       "      <th>Close</th>\n",
       "    </tr>\n",
       "  </thead>\n",
       "  <tbody>\n",
       "    <tr>\n",
       "      <td>1997-08-14</td>\n",
       "      <td>39.0</td>\n",
       "    </tr>\n",
       "    <tr>\n",
       "      <td>1997-08-15</td>\n",
       "      <td>42.0</td>\n",
       "    </tr>\n",
       "    <tr>\n",
       "      <td>1997-08-18</td>\n",
       "      <td>48.5</td>\n",
       "    </tr>\n",
       "    <tr>\n",
       "      <td>1997-08-19</td>\n",
       "      <td>48.0</td>\n",
       "    </tr>\n",
       "    <tr>\n",
       "      <td>1997-08-20</td>\n",
       "      <td>48.0</td>\n",
       "    </tr>\n",
       "  </tbody>\n",
       "</table>"
      ],
      "text/plain": [
       "<IPython.core.display.HTML object>"
      ]
     },
     "metadata": {},
     "output_type": "display_data"
    },
    {
     "name": "stdout",
     "output_type": "stream",
     "text": [
      "\n",
      "The number of stocks is now 29\n"
     ]
    }
   ],
   "source": [
    "# LOAD RAW STOCKS\n",
    "rawStocks = loadRawStocks()\n",
    "\n",
    "# PRINT THE FIRST 5 RESULTS\n",
    "displayTable(rawStocks[0][:5], [\"Date\", \"Close\"], \"First 5 results:\")\n",
    "\n",
    "print(\"The number of stocks is now\", len(rawStocks))"
   ]
  },
  {
   "cell_type": "markdown",
   "metadata": {},
   "source": [
    "### Time alignment for our data\n",
    "Different types of instruments may trade on different days, or the data may have missing values for other reasons, so it is important to make sure that our different histories align. First, we need to trim all of our time series to the same region in time. Then, we need to fill in missing values. To deal with time series that have missing values at the start and end dates in the time region, we simply fill in those dates with nearby values in the time region."
   ]
  },
  {
   "cell_type": "markdown",
   "metadata": {},
   "source": [
    "#### Question 4.4\n",
    "<div class=\"alert alert-info\">\n",
    "Assume that we only focus on the data from 23/01/2009 to 23/01/2014. Write a function named `trimToRegion` to select only the records in that time interval. \n",
    "\n",
    "<ul></ul>\n",
    "\n",
    "**Requirements**: after processing, each instrument $i$ has a list of records: $[r_0, r_2,...,r_{m_i}]$ such that $r_0$ and $r_{m_i}$ are assigned, respectively, the first and the last values corresponding to the extremes of the given time interval. For example: $r_0$ should contain the value at date 23/01/2009.\n",
    "</div>"
   ]
  },
  {
   "cell_type": "code",
   "execution_count": 20,
   "metadata": {},
   "outputs": [],
   "source": [
    "# FUNCTION TO TRIM THE HISTORY TO A REGION\n",
    "def trimToRegion(history, start, end):\n",
    "    \n",
    "    def isInTimeRegion(entry):\n",
    "        (date, value) = entry\n",
    "        return date >= start and date <= end\n",
    "\n",
    "    # SELECT ONLY ENTRIES IN THE TIME REGION\n",
    "    trimmed = list(filter(isInTimeRegion, history))\n",
    "\n",
    "    # IF THE DATA HAS INCORRECT TIME BOUNDARIES, ADD THE CORRECT ONES\n",
    "    if trimmed[0][0] != start:\n",
    "        trimmed.insert(0, (start, trimmed[0][1]))\n",
    "    if trimmed[-1][0] != end:\n",
    "        trimmed.append((end, trimmed[-1][1]))\n",
    "        \n",
    "    return trimmed"
   ]
  },
  {
   "cell_type": "code",
   "execution_count": 21,
   "metadata": {},
   "outputs": [
    {
     "name": "stdout",
     "output_type": "stream",
     "text": [
      "First 5 and Last 5 results for Stock0:\n"
     ]
    },
    {
     "data": {
      "text/html": [
       "<table style=\"display:inline\" border=\"1\" class=\"dataframe\">\n",
       "  <thead>\n",
       "    <tr style=\"text-align: right;\">\n",
       "      <th>Date</th>\n",
       "      <th>Close</th>\n",
       "    </tr>\n",
       "  </thead>\n",
       "  <tbody>\n",
       "    <tr>\n",
       "      <td>2009-01-23</td>\n",
       "      <td>19.549999</td>\n",
       "    </tr>\n",
       "    <tr>\n",
       "      <td>2009-01-26</td>\n",
       "      <td>19.809999</td>\n",
       "    </tr>\n",
       "    <tr>\n",
       "      <td>2009-01-27</td>\n",
       "      <td>20.090000</td>\n",
       "    </tr>\n",
       "    <tr>\n",
       "      <td>2009-01-28</td>\n",
       "      <td>21.620001</td>\n",
       "    </tr>\n",
       "    <tr>\n",
       "      <td>2009-01-29</td>\n",
       "      <td>19.820000</td>\n",
       "    </tr>\n",
       "  </tbody>\n",
       "</table style=\"display:inline\">&nbsp&nbsp&nbsp&nbsp&nbsp<table style=\"display:inline\" border=\"1\" class=\"dataframe\">\n",
       "  <thead>\n",
       "    <tr style=\"text-align: right;\">\n",
       "      <th>Date</th>\n",
       "      <th>Close</th>\n",
       "    </tr>\n",
       "  </thead>\n",
       "  <tbody>\n",
       "    <tr>\n",
       "      <td>2014-01-16</td>\n",
       "      <td>37.400002</td>\n",
       "    </tr>\n",
       "    <tr>\n",
       "      <td>2014-01-17</td>\n",
       "      <td>37.380001</td>\n",
       "    </tr>\n",
       "    <tr>\n",
       "      <td>2014-01-21</td>\n",
       "      <td>37.820000</td>\n",
       "    </tr>\n",
       "    <tr>\n",
       "      <td>2014-01-22</td>\n",
       "      <td>37.680000</td>\n",
       "    </tr>\n",
       "    <tr>\n",
       "      <td>2014-01-23</td>\n",
       "      <td>36.770000</td>\n",
       "    </tr>\n",
       "  </tbody>\n",
       "</table style=\"display:inline\">&nbsp&nbsp&nbsp&nbsp&nbsp"
      ]
     },
     "metadata": {},
     "output_type": "display_data"
    },
    {
     "name": "stdout",
     "output_type": "stream",
     "text": [
      "\n"
     ]
    }
   ],
   "source": [
    "# START DATE AND END DATE\n",
    "# (note that the data of crude oil and treasury is only available starting from 26/01/2006)\n",
    "start = datetime(year=2009, month=1, day=23)\n",
    "end = datetime(year=2014, month=1, day=23)\n",
    "\n",
    "# TEST OUR FUNCTION\n",
    "trimmedStock0  = trimToRegion(rawStocks[0], start, end)\n",
    "displaySideBySide(trimmedStock0[:5], trimmedStock0[-5:],\n",
    "                  header=[\"Date\", \"Close\"],\n",
    "                  title=\"First 5 and Last 5 results for Stock0:\")\n",
    "\n",
    "# ASSERT TESTS\n",
    "assert(trimmedStock0[0][0] == start), \"the first record must contain the price in the first day of time interval\"\n",
    "assert(trimmedStock0[-1][0] == end), \"the last record must contain the price in the last day of time interval\""
   ]
  },
  {
   "cell_type": "markdown",
   "metadata": {},
   "source": [
    "### Dealing with missing values\n",
    "We expect that we have the price of instruments and factors **in each business day**. Unfortunately, there are many missing values in our data: this means that we miss data for some days, e.g. we have data for the Monday of a certain week, but not for the subsequent Tuesday. So, we need a function that helps filling these missing values.\n",
    "\n",
    "Next, we provide to you the function to fill missing value: read it carefully!"
   ]
  },
  {
   "cell_type": "code",
   "execution_count": 22,
   "metadata": {},
   "outputs": [],
   "source": [
    "# FUNCTION TO FILL THE MISSING VALUES\n",
    "def fillInHistory(history, start, end):\n",
    "    \n",
    "    curr = history\n",
    "    filled = []\n",
    "    idx = 0\n",
    "    curDate = start\n",
    "    numEntries = len(history)\n",
    "    while curDate < end:\n",
    "        \n",
    "        # if the next entry is in the same day\n",
    "        # or the next entry is at the weekend\n",
    "        # but the curDate has already skipped it and moved to the next monday\n",
    "        # (only in that case, curr[idx + 1][0] < curDate )\n",
    "        # then move to the next entry\n",
    "        while idx + 1 < numEntries and curr[idx + 1][0] == curDate:\n",
    "            idx +=1\n",
    "\n",
    "        # only add the last value of instrument in a single day\n",
    "        # check curDate is weekday or not\n",
    "        # 0: Monday -> 5: Saturday, 6: Sunday\n",
    "        if curDate.weekday() < 5:\n",
    "            \n",
    "            filled.append((curDate, curr[idx][1]))\n",
    "            # move to the next business day\n",
    "            curDate += timedelta(days=1)\n",
    "        \n",
    "        # skip the weekends\n",
    "        elif curDate.weekday() >= 5:\n",
    "            # if curDate is Sat, skip 2 days, otherwise, skip 1 day\n",
    "            curDate += timedelta(days=(7-curDate.weekday()))\n",
    "\n",
    "    return filled"
   ]
  },
  {
   "cell_type": "markdown",
   "metadata": {},
   "source": [
    "#### Question 4.5\n",
    "<div class=\"alert alert-info\">\n",
    "Trim data of stocks and factors into the given time interval.\n",
    "</div>"
   ]
  },
  {
   "cell_type": "code",
   "execution_count": 23,
   "metadata": {},
   "outputs": [],
   "source": [
    "def loadStocks(rawStocks, allFactors, start, end):\n",
    "\n",
    "    # TRIM TO A TIME REGION AND FILL THE MISSING VALUES\n",
    "    stocks = list(map(lambda stock: fillInHistory(trimToRegion(stock, start, end), start, end), rawStocks))\n",
    "    factors = list(map(lambda stock: fillInHistory(trimToRegion(stock, start, end), start, end), allFactors))\n",
    "    \n",
    "    return stocks, factors"
   ]
  },
  {
   "cell_type": "code",
   "execution_count": 24,
   "metadata": {},
   "outputs": [
    {
     "name": "stdout",
     "output_type": "stream",
     "text": [
      "Stock0 First 5      Stock0 Last 5     Factor0 First 5   Factor0 Last 5\n"
     ]
    },
    {
     "data": {
      "text/html": [
       "<table style=\"display:inline\" border=\"1\" class=\"dataframe\">\n",
       "  <thead>\n",
       "    <tr style=\"text-align: right;\">\n",
       "      <th>Date</th>\n",
       "      <th>Close</th>\n",
       "    </tr>\n",
       "  </thead>\n",
       "  <tbody>\n",
       "    <tr>\n",
       "      <td>2009-01-23</td>\n",
       "      <td>19.549999</td>\n",
       "    </tr>\n",
       "    <tr>\n",
       "      <td>2009-01-26</td>\n",
       "      <td>19.809999</td>\n",
       "    </tr>\n",
       "    <tr>\n",
       "      <td>2009-01-27</td>\n",
       "      <td>20.090000</td>\n",
       "    </tr>\n",
       "    <tr>\n",
       "      <td>2009-01-28</td>\n",
       "      <td>21.620001</td>\n",
       "    </tr>\n",
       "    <tr>\n",
       "      <td>2009-01-29</td>\n",
       "      <td>19.820000</td>\n",
       "    </tr>\n",
       "  </tbody>\n",
       "</table style=\"display:inline\">&nbsp&nbsp&nbsp&nbsp&nbsp<table style=\"display:inline\" border=\"1\" class=\"dataframe\">\n",
       "  <thead>\n",
       "    <tr style=\"text-align: right;\">\n",
       "      <th>Date</th>\n",
       "      <th>Close</th>\n",
       "    </tr>\n",
       "  </thead>\n",
       "  <tbody>\n",
       "    <tr>\n",
       "      <td>2014-01-16</td>\n",
       "      <td>37.400002</td>\n",
       "    </tr>\n",
       "    <tr>\n",
       "      <td>2014-01-17</td>\n",
       "      <td>37.380001</td>\n",
       "    </tr>\n",
       "    <tr>\n",
       "      <td>2014-01-20</td>\n",
       "      <td>37.380001</td>\n",
       "    </tr>\n",
       "    <tr>\n",
       "      <td>2014-01-21</td>\n",
       "      <td>37.820000</td>\n",
       "    </tr>\n",
       "    <tr>\n",
       "      <td>2014-01-22</td>\n",
       "      <td>37.680000</td>\n",
       "    </tr>\n",
       "  </tbody>\n",
       "</table style=\"display:inline\">&nbsp&nbsp&nbsp&nbsp&nbsp<table style=\"display:inline\" border=\"1\" class=\"dataframe\">\n",
       "  <thead>\n",
       "    <tr style=\"text-align: right;\">\n",
       "      <th>Date</th>\n",
       "      <th>Close</th>\n",
       "    </tr>\n",
       "  </thead>\n",
       "  <tbody>\n",
       "    <tr>\n",
       "      <td>2009-01-23</td>\n",
       "      <td>46.47</td>\n",
       "    </tr>\n",
       "    <tr>\n",
       "      <td>2009-01-26</td>\n",
       "      <td>45.73</td>\n",
       "    </tr>\n",
       "    <tr>\n",
       "      <td>2009-01-27</td>\n",
       "      <td>41.58</td>\n",
       "    </tr>\n",
       "    <tr>\n",
       "      <td>2009-01-28</td>\n",
       "      <td>42.16</td>\n",
       "    </tr>\n",
       "    <tr>\n",
       "      <td>2009-01-29</td>\n",
       "      <td>41.44</td>\n",
       "    </tr>\n",
       "  </tbody>\n",
       "</table style=\"display:inline\">&nbsp&nbsp&nbsp&nbsp&nbsp<table style=\"display:inline\" border=\"1\" class=\"dataframe\">\n",
       "  <thead>\n",
       "    <tr style=\"text-align: right;\">\n",
       "      <th>Date</th>\n",
       "      <th>Close</th>\n",
       "    </tr>\n",
       "  </thead>\n",
       "  <tbody>\n",
       "    <tr>\n",
       "      <td>2014-01-16</td>\n",
       "      <td>93.96</td>\n",
       "    </tr>\n",
       "    <tr>\n",
       "      <td>2014-01-17</td>\n",
       "      <td>94.37</td>\n",
       "    </tr>\n",
       "    <tr>\n",
       "      <td>2014-01-20</td>\n",
       "      <td>93.93</td>\n",
       "    </tr>\n",
       "    <tr>\n",
       "      <td>2014-01-21</td>\n",
       "      <td>94.99</td>\n",
       "    </tr>\n",
       "    <tr>\n",
       "      <td>2014-01-22</td>\n",
       "      <td>96.73</td>\n",
       "    </tr>\n",
       "  </tbody>\n",
       "</table style=\"display:inline\">&nbsp&nbsp&nbsp&nbsp&nbsp"
      ]
     },
     "metadata": {},
     "output_type": "display_data"
    },
    {
     "name": "stdout",
     "output_type": "stream",
     "text": [
      "\n"
     ]
    }
   ],
   "source": [
    "# MERGE THE TWO FACTORS\n",
    "allFactors = factors1 + factors2\n",
    "\n",
    "# LOAD THE CLEAN STOCKS AND FACTORS\n",
    "stocks, factors = loadStocks(rawStocks, allFactors, start, end)\n",
    "\n",
    "# TEST OUR CODE\n",
    "displaySideBySide(stocks[0][:5], stocks[0][-5:], factors[0][:5], factors[0][-5:],\n",
    "                  header=[\"Date\", \"Close\"],\n",
    "                  title=\"Stock0 First 5      Stock0 Last 5      Factor0 First 5   Factor0 Last 5\")"
   ]
  },
  {
   "cell_type": "markdown",
   "metadata": {},
   "source": [
    "Recall that Value at Risk (VaR) deals with **losses over a particular time horizon**. We are not concerned with the absolute prices of instruments, but how those prices **change over** a given period of time. In our project, we will set that length to two weeks: we use the sliding window method to transform time series of prices into an overlapping sequence of price change over two-week intervals.\n",
    "\n",
    "The figure below illustrates this process. The returns of market factors after each two-week interval is calculated in the very same way.\n",
    "\n",
    "![](https://dl.dropboxusercontent.com/s/r9ucsicichb6gjh/two-week-time-interval.svg)"
   ]
  },
  {
   "cell_type": "code",
   "execution_count": 25,
   "metadata": {},
   "outputs": [],
   "source": [
    "def buildWindow(seq, k=2):\n",
    "    \"Returns a sliding window (of width k) over data from iterable data structures\"\n",
    "    \"   s -> (s0,s1,...s[k-1]), (s1,s2,...,sk), ...                   \"\n",
    "    it = iter(seq)\n",
    "    result = tuple(islice(it, k))\n",
    "    if len(result) == k:\n",
    "        yield result  \n",
    "    for elem in it:\n",
    "        result = result[1:] + (elem,)\n",
    "        yield result"
   ]
  },
  {
   "cell_type": "markdown",
   "metadata": {},
   "source": [
    "#### Question 4.6\n",
    "<div class=\"alert alert-info\">\n",
    "Compute the returns of the stocks after each two-week time window.\n",
    "</div>"
   ]
  },
  {
   "cell_type": "code",
   "execution_count": 26,
   "metadata": {},
   "outputs": [],
   "source": [
    "# FUNCTION TO CALCULATE THE RETURN FOR A TIME WINDOW\n",
    "def calculateReturn(window):\n",
    "    return window[-1][1] - window[0][1]\n",
    "\n",
    "# FUNCTION TO LOOP OVER ALL THE WINDOWS, TO CALCULATE THE RETURN\n",
    "# (the window is of two business weeks: 10 days)\n",
    "def twoWeekReturns(history):\n",
    "    return [calculateReturn(entry) for entry in buildWindow(history, 10)]"
   ]
  },
  {
   "cell_type": "code",
   "execution_count": 27,
   "metadata": {
    "scrolled": true
   },
   "outputs": [
    {
     "name": "stdout",
     "output_type": "stream",
     "text": [
      "First 5 and Last 5 return for Stock 0:\n"
     ]
    },
    {
     "data": {
      "text/html": [
       "<table style=\"display:inline\" border=\"1\" class=\"dataframe\">\n",
       "  <thead>\n",
       "    <tr style=\"text-align: right;\">\n",
       "      <th>Return</th>\n",
       "    </tr>\n",
       "  </thead>\n",
       "  <tbody>\n",
       "    <tr>\n",
       "      <td>1.090000</td>\n",
       "    </tr>\n",
       "    <tr>\n",
       "      <td>0.870001</td>\n",
       "    </tr>\n",
       "    <tr>\n",
       "      <td>0.299999</td>\n",
       "    </tr>\n",
       "    <tr>\n",
       "      <td>-2.310002</td>\n",
       "    </tr>\n",
       "    <tr>\n",
       "      <td>0.139999</td>\n",
       "    </tr>\n",
       "  </tbody>\n",
       "</table style=\"display:inline\">&nbsp&nbsp&nbsp&nbsp&nbsp<table style=\"display:inline\" border=\"1\" class=\"dataframe\">\n",
       "  <thead>\n",
       "    <tr style=\"text-align: right;\">\n",
       "      <th>Return</th>\n",
       "    </tr>\n",
       "  </thead>\n",
       "  <tbody>\n",
       "    <tr>\n",
       "      <td>-1.309997</td>\n",
       "    </tr>\n",
       "    <tr>\n",
       "      <td>-0.689999</td>\n",
       "    </tr>\n",
       "    <tr>\n",
       "      <td>-0.799999</td>\n",
       "    </tr>\n",
       "    <tr>\n",
       "      <td>0.279999</td>\n",
       "    </tr>\n",
       "    <tr>\n",
       "      <td>-0.119999</td>\n",
       "    </tr>\n",
       "  </tbody>\n",
       "</table style=\"display:inline\">&nbsp&nbsp&nbsp&nbsp&nbsp"
      ]
     },
     "metadata": {},
     "output_type": "display_data"
    },
    {
     "name": "stdout",
     "output_type": "stream",
     "text": [
      "\n"
     ]
    }
   ],
   "source": [
    "# GET THE RETURNS FOR STOCKS AND FACTORS\n",
    "stocksReturns = list(map(twoWeekReturns, stocks))\n",
    "factorsReturns = list(map(twoWeekReturns, factors))\n",
    "\n",
    "# TEST OUR FUNCTIONS\n",
    "displaySideBySide(stocksReturns[0][:5], stocksReturns[0][-5:],\n",
    "                  header=[\"Return\"],\n",
    "                  title=\"First 5 and Last 5 return for Stock 0:\")"
   ]
  },
  {
   "cell_type": "markdown",
   "metadata": {},
   "source": [
    "Alright! Now we have data that is properly aligned to start the training process: stocks' returns and factors' returns, per time windows of two weeks. Next, we will apply the MCS method."
   ]
  },
  {
   "cell_type": "markdown",
   "metadata": {},
   "source": [
    "## 5.5. Summary guidelines to apply the MCS method on the data we prepared\n",
    "Next, we overview the steps that you have to follow to build a model of your data, and then use Monte Carlo simulations to produce output distributions:\n",
    "\n",
    "- **Step 1**: Defining the relationship between the market factors and the instrument's returns. This relationship takes the form of a model fitted to historical data.\n",
    "- **Step 2**: Defining the distributions for the market conditions (particularly, the returns of factors) that are straightforward to sample from. These distributions are fitted to historical data. \n",
    "- **Step 3**: Generate the data for each trial of a Monte Carlo run: this amount to generating the random values for market conditions along with these distributions.\n",
    "- **Step 4**: For each trial, from the above values of market conditions, and using the relationship built in step 1, we calculate the return for each instrument and the total return. We use the returns to define an empirical distribution over losses. This means that, if we run 100 trials and want to estimate the 5% VaR, we would choose it as the loss from the trial with the fifth greatest loss.\n",
    "- **Step 5**: Evaluating the result"
   ]
  },
  {
   "cell_type": "markdown",
   "metadata": {},
   "source": [
    "## 5.6. Applying MCS\n",
    "\n",
    "### Step 1: Defining relationship between market factors and instrument's returns\n",
    "\n",
    "In our simulation, we will use a simple linear model. By our definition of return, a factor return is a **change** in the value of a market factor **over a particular time period**, e.g. if the value of the S&P 500 moves from 2000 to 2100 over a time interval, its return would be 100.\n",
    "\n",
    "A vector that contains the return of 4 market factors is called a *market factor vector*. Generally, instead of using this vector as features, we derive a set of features from simple transformation of it. In particular, a vector of 4 values is transformed into a vector of length $m$ by function $F$. In the simplest case $F(v) = v$.\n",
    "\n",
    "Denote $v_t$ the market factor vector, and $f_t$ the transformed features of $v_t$ at time $t$.\n",
    "\n",
    "$f_{tj}$ is the value of feature $j$ in $f_t$.\n",
    "\n",
    "Denote $r_{it}$ the return of instrument $i$ at time $t$ and $c_i$ the [intercept term](http://blog.minitab.com/blog/adventures-in-statistics/regression-analysis-how-to-interpret-the-constant-y-intercept) of instrument $i$.\n",
    "\n",
    "We will use a simple linear function to calculate $r_{it}$ from $f_t$:\n",
    "\n",
    "$$\n",
    "r_{it} = c_i + \\sum_{j=1}^{m}{w_{ij}*f_{tj}}\n",
    "$$\n",
    "\n",
    "where $w_{ij}$ is the weight of feature $j$ for instrument $i$.\n",
    "\n",
    "All that above means that given a market factor vector, we have to apply featurization and then use the result as a surrogate for calculating the return of the instruments, using the above linear function.\n",
    "\n",
    "There are two questions that we should consider: **how we apply featurization to a factor vector?** and **how to pick values for $w_{ij}$?**\n",
    "\n",
    "**How we apply featurization to a factor vector?**\n",
    "In fact, the instruments' returns may be non-linear functions of the factor returns. So, we should not use factor returns as features in the above linear function. Instead, we transform them into a set of features with different size. In this Notebook, we can include some additional features in our model that we derive from non-linear transformations of the factor returns. We will try adding two more features for each factor return: its square and its square root values. So, we can still assume that our model is a linear model in the sense that the response variable is a linear function of the new features. *Note that the particular feature transformation described here is meant to be an illustrative example of some of the options that are available: it shouldn't be considered as the state of the art in predictive financial modeling!!*.\n",
    "\n",
    "**How to pick values for $w_{ij}$?**\n",
    "\n",
    "For all the market factor vectors in our historical data, we transform them to feature vectors. Now, we have feature vectors in many two-week intervals and the corresponding instrument's returns in these intervals. We can use Ordinary Least Square (OLS) regression model to estimate the weights for each instrument such that our linear function can fit to the data. The parameters for OLS function are:\n",
    "\n",
    "- `x`: The collection of columns where **each column** is the value of **a feature** in many two-week interval\n",
    "- `y`: The return of an instrument in the corresponding time interval of x."
   ]
  },
  {
   "cell_type": "markdown",
   "metadata": {},
   "source": [
    "The figure below shows the basic idea of the process to build a statistical model for predicting the returns of stock X.\n",
    "\n",
    "![](https://dl.dropboxusercontent.com/s/kbjtwmnr4w31uev/process-build-model3.svg)\n"
   ]
  },
  {
   "cell_type": "markdown",
   "metadata": {},
   "source": [
    "### Question 5\n",
    "#### Question 5.1\n",
    "\n",
    "<div class=\"alert alert-info\">\n",
    "Currently, our data is in form of:  \n",
    "\n",
    "$$\n",
    "factorsReturns=\n",
    "\\begin{bmatrix}\n",
    " r_{00} & r_{01} & r_{02} & ... & r_{0k} \\\\\n",
    " r_{10} & r_{11} & r_{12} & ... & r_{1k} \\\\\n",
    " ... & ... & ... & ... & ... \\\\\n",
    " r_{n0} & r_{n1} & r_{n2} & ... & r_{nk}\\\\\n",
    "\\end{bmatrix}\n",
    "$$\n",
    "\n",
    "<ul></ul>\n",
    "\n",
    "$$\n",
    "stocksReturns=\n",
    "\\begin{bmatrix}\n",
    " s_{00} & s_{01} & s_{02} & ... & s_{0k} \\\\\n",
    " s_{10} & s_{11} & s_{12} & ... & s_{1k} \\\\\n",
    " ... & ... & ... & ... & ... \\\\\n",
    " s_{n0} & s_{n1} & s_{n2} & ... & s_{nk}\\\\\n",
    "\\end{bmatrix}\n",
    "$$\n",
    "\n",
    "<ul></ul>\n",
    "\n",
    "Where, $r_{ij}$ is the return of factor $i^{th}$ in time window $j^{th}$, $k$ is the number of time windows, and $n$ is the number of factors. A similar definition goes for $s_{ij}$.\n",
    "\n",
    "<ul></ul>\n",
    "\n",
    "In order to use OLS, the parameter must be in form of:\n",
    "\n",
    "<ul></ul>\n",
    "\n",
    "$$\n",
    "x=factorsReturns^T =\n",
    "\\begin{bmatrix}\n",
    " r_{00} & r_{10} & ... & r_{n0} \\\\\n",
    " r_{01} & r_{11} & ... & r_{n1} \\\\\n",
    " r_{02} & r_{12} & ... & r_{n2}\\\\\n",
    " ... & ... & ... & ... \\\\\n",
    " r_{0k} & r_{1k} & ... & r_{nk}\\\\\n",
    "\\end{bmatrix}\n",
    "$$\n",
    "\n",
    "<ul></ul>\n",
    "\n",
    "Whereas, $y$ can be any row in `stocksReturns`.\n",
    "\n",
    "<ul></ul>\n",
    "\n",
    "So, we need a function to transpose a matrix. Write a function named `transpose` to do just that.\n",
    "</div>"
   ]
  },
  {
   "cell_type": "code",
   "execution_count": 28,
   "metadata": {},
   "outputs": [],
   "source": [
    "# FUNCTION TO TRANSPOSE A MATRIX\n",
    "def transpose(matrix):\n",
    "    return list(map(list, zip(*matrix)))\n",
    "\n",
    "# TEST THE TRANSPOSE FUNCTION\n",
    "assert (transpose([[1,2,3], [4,5,6], [7,8,9]]) == [[1, 4, 7], [2, 5, 8], [3, 6, 9]]), \"Function transpose runs incorrectly\""
   ]
  },
  {
   "cell_type": "markdown",
   "metadata": {},
   "source": [
    "#### Question 5.2\n",
    "<div class=\"alert alert-info\">\n",
    "Write a function named `featurize` that takes a list factor's returns $[x_1, x_2,...,x_k]$ and transform it into a new list of features $[u_1,u_2,..,u_k, v_1, v_2,..,v_k, x_1,x_2,...,x_k]$.\n",
    "\n",
    "<ul></ul>\n",
    "\n",
    "Where,  \n",
    "\n",
    "\n",
    "$u_i$ = $\\left\\{\n",
    "\t\\begin{array}{ll}\n",
    "\t\tx_i^2 & \\mbox{if } x_i \\geq 0 \\\\\n",
    "\t\t-x_i^2 & \\mbox{if } x_i < 0\n",
    "\t\\end{array}\n",
    "\\right.\n",
    "$\n",
    "\n",
    "<ul></ul>\n",
    "\n",
    "and  \n",
    "\n",
    "$v_i$ = $\\left\\{\n",
    "\t\\begin{array}{ll}\n",
    "\t\t\\sqrt{x_i} & \\mbox{if } x_i \\geq 0 \\\\\n",
    "\t\t-\\sqrt{x_i} & \\mbox{if } x_i < 0\n",
    "\t\\end{array}\n",
    "\\right.\n",
    "$  \n",
    "\n",
    "</div>"
   ]
  },
  {
   "cell_type": "code",
   "execution_count": 29,
   "metadata": {},
   "outputs": [],
   "source": [
    "# FUNCTION TO EXPAND (FEATURIZE) THE FACTOR\n",
    "def featurize(factorReturns):\n",
    "    squaredReturns = [np.sign(value) * (value)**2 for value in factorReturns]\n",
    "    squareRootedReturns = [np.sign(value) * abs(value)**0.5 for value in factorReturns]\n",
    "    return squaredReturns + squareRootedReturns + factorReturns\n",
    "\n",
    "# TEST THE FUNCTION\n",
    "assert (featurize([4, -9, 25]) == [16, -81, 625, 2, -3, 5, 4, -9, 25]), \"Function runs incorrectly\""
   ]
  },
  {
   "cell_type": "markdown",
   "metadata": {},
   "source": [
    "#### Question 5.3\n",
    "<div class=\"alert alert-info\">\n",
    "Using OLS, estimate the weights for each feature on each stock. What is the shape of `weights` (size of each dimension)?  \n",
    "\n",
    "Explain it.\n",
    "</div>"
   ]
  },
  {
   "cell_type": "code",
   "execution_count": 30,
   "metadata": {},
   "outputs": [],
   "source": [
    "# FUNCTION TO BUILD THE MODEL (WEIGHTS) STARTING FROM FACTORS AND STOCKS RETURNS\n",
    "def buildModel(factorsReturns, stocksReturns):\n",
    "    \n",
    "    def estimateParams(y, x):\n",
    "        return sm.OLS(y, x).fit().params\n",
    "\n",
    "    # TRANSPOSE THE 'FACTORS RETURNS' MATRIX\n",
    "    factorMat = transpose(factorsReturns)\n",
    "\n",
    "    # FEATURIZE IT\n",
    "    factorFeatures = list(map(featurize, factorMat))\n",
    "\n",
    "    # TRANSFORM IN NUMPY ARRAY AND ADD THE INTERCEPT\n",
    "    factorColumns = sm.add_constant(np.array(factorFeatures), prepend=True)\n",
    "\n",
    "    # ESTIMATE THE WEIGHTS\n",
    "    weights = [estimateParams(sr, factorColumns) for sr in stocksReturns]\n",
    "    \n",
    "    return weights"
   ]
  },
  {
   "cell_type": "code",
   "execution_count": 31,
   "metadata": {},
   "outputs": [
    {
     "name": "stdout",
     "output_type": "stream",
     "text": [
      "The weights are:\n"
     ]
    },
    {
     "data": {
      "text/html": [
       "<table border=\"1\" class=\"dataframe\">\n",
       "  <thead>\n",
       "    <tr style=\"text-align: right;\">\n",
       "      <th>w(0)</th>\n",
       "      <th>w(1)</th>\n",
       "      <th>w(2)</th>\n",
       "      <th>w(3)</th>\n",
       "      <th>w(4)</th>\n",
       "      <th>w(5)</th>\n",
       "      <th>w(6)</th>\n",
       "      <th>w(7)</th>\n",
       "      <th>w(8)</th>\n",
       "      <th>w(9)</th>\n",
       "      <th>w(10)</th>\n",
       "      <th>w(11)</th>\n",
       "      <th>w(12)</th>\n",
       "    </tr>\n",
       "  </thead>\n",
       "  <tbody>\n",
       "    <tr>\n",
       "      <td>0.003209</td>\n",
       "      <td>-0.002455</td>\n",
       "      <td>-6.258536</td>\n",
       "      <td>0.000202</td>\n",
       "      <td>-4.278916e-05</td>\n",
       "      <td>0.036810</td>\n",
       "      <td>-1.036710</td>\n",
       "      <td>0.026931</td>\n",
       "      <td>-0.062658</td>\n",
       "      <td>0.000003</td>\n",
       "      <td>3.638331</td>\n",
       "      <td>0.003389</td>\n",
       "      <td>0.011121</td>\n",
       "    </tr>\n",
       "    <tr>\n",
       "      <td>-0.089474</td>\n",
       "      <td>0.002449</td>\n",
       "      <td>-2.432990</td>\n",
       "      <td>0.000291</td>\n",
       "      <td>-5.422231e-05</td>\n",
       "      <td>0.191384</td>\n",
       "      <td>0.704395</td>\n",
       "      <td>0.110048</td>\n",
       "      <td>-0.048395</td>\n",
       "      <td>-0.100717</td>\n",
       "      <td>0.750872</td>\n",
       "      <td>-0.038184</td>\n",
       "      <td>0.031269</td>\n",
       "    </tr>\n",
       "    <tr>\n",
       "      <td>-0.014365</td>\n",
       "      <td>0.002469</td>\n",
       "      <td>-1.943656</td>\n",
       "      <td>0.000056</td>\n",
       "      <td>-1.277379e-05</td>\n",
       "      <td>0.038611</td>\n",
       "      <td>-0.205334</td>\n",
       "      <td>0.001903</td>\n",
       "      <td>-0.002248</td>\n",
       "      <td>-0.048091</td>\n",
       "      <td>0.970524</td>\n",
       "      <td>-0.001500</td>\n",
       "      <td>0.002527</td>\n",
       "    </tr>\n",
       "    <tr>\n",
       "      <td>0.046389</td>\n",
       "      <td>-0.000342</td>\n",
       "      <td>-1.527536</td>\n",
       "      <td>0.000007</td>\n",
       "      <td>-3.123108e-06</td>\n",
       "      <td>0.013150</td>\n",
       "      <td>0.128905</td>\n",
       "      <td>0.058604</td>\n",
       "      <td>-0.057415</td>\n",
       "      <td>0.003653</td>\n",
       "      <td>-0.352701</td>\n",
       "      <td>-0.007955</td>\n",
       "      <td>0.009391</td>\n",
       "    </tr>\n",
       "    <tr>\n",
       "      <td>-0.187102</td>\n",
       "      <td>0.007770</td>\n",
       "      <td>2.742755</td>\n",
       "      <td>0.000397</td>\n",
       "      <td>-6.999665e-05</td>\n",
       "      <td>-0.008197</td>\n",
       "      <td>0.488819</td>\n",
       "      <td>0.281979</td>\n",
       "      <td>-0.082592</td>\n",
       "      <td>-0.082633</td>\n",
       "      <td>0.796296</td>\n",
       "      <td>-0.067639</td>\n",
       "      <td>0.026696</td>\n",
       "    </tr>\n",
       "    <tr>\n",
       "      <td>0.025666</td>\n",
       "      <td>-0.001778</td>\n",
       "      <td>0.931331</td>\n",
       "      <td>0.000032</td>\n",
       "      <td>-4.689374e-06</td>\n",
       "      <td>-0.069639</td>\n",
       "      <td>-0.062646</td>\n",
       "      <td>0.030119</td>\n",
       "      <td>0.001374</td>\n",
       "      <td>0.038508</td>\n",
       "      <td>-0.168047</td>\n",
       "      <td>-0.004693</td>\n",
       "      <td>-0.000057</td>\n",
       "    </tr>\n",
       "    <tr>\n",
       "      <td>0.052289</td>\n",
       "      <td>0.006016</td>\n",
       "      <td>-0.007887</td>\n",
       "      <td>-0.000226</td>\n",
       "      <td>3.346846e-05</td>\n",
       "      <td>0.361797</td>\n",
       "      <td>-0.181780</td>\n",
       "      <td>-0.035371</td>\n",
       "      <td>0.009001</td>\n",
       "      <td>-0.198783</td>\n",
       "      <td>-0.038005</td>\n",
       "      <td>0.022523</td>\n",
       "      <td>-0.001532</td>\n",
       "    </tr>\n",
       "    <tr>\n",
       "      <td>-0.006943</td>\n",
       "      <td>0.004915</td>\n",
       "      <td>0.890764</td>\n",
       "      <td>0.000014</td>\n",
       "      <td>-1.768643e-05</td>\n",
       "      <td>0.070518</td>\n",
       "      <td>-0.618628</td>\n",
       "      <td>0.031206</td>\n",
       "      <td>0.008568</td>\n",
       "      <td>-0.072665</td>\n",
       "      <td>1.418555</td>\n",
       "      <td>-0.004299</td>\n",
       "      <td>0.003416</td>\n",
       "    </tr>\n",
       "    <tr>\n",
       "      <td>-0.046481</td>\n",
       "      <td>0.003644</td>\n",
       "      <td>0.859669</td>\n",
       "      <td>0.000128</td>\n",
       "      <td>-2.322949e-05</td>\n",
       "      <td>0.024345</td>\n",
       "      <td>-0.102435</td>\n",
       "      <td>0.008089</td>\n",
       "      <td>-0.001714</td>\n",
       "      <td>-0.035346</td>\n",
       "      <td>-0.022097</td>\n",
       "      <td>-0.007132</td>\n",
       "      <td>0.004650</td>\n",
       "    </tr>\n",
       "    <tr>\n",
       "      <td>-0.020865</td>\n",
       "      <td>0.012170</td>\n",
       "      <td>10.135562</td>\n",
       "      <td>0.000341</td>\n",
       "      <td>-2.961303e-05</td>\n",
       "      <td>0.561374</td>\n",
       "      <td>1.521963</td>\n",
       "      <td>-0.105232</td>\n",
       "      <td>0.135271</td>\n",
       "      <td>-0.335935</td>\n",
       "      <td>-7.908923</td>\n",
       "      <td>0.028590</td>\n",
       "      <td>-0.005737</td>\n",
       "    </tr>\n",
       "    <tr>\n",
       "      <td>-0.023926</td>\n",
       "      <td>-0.010478</td>\n",
       "      <td>3.389093</td>\n",
       "      <td>-0.000141</td>\n",
       "      <td>3.417114e-05</td>\n",
       "      <td>-0.279899</td>\n",
       "      <td>0.589152</td>\n",
       "      <td>0.000349</td>\n",
       "      <td>0.022748</td>\n",
       "      <td>0.197348</td>\n",
       "      <td>-1.806356</td>\n",
       "      <td>0.019466</td>\n",
       "      <td>0.000694</td>\n",
       "    </tr>\n",
       "    <tr>\n",
       "      <td>-0.190480</td>\n",
       "      <td>0.004646</td>\n",
       "      <td>5.414971</td>\n",
       "      <td>-0.000075</td>\n",
       "      <td>-2.207573e-05</td>\n",
       "      <td>0.160242</td>\n",
       "      <td>-0.726397</td>\n",
       "      <td>-0.065592</td>\n",
       "      <td>-0.013581</td>\n",
       "      <td>-0.096413</td>\n",
       "      <td>1.214952</td>\n",
       "      <td>0.003339</td>\n",
       "      <td>0.014016</td>\n",
       "    </tr>\n",
       "    <tr>\n",
       "      <td>-0.007425</td>\n",
       "      <td>-0.000341</td>\n",
       "      <td>-1.859597</td>\n",
       "      <td>0.000048</td>\n",
       "      <td>-9.189518e-06</td>\n",
       "      <td>0.016196</td>\n",
       "      <td>-0.224956</td>\n",
       "      <td>0.000317</td>\n",
       "      <td>-0.011194</td>\n",
       "      <td>0.008557</td>\n",
       "      <td>1.128009</td>\n",
       "      <td>-0.000688</td>\n",
       "      <td>0.001813</td>\n",
       "    </tr>\n",
       "    <tr>\n",
       "      <td>-0.120197</td>\n",
       "      <td>0.000793</td>\n",
       "      <td>4.182912</td>\n",
       "      <td>0.000359</td>\n",
       "      <td>-7.321658e-05</td>\n",
       "      <td>0.038755</td>\n",
       "      <td>0.105871</td>\n",
       "      <td>0.034064</td>\n",
       "      <td>-0.008744</td>\n",
       "      <td>-0.032461</td>\n",
       "      <td>-2.009447</td>\n",
       "      <td>-0.006570</td>\n",
       "      <td>0.014280</td>\n",
       "    </tr>\n",
       "    <tr>\n",
       "      <td>-0.037704</td>\n",
       "      <td>0.000089</td>\n",
       "      <td>-0.755573</td>\n",
       "      <td>0.000086</td>\n",
       "      <td>-1.936585e-05</td>\n",
       "      <td>-0.006556</td>\n",
       "      <td>-0.483860</td>\n",
       "      <td>0.022214</td>\n",
       "      <td>-0.008838</td>\n",
       "      <td>-0.001907</td>\n",
       "      <td>1.266114</td>\n",
       "      <td>-0.004161</td>\n",
       "      <td>0.003642</td>\n",
       "    </tr>\n",
       "    <tr>\n",
       "      <td>-0.004761</td>\n",
       "      <td>-0.000512</td>\n",
       "      <td>-2.135638</td>\n",
       "      <td>0.000029</td>\n",
       "      <td>6.498656e-06</td>\n",
       "      <td>0.075112</td>\n",
       "      <td>-0.412790</td>\n",
       "      <td>-0.005874</td>\n",
       "      <td>0.024442</td>\n",
       "      <td>-0.014357</td>\n",
       "      <td>1.533978</td>\n",
       "      <td>-0.006977</td>\n",
       "      <td>0.000318</td>\n",
       "    </tr>\n",
       "    <tr>\n",
       "      <td>-0.039924</td>\n",
       "      <td>-0.000570</td>\n",
       "      <td>0.131976</td>\n",
       "      <td>-0.000135</td>\n",
       "      <td>2.829985e-05</td>\n",
       "      <td>0.011229</td>\n",
       "      <td>-0.259902</td>\n",
       "      <td>-0.032829</td>\n",
       "      <td>0.030708</td>\n",
       "      <td>-0.002631</td>\n",
       "      <td>0.698339</td>\n",
       "      <td>0.014449</td>\n",
       "      <td>-0.005629</td>\n",
       "    </tr>\n",
       "    <tr>\n",
       "      <td>-0.014298</td>\n",
       "      <td>-0.000250</td>\n",
       "      <td>0.636644</td>\n",
       "      <td>-0.000003</td>\n",
       "      <td>4.417490e-06</td>\n",
       "      <td>0.000950</td>\n",
       "      <td>0.083016</td>\n",
       "      <td>-0.001389</td>\n",
       "      <td>0.019056</td>\n",
       "      <td>0.008134</td>\n",
       "      <td>-0.208553</td>\n",
       "      <td>0.001168</td>\n",
       "      <td>-0.000618</td>\n",
       "    </tr>\n",
       "    <tr>\n",
       "      <td>0.006931</td>\n",
       "      <td>-0.001554</td>\n",
       "      <td>-0.974807</td>\n",
       "      <td>0.000071</td>\n",
       "      <td>-8.503211e-06</td>\n",
       "      <td>-0.055172</td>\n",
       "      <td>-0.156798</td>\n",
       "      <td>0.021261</td>\n",
       "      <td>-0.006588</td>\n",
       "      <td>0.047784</td>\n",
       "      <td>0.246452</td>\n",
       "      <td>-0.009110</td>\n",
       "      <td>0.003911</td>\n",
       "    </tr>\n",
       "    <tr>\n",
       "      <td>-0.036596</td>\n",
       "      <td>-0.001942</td>\n",
       "      <td>-3.290793</td>\n",
       "      <td>0.000185</td>\n",
       "      <td>-4.255166e-05</td>\n",
       "      <td>-0.053477</td>\n",
       "      <td>-1.198848</td>\n",
       "      <td>0.016181</td>\n",
       "      <td>-0.014461</td>\n",
       "      <td>0.031826</td>\n",
       "      <td>3.269468</td>\n",
       "      <td>0.001700</td>\n",
       "      <td>0.008263</td>\n",
       "    </tr>\n",
       "    <tr>\n",
       "      <td>-0.050495</td>\n",
       "      <td>0.001145</td>\n",
       "      <td>0.179657</td>\n",
       "      <td>0.000032</td>\n",
       "      <td>-6.090587e-06</td>\n",
       "      <td>0.027897</td>\n",
       "      <td>-0.234909</td>\n",
       "      <td>0.004687</td>\n",
       "      <td>-0.009691</td>\n",
       "      <td>-0.021312</td>\n",
       "      <td>0.094900</td>\n",
       "      <td>0.003997</td>\n",
       "      <td>0.001569</td>\n",
       "    </tr>\n",
       "    <tr>\n",
       "      <td>-0.013072</td>\n",
       "      <td>-0.001058</td>\n",
       "      <td>0.193319</td>\n",
       "      <td>0.000028</td>\n",
       "      <td>-6.491791e-07</td>\n",
       "      <td>-0.004675</td>\n",
       "      <td>-0.020755</td>\n",
       "      <td>0.011332</td>\n",
       "      <td>0.008365</td>\n",
       "      <td>0.008440</td>\n",
       "      <td>0.004099</td>\n",
       "      <td>-0.002952</td>\n",
       "      <td>-0.000785</td>\n",
       "    </tr>\n",
       "    <tr>\n",
       "      <td>-0.048407</td>\n",
       "      <td>0.003828</td>\n",
       "      <td>1.920258</td>\n",
       "      <td>0.000080</td>\n",
       "      <td>-2.480228e-05</td>\n",
       "      <td>0.065336</td>\n",
       "      <td>-0.221547</td>\n",
       "      <td>0.017214</td>\n",
       "      <td>-0.021021</td>\n",
       "      <td>-0.046831</td>\n",
       "      <td>0.670745</td>\n",
       "      <td>-0.007757</td>\n",
       "      <td>0.007547</td>\n",
       "    </tr>\n",
       "    <tr>\n",
       "      <td>-0.012625</td>\n",
       "      <td>-0.000550</td>\n",
       "      <td>1.731040</td>\n",
       "      <td>0.000117</td>\n",
       "      <td>-2.181330e-05</td>\n",
       "      <td>-0.031033</td>\n",
       "      <td>0.255750</td>\n",
       "      <td>0.049438</td>\n",
       "      <td>-0.016894</td>\n",
       "      <td>-0.002911</td>\n",
       "      <td>-1.187049</td>\n",
       "      <td>-0.011531</td>\n",
       "      <td>0.005728</td>\n",
       "    </tr>\n",
       "    <tr>\n",
       "      <td>0.013683</td>\n",
       "      <td>-0.002218</td>\n",
       "      <td>4.420357</td>\n",
       "      <td>0.000079</td>\n",
       "      <td>-5.328254e-06</td>\n",
       "      <td>-0.044126</td>\n",
       "      <td>0.938276</td>\n",
       "      <td>0.022055</td>\n",
       "      <td>0.011376</td>\n",
       "      <td>0.048465</td>\n",
       "      <td>-3.367697</td>\n",
       "      <td>-0.008938</td>\n",
       "      <td>-0.000004</td>\n",
       "    </tr>\n",
       "    <tr>\n",
       "      <td>0.036984</td>\n",
       "      <td>-0.000287</td>\n",
       "      <td>-0.774785</td>\n",
       "      <td>-0.000012</td>\n",
       "      <td>-5.006497e-06</td>\n",
       "      <td>-0.092552</td>\n",
       "      <td>-0.529621</td>\n",
       "      <td>-0.015667</td>\n",
       "      <td>-0.000931</td>\n",
       "      <td>0.042038</td>\n",
       "      <td>1.020248</td>\n",
       "      <td>0.003474</td>\n",
       "      <td>0.003158</td>\n",
       "    </tr>\n",
       "    <tr>\n",
       "      <td>0.038973</td>\n",
       "      <td>0.000877</td>\n",
       "      <td>6.239823</td>\n",
       "      <td>-0.000601</td>\n",
       "      <td>3.187365e-05</td>\n",
       "      <td>0.212349</td>\n",
       "      <td>-1.871834</td>\n",
       "      <td>-0.433220</td>\n",
       "      <td>0.060453</td>\n",
       "      <td>-0.076648</td>\n",
       "      <td>1.929068</td>\n",
       "      <td>0.124032</td>\n",
       "      <td>-0.008074</td>\n",
       "    </tr>\n",
       "    <tr>\n",
       "      <td>0.398695</td>\n",
       "      <td>0.008231</td>\n",
       "      <td>3.607316</td>\n",
       "      <td>-0.000093</td>\n",
       "      <td>8.470308e-05</td>\n",
       "      <td>-0.493666</td>\n",
       "      <td>-0.297997</td>\n",
       "      <td>0.170879</td>\n",
       "      <td>-0.026691</td>\n",
       "      <td>0.045435</td>\n",
       "      <td>-0.547912</td>\n",
       "      <td>0.050033</td>\n",
       "      <td>-0.004059</td>\n",
       "    </tr>\n",
       "    <tr>\n",
       "      <td>-0.053912</td>\n",
       "      <td>-0.001748</td>\n",
       "      <td>-3.863002</td>\n",
       "      <td>0.000175</td>\n",
       "      <td>-2.824200e-05</td>\n",
       "      <td>-0.018999</td>\n",
       "      <td>-0.118730</td>\n",
       "      <td>0.021424</td>\n",
       "      <td>-0.018648</td>\n",
       "      <td>0.030485</td>\n",
       "      <td>0.887109</td>\n",
       "      <td>-0.004046</td>\n",
       "      <td>0.003668</td>\n",
       "    </tr>\n",
       "  </tbody>\n",
       "</table>"
      ],
      "text/plain": [
       "<IPython.core.display.HTML object>"
      ]
     },
     "metadata": {},
     "output_type": "display_data"
    },
    {
     "name": "stdout",
     "output_type": "stream",
     "text": [
      "\n"
     ]
    }
   ],
   "source": [
    "# BUILD THE MODEL\n",
    "weights = buildModel(factorsReturns, stocksReturns)\n",
    "\n",
    "# PRINT THE WEIGHTS\n",
    "displayTable(weights, [\"w(\" + str(i) + \")\" for i in range(0,13)], \"The weights are:\")"
   ]
  },
  {
   "cell_type": "markdown",
   "metadata": {},
   "source": [
    "<div class=\"alert alert-success\">\n",
    "The weights found are obviously of a shape which is strongly related to the factors matrix. Indeed, we can find for each row 13 weights that correspond to the 12 factors (after expansion) and the intercept term that has been added.<br>\n",
    "The height of the weights matrix (so the number of rows) is instead referred to the number of time windows that we are considering in our model construction.\n",
    "</div>"
   ]
  },
  {
   "cell_type": "markdown",
   "metadata": {},
   "source": [
    "### Step 2: Defining the distributions for the market conditions\n",
    "Since we cannot define the distributions for the market factors directly, we can only approximate their distribution.\n",
    "The best way to do that, is plotting their value. However, these values may fluctuate quite a lot. \n",
    "\n",
    "Next, we show how to use the Kernel density estimation (KDE) technique to approximate such distributions. In brief, kernel density estimation is a way of smoothing out a histogram: this is achieved by assigning (or centering) a probability distribution (usually a normal distribution) to each data point, and then summing. So, a set of two-week-return samples would result in a large number of \"super-imposed\" normal distributions, each with a different mean. \n",
    "\n",
    "To estimate the probability density at a given point, KDE evaluates the PDFs of all the normal distributions at that point and takes their average. The smoothness of a kernel density plot depends on its *bandwidth*, and the standard deviation of each of the normal distributions. For a brief introduction on KDE, please refer to this [link](https://en.wikipedia.org/wiki/Kernel_density_estimation)."
   ]
  },
  {
   "cell_type": "code",
   "execution_count": 32,
   "metadata": {
    "scrolled": true
   },
   "outputs": [],
   "source": [
    "def plotDistribution(samples, r, c, i):\n",
    "    vmin = min(samples)\n",
    "    vmax = max(samples)\n",
    "    stddev = np.std(samples)\n",
    "    \n",
    "    domain = np.arange(vmin, vmax, (vmax-vmin)/100)\n",
    "    \n",
    "    # a simple heuristic to select bandwidth\n",
    "    bandwidth = 1.06 * stddev * pow(len(samples), -.2)\n",
    "    \n",
    "    # estimate density\n",
    "    kde = KDEUnivariate(samples)\n",
    "    kde.fit(bw=bandwidth)\n",
    "    density = kde.evaluate(domain)\n",
    "    \n",
    "    # plot\n",
    "    plt.subplot(r, c, i)\n",
    "    plt.plot(domain, density)"
   ]
  },
  {
   "cell_type": "code",
   "execution_count": 33,
   "metadata": {},
   "outputs": [
    {
     "data": {
      "image/png": "[encoded data removed]",
      "text/plain": [
       "<matplotlib.figure.Figure at 0x7f9b70044240>"
      ]
     },
     "metadata": {},
     "output_type": "display_data"
    }
   ],
   "source": [
    "# PLOT THE DISTRIBUTIONS OF ALL THE 4 FACTOR RETURNS\n",
    "plotDistribution(factorsReturns[0], 2, 2, 1)\n",
    "plotDistribution(factorsReturns[1], 2, 2, 2)\n",
    "plotDistribution(factorsReturns[2], 2, 2, 3)\n",
    "plotDistribution(factorsReturns[3], 2, 2, 4)\n",
    "plt.tight_layout()\n",
    "plt.show()"
   ]
  },
  {
   "cell_type": "markdown",
   "metadata": {},
   "source": [
    "For the sake of simplicity, we can say that our smoothed versions of the returns of each factor can be represented quite well by a normal distribution. Of course, more exotic distributions, perhaps with fatter tails, could fit more closely the data, but it is outside the scope of this Notebook to proceed in this way.\n",
    "\n",
    "Now, the simplest way to sample factors returns is to use a normal distribution for each of the factors, and sample from these distributions independently. However, this approach ignores the fact that market factors are often correlated. For example, when the price of crude oil is down, the price of treasury bonds is down too. We can check our data to verify about the correlation."
   ]
  },
  {
   "cell_type": "markdown",
   "metadata": {},
   "source": [
    "### Question 6\n",
    "\n",
    "#### Question 6.1\n",
    "<div class=\"alert alert-info\">\n",
    "\n",
    "Calculate the correlation between market factors and explain the result.\n",
    "<br><br>\n",
    "<div class=\"label label-success\">HINT</div> function `np.corrcoef` might be useful.\n",
    "</div>"
   ]
  },
  {
   "cell_type": "code",
   "execution_count": 34,
   "metadata": {},
   "outputs": [
    {
     "name": "stdout",
     "output_type": "stream",
     "text": [
      "Correlation matrix of Factors Returns:\n"
     ]
    },
    {
     "data": {
      "text/html": [
       "<table border=\"1\" class=\"dataframe\">\n",
       "  <thead>\n",
       "    <tr style=\"text-align: right;\">\n",
       "      <th></th>\n",
       "      <th></th>\n",
       "      <th></th>\n",
       "      <th></th>\n",
       "    </tr>\n",
       "  </thead>\n",
       "  <tbody>\n",
       "    <tr>\n",
       "      <td>1.000000</td>\n",
       "      <td>0.387885</td>\n",
       "      <td>0.474116</td>\n",
       "      <td>0.458412</td>\n",
       "    </tr>\n",
       "    <tr>\n",
       "      <td>0.387885</td>\n",
       "      <td>1.000000</td>\n",
       "      <td>0.584477</td>\n",
       "      <td>0.583064</td>\n",
       "    </tr>\n",
       "    <tr>\n",
       "      <td>0.474116</td>\n",
       "      <td>0.584477</td>\n",
       "      <td>1.000000</td>\n",
       "      <td>0.952276</td>\n",
       "    </tr>\n",
       "    <tr>\n",
       "      <td>0.458412</td>\n",
       "      <td>0.583064</td>\n",
       "      <td>0.952276</td>\n",
       "      <td>1.000000</td>\n",
       "    </tr>\n",
       "  </tbody>\n",
       "</table>"
      ],
      "text/plain": [
       "<IPython.core.display.HTML object>"
      ]
     },
     "metadata": {},
     "output_type": "display_data"
    },
    {
     "name": "stdout",
     "output_type": "stream",
     "text": [
      "\n"
     ]
    }
   ],
   "source": [
    "# BUILD CORRELATION MATRIX\n",
    "correlation = np.corrcoef(factorsReturns)\n",
    "\n",
    "# PRINT CORRELATION MATRIX\n",
    "displayTable(correlation, [\"\" for i in range(0,4)], \"Correlation matrix of Factors Returns:\")"
   ]
  },
  {
   "cell_type": "markdown",
   "metadata": {},
   "source": [
    "<div class=\"alert alert-success\">\n",
    "From the correlation matrix we can see that there are some factors which are highly correlated between each other. For example. we can see that the 4th factor is strongly connected to the 3rd one. There is also a medium correlation (about 58%) between the 2nd-3rd and 2nd-4th.\n",
    "A very low correlation instead, can be found between the first two factors.<br>\n",
    "</div>"
   ]
  },
  {
   "cell_type": "markdown",
   "metadata": {},
   "source": [
    "The multivariate normal distribution can help here by taking the correlation information between the factors into account. Each sample from a multivariate normal distribution can be thought of as a vector. Given values for all of the dimensions but one, the distribution of values along that dimension is normal. But, in their joint distribution, the variables are not independent.\n",
    "\n",
    "For this use case, we can write:\n",
    "\n",
    "$$\n",
    "\\left(\\begin{array}{c}f_{1}\\\\f_{2}\\\\f_{3}\\\\f_{4} \\end{array}\\right)\n",
    "\\sim N \n",
    "\\left[\n",
    "  \\left(\n",
    "    \\begin{array}{c}\n",
    "      \\mu_1\\\\ \\mu_2 \\\\ \\mu_3 \\\\ \\mu_4 \n",
    "    \\end{array}\n",
    "  \\right), \n",
    "  \\left(\n",
    "    \\begin{array}{cccc}\n",
    "      \\sigma^2_1 & \\rho_{12} \\sigma_1\\sigma_2 & \\rho_{13} \\sigma_1\\sigma_3 & \\rho_{14} \\sigma_1\\sigma_4 \\\\ \n",
    "      \\rho_{12}\\sigma_2\\sigma_1 & \\sigma^2_2 & \\rho_{23} \\sigma_2\\sigma_3 & \\rho_{24} \\sigma_2\\sigma_4\\\\\n",
    "      \\rho_{13} \\sigma_3\\sigma_1 & \\rho_{23} \\sigma_3\\sigma_2 & \\sigma^2_3 & \\rho_{34} \\sigma_3\\sigma_4 \\\\ \n",
    "      \\rho_{14} \\sigma_4\\sigma_1 & \\rho_{24} \\sigma_4\\sigma_2 & \\rho_{34} \\sigma_3\\sigma_4 & \\sigma_4^2 \\\\ \n",
    "    \\end{array}\n",
    "  \\right)\n",
    "\\right]\n",
    "$$\n",
    "\n",
    "Or,\n",
    "\n",
    "$$\n",
    "f_t \\sim N(\\mu, \\sum)\n",
    "$$\n",
    "\n",
    "Where $f_1$, $f_2$, $f_3$ and $f_4$ are the market factors, $\\sigma_i$ is the standard deviation of factor $i$, $\\mu$ is a vector of the empirical means of the returns of the factors and $\\sum$ is the empirical covariance matrix of the returns of the factors.\n",
    "\n",
    "The multivariate normal is parameterized with a mean along each dimension and a matrix describing the covariance between each pair of dimensions. When the covariance matrix is diagonal, the multivariate normal reduces to sampling along each dimension independently, but placing non-zero values in the off-diagonals helps capture the relationships between variables. Whenever having the mean of this multivariate normal distribution and its covariance matrix, we can generate the sample values for market factors.\n",
    "\n",
    "Next, we will calculate the mean and the covariance matrix of this multivariate normal distribution from the historical data.\n"
   ]
  },
  {
   "cell_type": "markdown",
   "metadata": {},
   "source": [
    "#### Question 6.2\n",
    "<div class=\"alert alert-info\">\n",
    "\n",
    "Calculate the covariance matrix $\\sum$ and the means $\\mu$ of factors' returns then generate a random vector of factors return that follows a multivariate normal distribution $\\sim N(\\mu, \\sum)$\n",
    "\n",
    "<br><br>\n",
    "\n",
    "<div class=\"label label-success\">HINT</div>\n",
    "Function `np.cov` can help calculating covariance matrix. Function `np.random.multivariate_normal(<mean>, <cov>)` is often used for generating samples.\n",
    "\n",
    "</div>"
   ]
  },
  {
   "cell_type": "code",
   "execution_count": 35,
   "metadata": {},
   "outputs": [
    {
     "name": "stdout",
     "output_type": "stream",
     "text": [
      "Factors covariance matrix:\n"
     ]
    },
    {
     "data": {
      "text/html": [
       "<table border=\"1\" class=\"dataframe\">\n",
       "  <thead>\n",
       "    <tr style=\"text-align: right;\">\n",
       "      <th></th>\n",
       "      <th></th>\n",
       "      <th></th>\n",
       "      <th></th>\n",
       "    </tr>\n",
       "  </thead>\n",
       "  <tbody>\n",
       "    <tr>\n",
       "      <td>20.371231</td>\n",
       "      <td>0.263084</td>\n",
       "      <td>77.728150</td>\n",
       "      <td>172.733934</td>\n",
       "    </tr>\n",
       "    <tr>\n",
       "      <td>0.263084</td>\n",
       "      <td>0.022582</td>\n",
       "      <td>3.190316</td>\n",
       "      <td>7.314943</td>\n",
       "    </tr>\n",
       "    <tr>\n",
       "      <td>77.728150</td>\n",
       "      <td>3.190316</td>\n",
       "      <td>1319.380308</td>\n",
       "      <td>2887.758819</td>\n",
       "    </tr>\n",
       "    <tr>\n",
       "      <td>172.733934</td>\n",
       "      <td>7.314943</td>\n",
       "      <td>2887.758819</td>\n",
       "      <td>6969.894435</td>\n",
       "    </tr>\n",
       "  </tbody>\n",
       "</table>"
      ],
      "text/plain": [
       "<IPython.core.display.HTML object>"
      ]
     },
     "metadata": {},
     "output_type": "display_data"
    },
    {
     "name": "stdout",
     "output_type": "stream",
     "text": [
      "\n",
      "Factors means:\n"
     ]
    },
    {
     "data": {
      "text/html": [
       "<table border=\"1\" class=\"dataframe\">\n",
       "  <thead>\n",
       "    <tr style=\"text-align: right;\">\n",
       "      <th></th>\n",
       "      <th></th>\n",
       "      <th></th>\n",
       "      <th></th>\n",
       "    </tr>\n",
       "  </thead>\n",
       "  <tbody>\n",
       "    <tr>\n",
       "      <td>0.359089</td>\n",
       "      <td>-0.001314</td>\n",
       "      <td>6.953869</td>\n",
       "      <td>18.709227</td>\n",
       "    </tr>\n",
       "  </tbody>\n",
       "</table>"
      ],
      "text/plain": [
       "<IPython.core.display.HTML object>"
      ]
     },
     "metadata": {},
     "output_type": "display_data"
    },
    {
     "name": "stdout",
     "output_type": "stream",
     "text": [
      "\n",
      "Factors samples:\n"
     ]
    },
    {
     "data": {
      "text/html": [
       "<table border=\"1\" class=\"dataframe\">\n",
       "  <thead>\n",
       "    <tr style=\"text-align: right;\">\n",
       "      <th></th>\n",
       "      <th></th>\n",
       "      <th></th>\n",
       "      <th></th>\n",
       "    </tr>\n",
       "  </thead>\n",
       "  <tbody>\n",
       "    <tr>\n",
       "      <td>0.431501</td>\n",
       "      <td>-0.020329</td>\n",
       "      <td>-31.520378</td>\n",
       "      <td>-44.485759</td>\n",
       "    </tr>\n",
       "  </tbody>\n",
       "</table>"
      ],
      "text/plain": [
       "<IPython.core.display.HTML object>"
      ]
     },
     "metadata": {},
     "output_type": "display_data"
    },
    {
     "name": "stdout",
     "output_type": "stream",
     "text": [
      "\n"
     ]
    }
   ],
   "source": [
    "# BUILD COVARIANCE MATRIX\n",
    "factorCov = np.cov(factorsReturns)\n",
    "\n",
    "# BUILD MEAN\n",
    "factorMeans = [sum(fr)/len(fr) for fr in factorsReturns]\n",
    "\n",
    "# BUILD SAMPLES FROM DISTRIBUTION\n",
    "sample = np.random.multivariate_normal(factorMeans, factorCov)\n",
    "\n",
    "# SHOW COVARIANCE MATRIX, MEAN AND SAMPLES\n",
    "displayTable(factorCov, [\"\" for i in range(0,4)], \"Factors covariance matrix:\")\n",
    "displayTable(np.matrix(factorMeans), [\"\" for i in range(0,4)], \"Factors means:\")\n",
    "displayTable(np.matrix(sample), [\"\" for i in range(0,4)], \"Factors samples:\")"
   ]
  },
  {
   "cell_type": "markdown",
   "metadata": {},
   "source": [
    "## Step 3&4: Generating samples, running simulation and calculating the VaR"
   ]
  },
  {
   "cell_type": "markdown",
   "metadata": {},
   "source": [
    "We define some functions that helps us calculating VaR 5%. You will see that the functions below are pretty complicated! This is why we provide a solution for you: however, study them well!!\n",
    "\n",
    "The basic idea of calculating VaR 5% is that we need to find a value such that only 5% of the losses are bigger than it. That means the 5th percentile of the losses should be VaR 5%.\n",
    "\n",
    "VaR can sometimes be problematic though, since it does give any information on the extent of the losses which can exceed the VaR estimate. CVar is an extension of VaR that is introduced to deal with this problem. Indeed, CVaR measures the expected value of the loss in those cases where VaR estimate has been exceeded."
   ]
  },
  {
   "cell_type": "code",
   "execution_count": 36,
   "metadata": {},
   "outputs": [],
   "source": [
    "def fivePercentVaR(trials):\n",
    "    numTrials = trials.count()\n",
    "    topLosses = trials.takeOrdered(max(round(numTrials/20.0), 1))\n",
    "    return topLosses[-1]\n",
    "\n",
    "# an extension of VaR\n",
    "def fivePercentCVaR(trials):\n",
    "    numTrials = trials.count()\n",
    "    topLosses = trials.takeOrdered(max(round(numTrials/20.0), 1))\n",
    "    return sum(topLosses)/len(topLosses)\n",
    "\n",
    "def bootstrappedConfidenceInterval(\n",
    "      trials, computeStatisticFunction,\n",
    "      numResamples, pValue):\n",
    "    stats = []\n",
    "    for i in range(0, numResamples):\n",
    "        resample = trials.sample(True, 1.0)\n",
    "        stats.append(computeStatisticFunction(resample))\n",
    "    sorted(stats)\n",
    "    lowerIndex = int(numResamples * pValue / 2 - 1)\n",
    "    upperIndex = int(np.ceil(numResamples * (1 - pValue / 2)))\n",
    "    return (stats[lowerIndex], stats[upperIndex])"
   ]
  },
  {
   "cell_type": "markdown",
   "metadata": {},
   "source": [
    "Next, we will run the Monte Carlo simulation 10,000 times, in parallel using Spark. Remember to set the parallelism value accordingly."
   ]
  },
  {
   "cell_type": "markdown",
   "metadata": {},
   "source": [
    "### Question 7\n",
    "<div class=\"alert alert-info\">\n",
    "Complete the code below to define the simulation process and calculate VaR 5%.\n",
    "</div>"
   ]
  },
  {
   "cell_type": "code",
   "execution_count": 37,
   "metadata": {},
   "outputs": [],
   "source": [
    "# RUN MONTE CARLO SILMULATION\n",
    "def simulateTrialReturns(numTrials, factorMeans, factorCov, weights):\n",
    "    \n",
    "    trialReturns = []\n",
    "    \n",
    "    for i in range(0, numTrials):\n",
    "        \n",
    "        # GENERATE SAMPLES OF THE BUILT MODEL\n",
    "        trialFactorReturns = np.random.multivariate_normal(factorMeans, factorCov)\n",
    "        \n",
    "        # FEATURIZE THE FACTOR RETURNS\n",
    "        trialFeatures = featurize(trialFactorReturns.tolist())\n",
    "\n",
    "        # INSERT INTERCEPT\n",
    "        trialFeatures.insert(0, 1)\n",
    "\n",
    "        # CALCULATE THE TOTAL RETURN\n",
    "        trialTotalReturn = 0\n",
    "        for w in weights.value:\n",
    "            trialTotalReturn += np.array(w).dot(trialFeatures) # for each stock\n",
    "        trialReturns.append(trialTotalReturn)\n",
    "        \n",
    "    return trialReturns"
   ]
  },
  {
   "cell_type": "code",
   "execution_count": 38,
   "metadata": {},
   "outputs": [
    {
     "name": "stdout",
     "output_type": "stream",
     "text": [
      "\n"
     ]
    },
    {
     "data": {
      "text/html": [
       "<table border=\"1\" class=\"dataframe\">\n",
       "  <thead>\n",
       "    <tr style=\"text-align: right;\">\n",
       "      <th>Value at Risk (VaR) 5%%</th>\n",
       "    </tr>\n",
       "  </thead>\n",
       "  <tbody>\n",
       "    <tr>\n",
       "      <td>-20.788001</td>\n",
       "    </tr>\n",
       "  </tbody>\n",
       "</table>"
      ],
      "text/plain": [
       "<IPython.core.display.HTML object>"
      ]
     },
     "metadata": {},
     "output_type": "display_data"
    },
    {
     "name": "stdout",
     "output_type": "stream",
     "text": [
      "\n",
      "\n"
     ]
    },
    {
     "data": {
      "text/html": [
       "<table border=\"1\" class=\"dataframe\">\n",
       "  <thead>\n",
       "    <tr style=\"text-align: right;\">\n",
       "      <th>Conditional Value at Risk (CVaR) 5%%</th>\n",
       "    </tr>\n",
       "  </thead>\n",
       "  <tbody>\n",
       "    <tr>\n",
       "      <td>-26.319061</td>\n",
       "    </tr>\n",
       "  </tbody>\n",
       "</table>"
      ],
      "text/plain": [
       "<IPython.core.display.HTML object>"
      ]
     },
     "metadata": {},
     "output_type": "display_data"
    },
    {
     "name": "stdout",
     "output_type": "stream",
     "text": [
      "\n"
     ]
    }
   ],
   "source": [
    "# SET PARAMETERS\n",
    "parallelism = 4\n",
    "numTrials = 10000\n",
    "trialIndexes = list(range(0, parallelism))\n",
    "seedRDD = sc.parallelize(trialIndexes, parallelism)\n",
    "bFactorWeights = sc.broadcast(weights)\n",
    "\n",
    "# DISTRIBUTED COMPUTING OF SIMULATION\n",
    "trials = seedRDD.flatMap(lambda idx: simulateTrialReturns(\n",
    "                    max(int(numTrials/parallelism), 1), \n",
    "                    factorMeans,\n",
    "                    factorCov,\n",
    "                    bFactorWeights\n",
    "                ))\n",
    "trials.cache()\n",
    "\n",
    "# CALCULATE VALUE AT RISK\n",
    "valueAtRisk = fivePercentVaR(trials)\n",
    "conditionalValueAtRisk = fivePercentCVaR(trials)\n",
    "\n",
    "# SHOW VaR\n",
    "displayTable(np.matrix(valueAtRisk), [\"Value at Risk (VaR) 5%%\"], \"\")\n",
    "displayTable(np.matrix(conditionalValueAtRisk), [\"Conditional Value at Risk (CVaR) 5%%\"], \"\")"
   ]
  },
  {
   "cell_type": "markdown",
   "metadata": {},
   "source": [
    "The value of VaR depends on how many invested stocks and the chosen distribution of random variables. Assume that we get VaR 5% = -2.66,  that means that there is a 0.05 probability that the portfolio will fall in value by more than \\$2.66 over a two weeks' period if there is no trading. In other words, the loses are less than \\$2.66 over two weeks' period with 95% confidence level. When a loss over two weeks is more than \\$2.66, we call it **failure** (or **exception**). Informally, because of 5% probability, we expect that there are only $0.05*W$ failures out of total $W$ windows."
   ]
  },
  {
   "cell_type": "markdown",
   "metadata": {},
   "source": [
    "### Step 5: Evaluating the results using backtesting method\n",
    "In general, the error in a Monte Carlo simulation should be proportional to 1/sqrt(n), where n is the number of trials. This means, for example, that quadrupling the number of trials should approximately cut the error in half. A good way to check the quality of a result is backtesting on historical data. Backtesting is a statistical procedure where actual losses are compared to the estimated VaR. For instance, if the confidence level used to calculate VaR is 95% (or VaR 5%), we expect only 5 failures over 100 two-week time windows.\n",
    "\n",
    "The most common test of a VaR model is counting the number of VaR failures, i.e., in how many windows, the losses exceed VaR estimate. If the number of exceptions is less than selected confidence level would indicate, the VaR model overestimates the risk. On the contrary, if there are too many exceptions, the risk is underestimated. However, it's very hard to observe the amount of failures suggested by the confidence level exactly. Therefore, people try to study whether the number of failures is reasonable or not, or will the model be accepted or rejected.\n",
    "\n",
    "One common test is Kupiec's proportion-of-failures (POF) test. This test considers how the portfolio performed at many historical time intervals and counts the number of times that the losses exceeded the VaR. The null hypothesis is that the VaR is reasonable, and a sufficiently extreme test statistic means that the VaR estimate does not accurately describe the data. The test statistic is computed as:\n",
    "\n",
    "$$\n",
    "-2ln\\Bigg(\\frac{(1-p)^{T-x}p^x}{(1-\\frac{x}{T})^{T-x}(\\frac{x}{T})^x}\\Bigg)\n",
    "$$\n",
    "\n",
    "where:\n",
    "\n",
    "$p$ is the quantile-of-loss of the VaR calculation (e.g., in VaR 5%, p=0.05),\n",
    "\n",
    "$x$ (the number of failures) is the number of historical intervals over which the losses exceeded the VaR \n",
    "\n",
    "$T$ is  the total number of historical intervals considered\n",
    "\n",
    "Or we can expand out the log for better numerical stability:\n",
    "\n",
    "$$\n",
    "\\begin{equation}\n",
    "-2\\Big((T-x)ln(1-p)+x*ln(p)-(T-x)ln(1-\\frac{x}{T})-x*ln(\\frac{x}{T})\\Big)\n",
    "\\end{equation}\n",
    "$$\n",
    "\n",
    "If we assume the null hypothesis that the VaR is reasonable, then this test statistic is drawn from a chi-squared distribution with a single degree of freedom. By using Chi-squared distribution, we can find the `p-value` accompanying our test statistic value.  If `p-value` exceeds the critical value of the Chi-squared distribution, we do have sufficient evidence to reject the null hypothesis that the model is reasonable. Or we can say, in that case, the model is considered as inaccurate.\n",
    "\n",
    "For example, assume that we calculate VaR 5% (the confidence level of the VaR model is 95%) and get value VaR = 2.26. We also observed 50 exceptions over 500 time windows. Using the formula above, the test statistic `p-value` is calculated and equal to `8.08`. Compared to `3.84`, the critical value of Chi-squared distribution with one degree of freedom at probability 5%, the test statistic is larger. So, the model is rejected. The critical values of Chi-squared can be found by following [this link](https://people.richland.edu/james/lecture/m170/tbl-chi.html).\n",
    "However, in this Notebook, it's not a good idea to find the corresponding critical value by looking in a \"messy\" table, especially when we need to change the confidence level. Instead, from `p-value`, we will calculate the probability of the test statistic in Chi-square thanks to some functions in package `scipy`. If the calculated probability is smaller than the quantile of loss (e.g, 0.05), the model is rejected and vice versa.\n"
   ]
  },
  {
   "cell_type": "markdown",
   "metadata": {},
   "source": [
    "### Question 8\n",
    "\n",
    "#### Question 8.1\n",
    "<div class=\"alert alert-info\">\n",
    "\n",
    "Write a function to calculate the number of failures, that is when the losses (in the original data) exceed the VaR.<br>\n",
    "<br>\n",
    "<div class=\"label label-success\">HINT</div>\n",
    "<ul>\n",
    "  <li>First, we need to calculate the total loss in each 2-week time interval</li>\n",
    "  <li>If the total loss of a time interval exceeds VaR, then we say that our VaR fails to estimate the risk in that time interval</li>\n",
    "  <li>Return the number of failures</li>\n",
    "</ul>  \n",
    "\n",
    "<div class=\"label label-danger\">NOTE</div>\n",
    "The loss is often having negative value, so, be careful when compare it to VaR.\n",
    "</div>"
   ]
  },
  {
   "cell_type": "code",
   "execution_count": 39,
   "metadata": {},
   "outputs": [],
   "source": [
    "def countFailures(stocksReturn, valueAtRisk):\n",
    "    \n",
    "    failures = 0\n",
    "    numWindows = len(stocksReturn[0])\n",
    "    \n",
    "    # iterate over time intervals\n",
    "    for i in range(0, numWindows):\n",
    "        \n",
    "        # calculate the losses in each time interval\n",
    "        loss = sum([sr[i] for sr in stocksReturn])\n",
    "\n",
    "        # if the loss exceeds VaR\n",
    "        # (the \"<\" is enough for all the VaR range of values)\n",
    "        if loss < valueAtRisk:\n",
    "            failures += 1\n",
    "            \n",
    "    return failures"
   ]
  },
  {
   "cell_type": "markdown",
   "metadata": {},
   "source": [
    "#### Question 8.2\n",
    "<div class=\"alert alert-info\">\n",
    "\n",
    "Write a function named `kupiecTestStatistic` to calculate the test statistic which was described in the above equation.\n",
    "\n",
    "</div>"
   ]
  },
  {
   "cell_type": "code",
   "execution_count": 40,
   "metadata": {},
   "outputs": [],
   "source": [
    "# FUNCTION FOR KUPIEC TEST\n",
    "def kupiecTestStatistic(total, failures, confidenceLevel):\n",
    "    failureRatio = failures / total\n",
    "    logNumer = (total-failures) * np.log(1-confidenceLevel) + failures * np.log(confidenceLevel)\n",
    "    logDenom = (total-failures) * np.log(1-failureRatio) + failures * np.log(failureRatio)\n",
    "    return -2 * (logNumer - logDenom)\n",
    "\n",
    "# TEST THE FUNCTION\n",
    "assert (round(kupiecTestStatistic(250, 36, 0.1), 2) == 4.80), \"function kupiecTestStatistic runs incorrectly\""
   ]
  },
  {
   "cell_type": "markdown",
   "metadata": {},
   "source": [
    "Now we can find the p-value accompanying our test statistic value."
   ]
  },
  {
   "cell_type": "code",
   "execution_count": 41,
   "metadata": {},
   "outputs": [],
   "source": [
    "def kupiecTestPValue(stocksReturns, valueAtRisk, confidenceLevel):\n",
    "    failures = countFailures(stocksReturns, valueAtRisk)\n",
    "    N = len(stocksReturns)\n",
    "    print(\"Number of failures:\", failures)\n",
    "    total = len(stocksReturns[0])\n",
    "    testStatistic = kupiecTestStatistic(total, failures, confidenceLevel)\n",
    "    # return 1 - stats.chi2.cdf(testStatistic, 1.0)\n",
    "    return stats.chi2.sf(testStatistic, 1.0)"
   ]
  },
  {
   "cell_type": "code",
   "execution_count": 42,
   "metadata": {
    "scrolled": false
   },
   "outputs": [
    {
     "name": "stdout",
     "output_type": "stream",
     "text": [
      "VaR confidence interval:\n"
     ]
    },
    {
     "data": {
      "text/html": [
       "<table border=\"1\" class=\"dataframe\">\n",
       "  <thead>\n",
       "    <tr style=\"text-align: right;\">\n",
       "      <th>min</th>\n",
       "      <th>max</th>\n",
       "    </tr>\n",
       "  </thead>\n",
       "  <tbody>\n",
       "    <tr>\n",
       "      <td>-20.6563</td>\n",
       "      <td>-20.778642</td>\n",
       "    </tr>\n",
       "  </tbody>\n",
       "</table>"
      ],
      "text/plain": [
       "<IPython.core.display.HTML object>"
      ]
     },
     "metadata": {},
     "output_type": "display_data"
    },
    {
     "name": "stdout",
     "output_type": "stream",
     "text": [
      "\n",
      "CVaR confidence interval:\n"
     ]
    },
    {
     "data": {
      "text/html": [
       "<table border=\"1\" class=\"dataframe\">\n",
       "  <thead>\n",
       "    <tr style=\"text-align: right;\">\n",
       "      <th>min</th>\n",
       "      <th>max</th>\n",
       "    </tr>\n",
       "  </thead>\n",
       "  <tbody>\n",
       "    <tr>\n",
       "      <td>-26.478516</td>\n",
       "      <td>-26.218662</td>\n",
       "    </tr>\n",
       "  </tbody>\n",
       "</table>"
      ],
      "text/plain": [
       "<IPython.core.display.HTML object>"
      ]
     },
     "metadata": {},
     "output_type": "display_data"
    },
    {
     "name": "stdout",
     "output_type": "stream",
     "text": [
      "\n",
      "Number of failures: 103\n",
      "\n"
     ]
    },
    {
     "data": {
      "text/html": [
       "<table border=\"1\" class=\"dataframe\">\n",
       "  <thead>\n",
       "    <tr style=\"text-align: right;\">\n",
       "      <th>Kupiec test p-value</th>\n",
       "    </tr>\n",
       "  </thead>\n",
       "  <tbody>\n",
       "    <tr>\n",
       "      <td>0.000007</td>\n",
       "    </tr>\n",
       "  </tbody>\n",
       "</table>"
      ],
      "text/plain": [
       "<IPython.core.display.HTML object>"
      ]
     },
     "metadata": {},
     "output_type": "display_data"
    },
    {
     "name": "stdout",
     "output_type": "stream",
     "text": [
      "\n"
     ]
    }
   ],
   "source": [
    "# GET VaR AND CVaR\n",
    "varConfidenceInterval = bootstrappedConfidenceInterval(trials, fivePercentVaR, 100, 0.05)\n",
    "cvarConfidenceInterval = bootstrappedConfidenceInterval(trials, fivePercentCVaR, 100, .05)\n",
    "\n",
    "# SHOW VALUES\n",
    "displayTable(np.matrix(varConfidenceInterval), [\"min\", \"max\"], \"VaR confidence interval:\")\n",
    "displayTable(np.matrix(cvarConfidenceInterval), [\"min\", \"max\"], \"CVaR confidence interval:\")\n",
    "displayTable(np.matrix(kupiecTestPValue(stocksReturns, valueAtRisk, 0.05)), [\"Kupiec test p-value\"], \"\")"
   ]
  },
  {
   "cell_type": "markdown",
   "metadata": {},
   "source": [
    "#### Question 8.3\n",
    "<div class=\"alert alert-info\">\n",
    "\n",
    "Discuss the results you have obtained\n",
    "\n",
    "</div>"
   ]
  },
  {
   "cell_type": "markdown",
   "metadata": {},
   "source": [
    "<div class=\"alert alert-success\">\n",
    "\n",
    "PUT YOUR ANSWER HERE !\n",
    "\n",
    "</div>"
   ]
  },
  {
   "cell_type": "markdown",
   "metadata": {},
   "source": [
    "### Question 9\n",
    "<div class=\"alert alert-info\">\n",
    "Assume that we invest in more than 100 stocks. Use the same market factors as for the previous questions to estimate VaR by running MCS, then validate your result.  \n",
    "\n",
    "What is the main observation you have, once you answer this question? When you plan to invest in more instruments, how is your ability to predict the risk going to be affected?\n",
    "</div>\n"
   ]
  },
  {
   "cell_type": "code",
   "execution_count": 107,
   "metadata": {},
   "outputs": [],
   "source": [
    "## PREPROCESSING PHASE\n",
    "\n",
    "# LOAD RAW DATA\n",
    "rawStocks = loadRawStocks(100)\n",
    "# allFactors is already loaded\n",
    "\n",
    "# LOAD PROCESSED DATA\n",
    "stocks, factors = loadStocks(rawStocks, allFactors, start, end)\n",
    "\n",
    "# CALCULATE RETURNS\n",
    "stocksReturns = list(map(twoWeekReturns, stocks))\n",
    "factorsReturns = list(map(twoWeekReturns, factors))"
   ]
  },
  {
   "cell_type": "code",
   "execution_count": 108,
   "metadata": {},
   "outputs": [
    {
     "name": "stdout",
     "output_type": "stream",
     "text": [
      "\n"
     ]
    },
    {
     "data": {
      "text/html": [
       "<table border=\"1\" class=\"dataframe\">\n",
       "  <thead>\n",
       "    <tr style=\"text-align: right;\">\n",
       "      <th>Value at Risk (VaR) 5%%</th>\n",
       "    </tr>\n",
       "  </thead>\n",
       "  <tbody>\n",
       "    <tr>\n",
       "      <td>-543.632075</td>\n",
       "    </tr>\n",
       "  </tbody>\n",
       "</table>"
      ],
      "text/plain": [
       "<IPython.core.display.HTML object>"
      ]
     },
     "metadata": {},
     "output_type": "display_data"
    },
    {
     "name": "stdout",
     "output_type": "stream",
     "text": [
      "\n",
      "\n"
     ]
    },
    {
     "data": {
      "text/html": [
       "<table border=\"1\" class=\"dataframe\">\n",
       "  <thead>\n",
       "    <tr style=\"text-align: right;\">\n",
       "      <th>Conditional Value at Risk (CVaR) 5%%</th>\n",
       "    </tr>\n",
       "  </thead>\n",
       "  <tbody>\n",
       "    <tr>\n",
       "      <td>-861.086828</td>\n",
       "    </tr>\n",
       "  </tbody>\n",
       "</table>"
      ],
      "text/plain": [
       "<IPython.core.display.HTML object>"
      ]
     },
     "metadata": {},
     "output_type": "display_data"
    },
    {
     "name": "stdout",
     "output_type": "stream",
     "text": [
      "\n"
     ]
    }
   ],
   "source": [
    "## PARAMETERS ESTIMATION\n",
    "\n",
    "# MODEL BUILDING\n",
    "weights = buildModel(factorsReturns, stocksReturns)\n",
    "\n",
    "# GET MULTIVARIATE\n",
    "factorCov = np.cov(factorsReturns)\n",
    "factorMeans = [sum(fr)/len(fr) for fr in factorsReturns]\n",
    "sample = np.random.multivariate_normal(factorMeans, factorCov)\n",
    "\n",
    "# SET PARAMETERS\n",
    "parallelism = 4\n",
    "numTrials = 10000\n",
    "trialIndexes = list(range(0, parallelism))\n",
    "seedRDD = sc.parallelize(trialIndexes, parallelism)\n",
    "bFactorWeights = sc.broadcast(weights)\n",
    "\n",
    "# RUN\n",
    "trials = seedRDD.flatMap(lambda idx: simulateTrialReturns(\n",
    "                    max(int(numTrials/parallelism), 1), \n",
    "                    factorMeans,\n",
    "                    factorCov,\n",
    "                    bFactorWeights\n",
    "                ))\n",
    "trials.cache()\n",
    "\n",
    "# CALCULATE VaR\n",
    "valueAtRisk = fivePercentVaR(trials)\n",
    "conditionalValueAtRisk = fivePercentCVaR(trials)\n",
    "\n",
    "# SHOW RESULTS\n",
    "displayTable(np.matrix(valueAtRisk), [\"Value at Risk (VaR) 5%%\"], \"\")\n",
    "displayTable(np.matrix(conditionalValueAtRisk), [\"Conditional Value at Risk (CVaR) 5%%\"], \"\")"
   ]
  },
  {
   "cell_type": "markdown",
   "metadata": {},
   "source": [
    "<div class=\"alert alert-success\">\n",
    "\n",
    "PUT YOUR ANSWER HERE !\n",
    "\n",
    "</div>"
   ]
  },
  {
   "cell_type": "markdown",
   "metadata": {},
   "source": [
    "### Question 10\n",
    "<div class=\"alert alert-info\">\n",
    "\n",
    "In the previous questions, we used the normal distributions to sample the factors returns.  \n",
    "\n",
    "Try to study how results vary when selecting other probability distributions: our goal is to improve the result of our MCS.\n",
    "</div>"
   ]
  },
  {
   "cell_type": "markdown",
   "metadata": {},
   "source": [
    "# 6. Summary\n",
    "In this lecture, we studied the Monte Carlo Simulation method and its application to estimate financial risk. To apply it, first, we needed to define the relationship between market factors and the instruments' returns. In such step, you must define the model which maps the market factors' values to the instruments' values: in our use case, we used a linear regression function for building our model. Next, we also had to find the parameters of our model, which are the weights of the factors we considered. Then, we had to study the distribution of each market factor. A good way to do that is using Kernel density estimation to smooth the distribution and plot it. Depending on the shape of each figure, we had to guess the best fit distribution for each factor: in our use case, we used a very simple approach, and decided that our smoothed distributions all looked normal distributions. \n",
    "\n",
    "Then, the idea of Monte Carlo simulation was to generate many possible values for each factor and calculate the corresponding outcomes by a well-defined model in each trial. After many trials, we were able to calculate VaR from the sequences of outcome's values. When the number of trials is large enough, the VaR converges to reasonable values, that we could validate using well-known statistical hypothesis. "
   ]
  },
  {
   "cell_type": "markdown",
   "metadata": {},
   "source": [
    "# References\n",
    "- The example in section 2 is inspired from [this article](http://www.solver.com/monte-carlo-simulation-example).\n",
    "- [Backtesting Value-at-Risk models](https://aaltodoc.aalto.fi/bitstream/handle/123456789/181/hse_ethesis_12049.pdf?sequence=1) (Kansantaloustiede, 2009) - (A good reference to study Backtesting).\n"
   ]
  },
  {
   "cell_type": "code",
   "execution_count": null,
   "metadata": {},
   "outputs": [],
   "source": []
  }
 ],
 "metadata": {
  "kernelspec": {
   "display_name": "Python 3",
   "language": "python",
   "name": "python3"
  },
  "language_info": {
   "codemirror_mode": {
    "name": "ipython",
    "version": 3
   },
   "file_extension": ".py",
   "mimetype": "text/x-python",
   "name": "python",
   "nbconvert_exporter": "python",
   "pygments_lexer": "ipython3",
   "version": "3.6.4"
  }
 },
 "nbformat": 4,
 "nbformat_minor": 2
}
