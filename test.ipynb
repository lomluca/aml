{
 "cells": [
  {
   "cell_type": "markdown",
   "metadata": {},
   "source": [
    "2018 Edition"
   ]
  },
  {
   "cell_type": "markdown",
   "metadata": {},
   "source": [
    "# Building a music recommender system\n",
    "\n",
    "As its name implies, a recommender system is a tool that helps predicting what a user may or may not like among a list of given items. In some sense, you can view this as an alternative to content search, as recommendation engines help users discover products or content that they may not come across otherwise. For example, Facebook suggests friends and pages to users. Youtube recommends videos which users may be interested in. Amazon suggests the products which users may need... Recommendation engines engage users to services, can be seen as a revenue optimization process, and in general help maintaining interest in a service.\n",
    "\n",
    "In this notebook, we study how to build a simple recommender system: we focus on music recommendations, and we use a simple algorithm to predict which items users might like, that is called ALS, alternating least squares.\n",
    "\n",
    "## Goals\n",
    "\n",
    "In this lecture, we expect students to:\n",
    "\n",
    "- Revisit (or learn) recommender algorithms\n",
    "\n",
    "- Understand the idea of Matrix Factorization and the ALS algorithm (serial and parallel versions)\n",
    "\n",
    "- Build a simple model for a real usecase: music recommender system\n",
    "\n",
    "- Understand how to validate the results\n",
    "\n",
    "## Steps\n",
    "\n",
    "We assume students to work outside lab hours on the learning material. These are the steps by which we guide students, during labs, to build a good basis for the end-to-end development of a recommender system:\n",
    "\n",
    "* Inspect the data using Spark SQL, and build some basic, but very valuable knowledge about the information we have at hand\n",
    "* Formally define what is a sensible algorithm to achieve our goal: given the \"history\" of user taste for music, recommend new music to discover. Essentialy, we want to build a statistical model of user preferences such that we can use it to \"predict\" which additional music the user could like\n",
    "* With our formal definition at hand, we will learn different ways to implement such an algorithm. Our goal here is to illustrate what are the difficulties to overcome when implementing a (parallel) algorithm\n",
    "* Finally, we will focus on an existing implementation, available in the Apache Spark MLLib, which we will use out of the box to build a reliable statistical model\n",
    "\n",
    "Now, you may think at this point we will be done!\n",
    "\n",
    "Well, you'd better think twice: one important topic we will cover in all our Notebooks is **how to validate the results we obtain**, and **how to choose good parameters to train models** especially when using an \"opaque\" library for doing the job. As a consequence, we will focus on the statistical validation of our recommender system.\n"
   ]
  },
  {
   "cell_type": "markdown",
   "metadata": {},
   "source": [
    "# 1. Data\n",
    "\n",
    "Understanding data is one of the most important part when designing any machine learning algorithm. In this notebook, we will use a data set published by Audioscrobbler - a music recommendation system for last.fm. Audioscrobbler is also one of the first internet streaming radio sites, founded in 2002. It provided an open API for “scrobbling”, or recording listeners’ plays of artists’ songs. last.fm used this information to build a powerful music recommender engine.\n",
    "\n",
    "## 1.1. Data schema\n",
    "\n",
    "Unlike a rating dataset which contains information about users' preference for products (one star, 3 stars, and so on), the datasets from Audioscrobbler only has information about events: specifically, it keeps track of how many times a user played songs of a given artist and the names of artists. That means it carries less information than a rating: in the literature, this is called explicit vs. implicit ratings.\n",
    "\n",
    "### Reading material\n",
    "\n",
    "- [Implicit Feedback for Inferring User Preference: A Bibliography](http://people.csail.mit.edu/teevan/work/publications/papers/sigir-forum03.pdf)\n",
    "- [Comparing explicit and implicit feedback techniques for web retrieval: TREC-10 interactive track report](http://trec.nist.gov/pubs/trec10/papers/glasgow.pdf)\n",
    "- [Probabilistic Models for Data Combination in Recommender Systems](http://mlg.eng.cam.ac.uk/pub/pdf/WilGha08.pdf)\n",
    "\n",
    "The data we use in this Notebook is available in 3 files (these files are stored in our HDFS layer, in the directory  ```/datasets/lastfm```):\n",
    "\n",
    "- **`user_artist_data.txt`**: It contains about 140,000+ unique users, and 1.6 million unique artists. About 24.2 million users’ plays of artists’ are recorded, along with their count. It has 3 columns separated by spaces: \n",
    "\n",
    "| UserID | ArtistID | PlayCount |\n",
    "|----|----|----|\n",
    "| ...|...|...|\n",
    "\n",
    "\n",
    "- **`artist_data.txt`** : It prodives the names of each artist by their IDs. It has 2 columns separated by tab characters (`\\t`).\n",
    "\n",
    "| ArtistID | Name |\n",
    "|---|---|\n",
    "|...|...|\n",
    "\n",
    "- **`artist_alias.txt`**: Note that when plays are scrobbled, the client application submits the name of the artist being played. This name could be misspelled or nonstandard. For example, \"The Smiths\", \"Smiths, The\", and \"the smiths\" may appear as distinct artist IDs in the data set, even though they are plainly the same. `artist_alias.txt` maps artist IDs that are known misspellings or variants to the canonical ID of that artist. The data in this file has 2 columns separated by tab characters (`\\t`).\n",
    "\n",
    "| MisspelledArtistID | StandardArtistID |\n",
    "|---|---|\n",
    "|...|...|\n",
    "\n"
   ]
  },
  {
   "cell_type": "markdown",
   "metadata": {},
   "source": [
    "## 1.2. Understanding data: simple descriptive statistic\n",
    "\n",
    "In order to choose or design a suitable algorithm for achieving our goals, given the data we have, we should first understand data characteristics. To start, we import the necessary packages to work with regular expressions, Data Frames, and other nice features of our programming environment."
   ]
  },
  {
   "cell_type": "code",
   "execution_count": 1,
   "metadata": {
    "collapsed": true
   },
   "outputs": [],
   "source": [
    "import os\n",
    "import sys\n",
    "import re\n",
    "import random\n",
    "from pyspark import SparkContext\n",
    "from pyspark.sql import SQLContext\n",
    "from pyspark.sql.types import *\n",
    "from pyspark.sql import Row\n",
    "from pyspark.sql.functions import *\n",
    "\n",
    "%matplotlib inline\n",
    "import matplotlib.pyplot as plt\n",
    "import pandas as pd\n",
    "import numpy as np\n",
    "from time import time\n",
    "from IPython.display import display, HTML\n",
    "\n",
    "sqlContext = SQLContext(sc)\n",
    "base = \"/datasets/lastfm/\"\n",
    "\n",
    "# UTILITY METHOD TO DISPLAY DATAFRAME IN A \"BEAUTIFUL\" SCHEMA TABLE\n",
    "def displayDF(dataframe, header):\n",
    "    dataframe.columns = header\n",
    "    display(HTML(dataframe.to_html(index=False)))"
   ]
  },
  {
   "cell_type": "markdown",
   "metadata": {},
   "source": [
    "### Question 1\n",
    "\n",
    "#### Question 1.0 (Non-grading)\n",
    "<div class=\"alert alert-info\">\n",
    "Using SPARK SQL, load data from `/datasets/lastfm/user_artist_data.txt` and show the first 20 entries (via function `show()`).\n",
    "</div>\n",
    "\n",
    "For this Notebook, from a programming point of view, we are given the schema for the data we use, which is as follows:\n",
    "\n",
    "```\n",
    "userID: long int\n",
    "artistID: long int\n",
    "playCount: int\n",
    "```\n",
    "\n",
    "Each line of the dataset contains the above three fields, separated by a \"white space\"."
   ]
  },
  {
   "cell_type": "code",
   "execution_count": 2,
   "metadata": {},
   "outputs": [
    {
     "name": "stdout",
     "output_type": "stream",
     "text": [
      "+-------+--------+---------+\n",
      "| userID|artistID|playCount|\n",
      "+-------+--------+---------+\n",
      "|1000002|       1|       55|\n",
      "|1000002| 1000006|       33|\n",
      "|1000002| 1000007|        8|\n",
      "|1000002| 1000009|      144|\n",
      "|1000002| 1000010|      314|\n",
      "|1000002| 1000013|        8|\n",
      "|1000002| 1000014|       42|\n",
      "|1000002| 1000017|       69|\n",
      "|1000002| 1000024|      329|\n",
      "|1000002| 1000025|        1|\n",
      "|1000002| 1000028|       17|\n",
      "|1000002| 1000031|       47|\n",
      "|1000002| 1000033|       15|\n",
      "|1000002| 1000042|        1|\n",
      "|1000002| 1000045|        1|\n",
      "|1000002| 1000054|        2|\n",
      "|1000002| 1000055|       25|\n",
      "|1000002| 1000056|        4|\n",
      "|1000002| 1000059|        2|\n",
      "|1000002| 1000062|       71|\n",
      "+-------+--------+---------+\n",
      "only showing top 20 rows\n",
      "\n"
     ]
    }
   ],
   "source": [
    "userArtistDataSchema = StructType([ \\\n",
    "    StructField(\"userID\", LongType(), True), \\\n",
    "    StructField(\"artistID\", LongType(), True), \\\n",
    "    StructField(\"playCount\", IntegerType(), True)])\n",
    "\n",
    "userArtistDF = sqlContext.read \\\n",
    "    .format('com.databricks.spark.csv') \\\n",
    "    .options(header='false', delimiter=' ') \\\n",
    "    .load(base + \"user_artist_data.txt\", schema = userArtistDataSchema) \\\n",
    "    .cache()\n",
    "\n",
    "# we can cache an Dataframe to avoid computing it from the beginning everytime it is accessed.\n",
    "userArtistDF.cache()\n",
    "\n",
    "userArtistDF.show()"
   ]
  },
  {
   "cell_type": "markdown",
   "metadata": {},
   "source": [
    "#### Question 1.1: \n",
    "<div class=\"alert alert-info\">\n",
    "How many distinct users do we have in our data? \n",
    "</div>"
   ]
  },
  {
   "cell_type": "code",
   "execution_count": 2,
   "metadata": {},
   "outputs": [
    {
     "ename": "NameError",
     "evalue": "name 'userArtistDF' is not defined",
     "output_type": "error",
     "traceback": [
      "\u001b[1;31m---------------------------------------------------------------------------\u001b[0m",
      "\u001b[1;31mNameError\u001b[0m                                 Traceback (most recent call last)",
      "\u001b[1;32m<ipython-input-2-5da6400193d5>\u001b[0m in \u001b[0;36m<module>\u001b[1;34m()\u001b[0m\n\u001b[1;32m----> 1\u001b[1;33m \u001b[0muniqueUsers\u001b[0m \u001b[1;33m=\u001b[0m \u001b[0muserArtistDF\u001b[0m\u001b[1;33m.\u001b[0m\u001b[0mselect\u001b[0m\u001b[1;33m(\u001b[0m\u001b[1;34m'userID'\u001b[0m\u001b[1;33m)\u001b[0m\u001b[1;33m.\u001b[0m\u001b[0mdistinct\u001b[0m\u001b[1;33m(\u001b[0m\u001b[1;33m)\u001b[0m\u001b[1;33m.\u001b[0m\u001b[0mcount\u001b[0m\u001b[1;33m(\u001b[0m\u001b[1;33m)\u001b[0m\u001b[1;33m\u001b[0m\u001b[0m\n\u001b[0m\u001b[0;32m      2\u001b[0m \u001b[1;33m\u001b[0m\u001b[0m\n\u001b[0;32m      3\u001b[0m \u001b[0mprint\u001b[0m\u001b[1;33m(\u001b[0m\u001b[1;34m\"Total n. of users: \"\u001b[0m\u001b[1;33m,\u001b[0m \u001b[0muniqueUsers\u001b[0m\u001b[1;33m)\u001b[0m\u001b[1;33m\u001b[0m\u001b[0m\n\u001b[0;32m      4\u001b[0m \u001b[1;33m\u001b[0m\u001b[0m\n\u001b[0;32m      5\u001b[0m \u001b[1;31m# NEW CODE\u001b[0m\u001b[1;33m\u001b[0m\u001b[1;33m\u001b[0m\u001b[0m\n",
      "\u001b[1;31mNameError\u001b[0m: name 'userArtistDF' is not defined"
     ]
    }
   ],
   "source": [
    "uniqueUsers = userArtistDF.select('userID').distinct().count()\n",
    "\n",
    "print(\"Total n. of users: \", uniqueUsers)\n",
    "\n",
    "# NEW CODE\n",
    "print(\"Prova1\")"
   ]
  },
  {
   "cell_type": "markdown",
   "metadata": {},
   "source": [
    "<div class=\"alert alert-success\">\n",
    "As we can see from the count computation (of distinct users) we get about 150000 users.\n",
    "\n",
    "# NEW COMMENT\n",
    "commento in più\n",
    "</div>"
   ]
  },
  {
   "cell_type": "markdown",
   "metadata": {},
   "source": [
    "#### Question 1.2\n",
    "<div class=\"alert alert-info\">\n",
    "How many distinct artists do we have in our data ?\n",
    "</div>"
   ]
  },
  {
   "cell_type": "code",
   "execution_count": 1,
   "metadata": {},
   "outputs": [
    {
     "ename": "NameError",
     "evalue": "name 'userArtistDF' is not defined",
     "output_type": "error",
     "traceback": [
      "\u001b[0;31m---------------------------------------------------------------------------\u001b[0m",
      "\u001b[0;31mNameError\u001b[0m                                 Traceback (most recent call last)",
      "\u001b[0;32m<ipython-input-1-b30a38c9407d>\u001b[0m in \u001b[0;36m<module>\u001b[0;34m()\u001b[0m\n\u001b[0;32m----> 1\u001b[0;31m \u001b[0muniqueArtists\u001b[0m \u001b[0;34m=\u001b[0m \u001b[0muserArtistDF\u001b[0m\u001b[0;34m.\u001b[0m\u001b[0mselect\u001b[0m\u001b[0;34m(\u001b[0m\u001b[0;34m'artistID'\u001b[0m\u001b[0;34m)\u001b[0m\u001b[0;34m.\u001b[0m\u001b[0mdistinct\u001b[0m\u001b[0;34m(\u001b[0m\u001b[0;34m)\u001b[0m\u001b[0;34m.\u001b[0m\u001b[0mcount\u001b[0m\u001b[0;34m(\u001b[0m\u001b[0;34m)\u001b[0m\u001b[0;34m\u001b[0m\u001b[0m\n\u001b[0m\u001b[1;32m      2\u001b[0m \u001b[0mprint\u001b[0m\u001b[0;34m(\u001b[0m\u001b[0;34m\"New code from Luca\"\u001b[0m\u001b[0;34m)\u001b[0m\u001b[0;34m\u001b[0m\u001b[0m\n\u001b[1;32m      3\u001b[0m \u001b[0mprint\u001b[0m\u001b[0;34m(\u001b[0m\u001b[0;34m\"Total n. of artists: \"\u001b[0m\u001b[0;34m,\u001b[0m \u001b[0muniqueArtists\u001b[0m\u001b[0;34m)\u001b[0m\u001b[0;34m\u001b[0m\u001b[0m\n",
      "\u001b[0;31mNameError\u001b[0m: name 'userArtistDF' is not defined"
     ]
    }
   ],
   "source": [
    "uniqueArtists = userArtistDF.select('artistID').distinct().count()\n",
    "print(\"New code from Luca\")\n",
    "print(\"Total n. of artists: \", uniqueArtists)"
   ]
  },
  {
   "cell_type": "markdown",
   "metadata": {},
   "source": [
    "<div class=\"alert alert-success\">\n",
    "The different artists in the datasets are about 1600000.\n",
    "Just for comparison: we have ~10^5 users and ~10^6 artists.\n",
    "</div>"
   ]
  },
  {
   "cell_type": "markdown",
   "metadata": {},
   "source": [
    "#### Question 1.3\n",
    "<div class=\"alert alert-info\">\n",
    "One limitation of Spark MLlib's ALS implementation - which we will use later - is that it requires IDs for users and items to be nonnegative 32-bit integers. This means that IDs larger than `Integer.MAX_VALUE`, or `2147483647`, can't be used. So we need to check whether this data set conforms to the strict requirements of our library.  \n",
    "\n",
    "What are the maximum and minimum values of column `userID` ?  \n",
    "</div>"
   ]
  },
  {
   "cell_type": "code",
   "execution_count": 5,
   "metadata": {},
   "outputs": [
    {
     "name": "stdout",
     "output_type": "stream",
     "text": [
      "+-----------+-----------+\n",
      "|min(userID)|max(userID)|\n",
      "+-----------+-----------+\n",
      "|         90|    2443548|\n",
      "+-----------+-----------+\n",
      "\n"
     ]
    }
   ],
   "source": [
    "userArtistDF.select(min('userID'), max('userID')).show()"
   ]
  },
  {
   "cell_type": "markdown",
   "metadata": {},
   "source": [
    "<div class=\"alert alert-success\">\n",
    "From the computation of the minimum and maximum values of the userID, we are sure that the range is compatible with the Spark MLlib limitations. Indeed, the minimum value is non-negative, and the maximum value is below the 'Integer.MAX_VALUE' constant.\n",
    "</div>"
   ]
  },
  {
   "cell_type": "markdown",
   "metadata": {},
   "source": [
    "#### Question 1.4\n",
    "<div class=\"alert alert-info\">\n",
    "What is the maximum and minimum values of column `artistID` ?\n",
    "</div>"
   ]
  },
  {
   "cell_type": "code",
   "execution_count": 6,
   "metadata": {},
   "outputs": [
    {
     "name": "stdout",
     "output_type": "stream",
     "text": [
      "+-------------+-------------+\n",
      "|min(artistID)|max(artistID)|\n",
      "+-------------+-------------+\n",
      "|            1|     10794401|\n",
      "+-------------+-------------+\n",
      "\n"
     ]
    }
   ],
   "source": [
    "userArtistDF.select(min('artistID'), max('artistID')).show()"
   ]
  },
  {
   "cell_type": "markdown",
   "metadata": {},
   "source": [
    "<div class=\"alert alert-success\">\n",
    "Similarly to the previous result, the range of values of the artistID is also compatible with the limitations of MLlib.\n",
    "</div>"
   ]
  },
  {
   "cell_type": "markdown",
   "metadata": {},
   "source": [
    "We just discovered that we have a total of 148,111 users in our dataset. Similarly, we have a total of 1,631,028 artists in our dataset. The maximum values of `userID` and `artistID` are still smaller than the biggest number of integer type.  No additional transformation will be necessary to use these IDs.\n",
    "\n",
    "One thing we can see here is that SPARK SQL provides very concise and powerful methods for data analytics (compared to using RDD and their low-level API). You can see more examples [here](https://databricks.com/blog/2015/06/02/statistical-and-mathematical-functions-with-dataframes-in-spark.html)."
   ]
  },
  {
   "cell_type": "markdown",
   "metadata": {},
   "source": [
    "Next, we might want to understand better user activity and artist popularity.\n",
    "\n",
    "Here is a list of simple descriptive queries that helps us reaching these purposes:\n",
    "\n",
    "* How many times each user has played a song? This is a good indicator of who are the most active users of our service. Note that a very active user with many play counts does not necessarily mean that the user is also \"curious\"! Indeed, she could have played the same song several times.\n",
    "* How many play counts for each artist? This is a good indicator of the artist popularity. Since we do not have time information associated to our data, we can only build a, e.g., top-10 ranking of the most popular artists in the dataset. Later in the notebook, we will learn that our dataset has a very \"loose\" definition about artists: very often artist IDs point to song titles as well. This means we have to be careful when establishing popular artists. Indeed, artists whose data is \"well formed\" will have the correct number of play counts associated to them. Instead, artists that appear mixed with song titles may see their play counts \"diluted\" across their songs."
   ]
  },
  {
   "cell_type": "markdown",
   "metadata": {},
   "source": [
    "### Question 2\n",
    "\n",
    "#### Question 2.1\n",
    "<div class=\"alert alert-info\">\n",
    "How many times each user has played a song? Show 5 samples of the result.\n",
    "</div>"
   ]
  },
  {
   "cell_type": "code",
   "execution_count": 7,
   "metadata": {},
   "outputs": [
    {
     "name": "stdout",
     "output_type": "stream",
     "text": [
      "+-------+--------------+\n",
      "| userID|sum(playCount)|\n",
      "+-------+--------------+\n",
      "|2289066|            51|\n",
      "|2289173|          5938|\n",
      "|2290086|          1080|\n",
      "|2291343|            37|\n",
      "|2291463|          8802|\n",
      "+-------+--------------+\n",
      "only showing top 5 rows\n",
      "\n"
     ]
    }
   ],
   "source": [
    "userActivity = userArtistDF.groupBy('userID').sum('playCount')\n",
    "userActivity.show(5)\n",
    "userActivity = userActivity.collect()"
   ]
  },
  {
   "cell_type": "markdown",
   "metadata": {},
   "source": [
    "<div class=\"alert alert-success\">\n",
    "Above we can find the total number of play counts for five users.<br>\n",
    "</div>"
   ]
  },
  {
   "cell_type": "markdown",
   "metadata": {},
   "source": [
    "#### Question 2.2\n",
    "<div class=\"alert alert-info\">\n",
    "Plot CDF (or ECDF) of the number of play counts per User ID.  \n",
    "\n",
    "Explain and comment the figure you just created:   \n",
    "<ul>\n",
    "<li>for example, look at important percentiles (25%, median, 75%, tails such as >90%) and cross check with what you have found above to figure out if the result is plausible. </li>\n",
    "<li>discuss about your users, with respect to the application domain we target in the notebook: you will notice that for some users, there is very little interaction with the system, which means that maybe reccommending something to them is going to be more difficult than for other users who interact more with the system. </li>\n",
    "<li>look at outliers and reason about their impact on your reccommender algorithm</li>\n",
    "</ul>\n",
    "</div>"
   ]
  },
  {
   "cell_type": "code",
   "execution_count": 8,
   "metadata": {},
   "outputs": [
    {
     "data": {
      "image/png": "[encoded data removed]",
      "text/plain": [
       "<matplotlib.figure.Figure at 0x7f39593fa9e8>"
      ]
     },
     "metadata": {},
     "output_type": "display_data"
    },
    {
     "name": "stdout",
     "output_type": "stream",
     "text": [
      "\n",
      "\n",
      "Play count quantile (with 0.1%-wide ranges):\n",
      "0.1        34.0\n",
      "0.2       132.0\n",
      "0.3       293.0\n",
      "0.4       535.0\n",
      "0.5       892.0\n",
      "0.6      1415.0\n",
      "0.7      2226.0\n",
      "0.8      3584.0\n",
      "0.9      6484.0\n",
      "1.0    674412.0\n",
      "Name: 1, dtype: float64\n",
      "\n",
      "\n",
      "Play count quantile (with 0.25%-wide ranges):\n",
      "0.25       204.0\n",
      "0.50       892.0\n",
      "0.75      2800.0\n",
      "1.00    674412.0\n",
      "Name: 1, dtype: float64\n",
      "\n",
      "\n"
     ]
    },
    {
     "data": {
      "image/png": "[encoded data removed]",
      "text/plain": [
       "<matplotlib.figure.Figure at 0x7f3950a64cf8>"
      ]
     },
     "metadata": {},
     "output_type": "display_data"
    }
   ],
   "source": [
    "# CREATION OF THE PANDAS DATAFRAME\n",
    "pdf = pd.DataFrame(data=userActivity)\n",
    "\n",
    "# ECDF CREATION\n",
    "Y = np.sort(pdf[1])       # sorted play counts\n",
    "yvals = np.arange(len(Y))/float(len(Y))  # evenly spaced interval\n",
    "\n",
    "# ECDF PLOT\n",
    "plt.figure(figsize=(15,10))\n",
    "plt.semilogx(Y, yvals)\n",
    "plt.xlabel('Play Counts')\n",
    "plt.ylabel('ECDF')\n",
    "plt.grid(True, which=\"both\", ls=\"-\")\n",
    "plt.title('ECDF of number of play counts per User ID')\n",
    "plt.show()\n",
    "\n",
    "# LESS PRECISE COMPUTATIONS\n",
    "print()\n",
    "print()\n",
    "print('Play count quantile (with 0.1%-wide ranges):')\n",
    "print(pdf.quantile([0.1,0.2,0.3,0.4,0.5,0.6,0.7,0.8,0.9,1.0])[1])\n",
    "print()\n",
    "print()\n",
    "print('Play count quantile (with 0.25%-wide ranges):')\n",
    "print(pdf.quantile([0.25,0.50,0.75,1.00])[1])\n",
    "print()\n",
    "print()\n",
    "\n",
    "# BOXPLOT\n",
    "plt.figure(figsize=(15,10))\n",
    "plt.boxplot(Y)\n",
    "plt.show()"
   ]
  },
  {
   "cell_type": "markdown",
   "metadata": {},
   "source": [
    "<div class=\"alert alert-success\">\n",
    "First of all, we can look at the most important percentiles:<br>\n",
    "- the 25% percentile has a play count of 204<br>\n",
    "- the median of the play counts is of 892<br>\n",
    "- the 75% percentile instead, reaches 2800 plays<br>\n",
    "- the tails like 80% and 90% percentiles are, respectively, of 3584 and 6484<br>\n",
    "\n",
    "The data obtained is coherent with the previous graph. The function is really steep, for this reason we used a logarithmic x-scale in order to better highlight the shape.  \n",
    "<br>\n",
    "Given the fact that the maximum (percentile 100%) is 674412, we can notice that there is a huge gap between the 90% and the 100% percentiles. This means that the statistical 'tail' of the users will affect in a considerable way our predictions.\n",
    "</div>"
   ]
  },
  {
   "cell_type": "markdown",
   "metadata": {},
   "source": [
    "#### Question 2.3\n",
    "\n",
    "<div class=\"alert alert-info\">\n",
    "How many play counts for each artist? Plot CDF or ECDF of the result.  \n",
    "\n",
    "Similarly to the previous question, you need to comment and interpret your result: what is the figure telling you?\n",
    "</div>"
   ]
  },
  {
   "cell_type": "markdown",
   "metadata": {},
   "source": [
    "```python\n",
    "# Compute artist popularity\n",
    "# We are interested in how many playcounts per artist\n",
    "# ATTENTION! Grouping by artistID may be problematic, as stated above.\n",
    "\n",
    "artistPopularity = userArtistDF. ...\n",
    "```"
   ]
  },
  {
   "cell_type": "code",
   "execution_count": 9,
   "metadata": {},
   "outputs": [
    {
     "name": "stdout",
     "output_type": "stream",
     "text": [
      "+--------+--------------+\n",
      "|artistID|sum(playCount)|\n",
      "+--------+--------------+\n",
      "| 1003514|           949|\n",
      "| 1004346|          3772|\n",
      "|    5409|        526693|\n",
      "| 1002519|           405|\n",
      "| 1004223|           409|\n",
      "| 1004623|         22883|\n",
      "| 1006587|             8|\n",
      "| 1007049|         20788|\n",
      "| 1040113|             1|\n",
      "| 1000313|        128183|\n",
      "| 1233634|         15204|\n",
      "|    5556|         39866|\n",
      "| 1001530|        199573|\n",
      "| 1002734|        131077|\n",
      "| 1027988|         11665|\n",
      "| 1000061|             2|\n",
      "| 1008547|            15|\n",
      "| 1001409|           100|\n",
      "| 1001872|           467|\n",
      "|    1697|          4391|\n",
      "+--------+--------------+\n",
      "only showing top 20 rows\n",
      "\n"
     ]
    }
   ],
   "source": [
    "artistPopularity = userArtistDF.groupBy('artistID').sum('playCount')\n",
    "\n",
    "artistPopularity.show()\n",
    "artistPopularity = artistPopularity.collect()"
   ]
  },
  {
   "cell_type": "code",
   "execution_count": 10,
   "metadata": {},
   "outputs": [
    {
     "data": {
      "image/png": "[encoded data removed]",
      "text/plain": [
       "<matplotlib.figure.Figure at 0x7f3950931b70>"
      ]
     },
     "metadata": {},
     "output_type": "display_data"
    },
    {
     "name": "stdout",
     "output_type": "stream",
     "text": [
      "\n",
      "\n",
      "Play count quantile (with 0.1%-wide ranges):\n",
      "0.1          1.0\n",
      "0.2          1.0\n",
      "0.3          1.0\n",
      "0.4          2.0\n",
      "0.5          3.0\n",
      "0.6          5.0\n",
      "0.7          8.0\n",
      "0.8         15.0\n",
      "0.9         45.0\n",
      "1.0    2502130.0\n",
      "Name: 1, dtype: float64\n",
      "\n",
      "\n",
      "Play count quantile (with 0.25%-wide ranges):\n",
      "0.25          1.0\n",
      "0.50          3.0\n",
      "0.75         11.0\n",
      "1.00    2502130.0\n",
      "Name: 1, dtype: float64\n"
     ]
    }
   ],
   "source": [
    "# CREATION OF THE PANDAS DATAFRAME\n",
    "pdf = pd.DataFrame(data=artistPopularity)\n",
    "\n",
    "# ECDF CREATION\n",
    "Y = np.sort(pdf[1])                      # sorted play counts\n",
    "yvals = np.arange(len(Y))/float(len(Y))  # evenly spaced interval\n",
    "\n",
    "# ECDF PLOT\n",
    "plt.figure(figsize=(15,10))\n",
    "plt.semilogx(Y, yvals)\n",
    "plt.xlabel('Play Counts')\n",
    "plt.ylabel('ECDF')\n",
    "plt.grid(True, which=\"both\", ls=\"-\")\n",
    "plt.title('ECDF of number of play counts per Artist ID')\n",
    "plt.show()\n",
    "\n",
    "# LESS PRECISE COMPUTATIONS\n",
    "print()\n",
    "print()\n",
    "print('Play count quantile (with 0.1%-wide ranges):')\n",
    "print(pdf.quantile([0.1,0.2,0.3,0.4,0.5,0.6,0.7,0.8,0.9,1.0])[1])\n",
    "print()\n",
    "print()\n",
    "print('Play count quantile (with 0.25%-wide ranges):')\n",
    "print(pdf.quantile([0.25,0.50,0.75,1.00])[1])"
   ]
  },
  {
   "cell_type": "markdown",
   "metadata": {},
   "source": [
    "<div class=\"alert alert-success\">\n",
    "First of all, we can look at the most important percentiles:<br>\n",
    "- the 25% percentile has a play count of 1<br>\n",
    "- the median of the play counts is of 3<br>\n",
    "- the 75% percentile instead, reaches 11 plays<br>\n",
    "- the tails like 80% and 90% percentiles are, respectively, of 15 and 45<br>\n",
    "<br>\n",
    "The 100% percentile shows, as we've seen before, a huge number of plays (of the order of 10^6).<br>\n",
    "This is interesting: it means that the majority of the artists are not very played, while there are some extremely famous artists that are hugely played. Until the 90% percentile, the number of plays is 45, that is a really small quantity with respect to the huge number of plays received by the 100% of the artists.<br>\n",
    "It's possible that this result is caused by uncleaned data, like mispelled artists, that could bring a lot of artistIDs that correspond to a single real artist.<br>\n",
    "Obviously this can be an issue for the recommendations: the very little portion of very famous artists will be very recommended and the other artists would be excluded.\n",
    "</div>"
   ]
  },
  {
   "cell_type": "markdown",
   "metadata": {},
   "source": [
    "#### Question 2.4\n",
    "<div class=\"alert alert-info\">\n",
    "Plot a bar chart to show top 5 artists In terms of absolute play counts.  \n",
    "\n",
    "Comment the figure you just obtained: \n",
    "<ul>\n",
    "<li>are these reasonable results?</li>\n",
    "<li>is looking at top-5 artists enough to learn more about your data?</li>\n",
    "<li>do you see anything strange in the data?</li>\n",
    "</ul>\n",
    "</div>"
   ]
  },
  {
   "cell_type": "code",
   "execution_count": 11,
   "metadata": {},
   "outputs": [
    {
     "data": {
      "image/png": "[encoded data removed]",
      "text/plain": [
       "<matplotlib.figure.Figure at 0x7f3950a6c198>"
      ]
     },
     "metadata": {},
     "output_type": "display_data"
    }
   ],
   "source": [
    "# TOP 5 ARTISTS\n",
    "sortedArtist = sorted(artistPopularity, key = lambda x: -x[1])[0:5]\n",
    "\n",
    "artistID = [w[0] for w in sortedArtist]\n",
    "frequency = [w[1] for w in sortedArtist]\n",
    "y_pos = range(len(sortedArtist))\n",
    "\n",
    "plt.figure(figsize=(15,10))\n",
    "plt.barh(y_pos, frequency[::-1], align='center', alpha=0.4)\n",
    "plt.yticks(y_pos, artistID[::-1])\n",
    "plt.xlabel('Play Count')\n",
    "plt.ylabel('Artist ID')\n",
    "plt.title('Top-5 Artist ID per play counts')\n",
    "plt.show()"
   ]
  },
  {
   "cell_type": "markdown",
   "metadata": {},
   "source": [
    "<div class=\"alert alert-success\">\n",
    "Obtained data seems to be reasonable but looking at this graph only is not enough to conclude something. We don't learn anything about the distribution, we don't know how the gaps between ranked artists change, we don't know if the rank is correct: all these aspects could be influenced by dirty data. We should clean as much as possible our data in order to have correct values of absolute play counts. After that we can study better our data and we can conclude if the cleaning process considerably change the characteristics of our analysis.\n",
    "\n",
    "We are going to do this further. At the moment we can plot the top-50 of the same graph in order to have a more general picture of our data."
   ]
  },
  {
   "cell_type": "code",
   "execution_count": null,
   "metadata": {
    "collapsed": true
   },
   "outputs": [],
   "source": [
    "# TOP 50 ARTISTS\n",
    "sortedArtist = sorted(artistPopularity, key = lambda x: -x[1])[0:50]\n",
    "\n",
    "artistID = [w[0] for w in sortedArtist]\n",
    "frequency = [w[1] for w in sortedArtist]\n",
    "y_pos = range(len(sortedArtist))\n",
    "\n",
    "plt.figure(figsize=(15,10))\n",
    "plt.barh(y_pos, frequency[::-1], align='center', alpha=0.4)\n",
    "plt.yticks(y_pos, artistID[::-1])\n",
    "plt.xlabel('Play Count')\n",
    "plt.ylabel('Artist ID')\n",
    "plt.title('Top-50 Artist ID per play counts')\n",
    "plt.show()"
   ]
  },
  {
   "cell_type": "markdown",
   "metadata": {},
   "source": [
    "All seems clear right now, but ... wait a second! What about the problems indicated above about artist \"disambiguation\"? Are these artist ID we are using referring to unique artists? How can we make sure that such \"opaque\" identifiers point to different bands? Let's try to use some additional dataset to answer this question:  `artist_data.txt` dataset. This time, the schema of the dataset consists in:\n",
    "\n",
    "```\n",
    "artist ID: long int\n",
    "name: string\n",
    "```\n",
    "\n",
    "We will try to find whether a single artist has two different IDs."
   ]
  },
  {
   "cell_type": "markdown",
   "metadata": {},
   "source": [
    "### Question 3\n",
    "\n",
    "#### Question 3.1\n",
    "\n",
    "<div class=\"alert alert-info\">\n",
    "Load the data from `/datasets/lastfm/artist_data.txt` and use the SparkSQL API to show 5 samples.  \n",
    "\n",
    "<ul></ul>\n",
    "<div class=\"label label-success\">HINT:</div> If you encounter some error when parsing lines in data because of invalid entries, parameter `mode='DROPMALFORMED'` will help you to eliminate these entries. The suggested syntax is: `<df>.options(header='false', delimiter='\\t', mode='DROPMALFORMED')`.\n",
    "\n",
    "</div>"
   ]
  },
  {
   "cell_type": "code",
   "execution_count": 12,
   "metadata": {},
   "outputs": [
    {
     "name": "stdout",
     "output_type": "stream",
     "text": [
      "+--------+--------------------+\n",
      "|artistID|                name|\n",
      "+--------+--------------------+\n",
      "| 1134999|        06Crazy Life|\n",
      "| 6821360|        Pang Nakarin|\n",
      "|10113088|Terfel, Bartoli- ...|\n",
      "|10151459| The Flaming Sidebur|\n",
      "| 6826647|   Bodenstandig 3000|\n",
      "+--------+--------------------+\n",
      "only showing top 5 rows\n",
      "\n"
     ]
    }
   ],
   "source": [
    "customSchemaArtist = StructType([ \\\n",
    "    StructField(\"artistID\", LongType(), True), \\\n",
    "    StructField(\"name\", StringType(), True)])\n",
    "\n",
    "artistDF = sqlContext.read \\\n",
    "    .format('com.databricks.spark.csv') \\\n",
    "    .options(header='false', delimiter='\\t', mode='DROPMALFORMED') \\\n",
    "    .load(base + 'artist_data.txt', schema=customSchemaArtist)\n",
    "\n",
    "artistDF.cache()\n",
    "artistDF.show(5)"
   ]
  },
  {
   "cell_type": "markdown",
   "metadata": {},
   "source": [
    "#### Question 3.2\n",
    "<div class=\"alert alert-info\">\n",
    "Find 20 artists whose name contains `Aerosmith`. Take a look at artists that have ID equal to `1000010` and `2082323`. In your opinion, are they pointing to the same artist?  \n",
    "\n",
    "<ul></ul>\n",
    "<div class=\"label label-success\">HINT:</div> Function `locate(sub_string, string)` can be useful in this case.\n",
    "</div>"
   ]
  },
  {
   "cell_type": "code",
   "execution_count": 13,
   "metadata": {},
   "outputs": [
    {
     "name": "stdout",
     "output_type": "stream",
     "text": [
      "+--------+--------------------+\n",
      "|artistID|                name|\n",
      "+--------+--------------------+\n",
      "|10586006|Dusty Springfield...|\n",
      "| 6946007|    Aerosmith/RunDMC|\n",
      "|10475683|Aerosmith: Just P...|\n",
      "| 1083031|    Aerosmith/ G n R|\n",
      "| 6872848|Britney, Nsync, N...|\n",
      "|10586963|Green Day - Oasis...|\n",
      "|10028830|The Aerosmith Ant...|\n",
      "|10300357| Run-DMC + Aerosmith|\n",
      "| 2027746|Aerosmith by Musi...|\n",
      "| 1140418|[rap]Run DMC and ...|\n",
      "|10237208| Aerosmith + Run DMC|\n",
      "|10588537|Aerosmith, Kid Ro...|\n",
      "| 9934757|Aerosmith - Big Ones|\n",
      "|10437510|Green Day ft. Oas...|\n",
      "| 6936680| RUN DNC & Aerosmith|\n",
      "|10479781|      Aerosmith Hits|\n",
      "|10114147|Charlies Angels -...|\n",
      "| 1262439|Kid Rock, Run DMC...|\n",
      "| 7032554|Aerosmith & Run-D...|\n",
      "|10033592|          Aerosmith?|\n",
      "+--------+--------------------+\n",
      "only showing top 20 rows\n",
      "\n",
      "+--------+---------+\n",
      "|artistID|     name|\n",
      "+--------+---------+\n",
      "| 1000010|Aerosmith|\n",
      "+--------+---------+\n",
      "\n",
      "+--------+------------+\n",
      "|artistID|        name|\n",
      "+--------+------------+\n",
      "| 2082323|01 Aerosmith|\n",
      "+--------+------------+\n",
      "\n"
     ]
    }
   ],
   "source": [
    "# get artists whose name contains \"Aerosmith\"\n",
    "artistDF[locate(\"Aerosmith\", \"name\") > 0].show(20)\n",
    "\n",
    "# show two examples\n",
    "artistDF[artistDF.artistID==1000010].show()\n",
    "artistDF[artistDF.artistID==2082323].show()"
   ]
  },
  {
   "cell_type": "markdown",
   "metadata": {},
   "source": [
    "<div class=\"alert alert-success\">\n",
    "Of course the two artistIDs point to the same artist, but they differ because in the second case we have a mispelled name. This is a big issue for our analysis. Other similar issues could be the featurings (e.g. <i>\"Aerosmith + Run DMC\"</i> or <i>\"Aerosmith/ G n R\"</i>).\n",
    "</div>"
   ]
  },
  {
   "cell_type": "markdown",
   "metadata": {},
   "source": [
    "To answer this question correctly, we need to use an additional dataset `artist_alias.txt` which contains the ids of mispelled artists and standard artists. The schema of the dataset consists in:\n",
    "\n",
    "```\n",
    "mispelledID ID: long int\n",
    "standard ID: long int\n",
    "```"
   ]
  },
  {
   "cell_type": "markdown",
   "metadata": {},
   "source": [
    "#### Question 3.3\n",
    "<div class=\"alert alert-info\">\n",
    "Using SparkSQL API, load the dataset from `/datasets/lastfm/artist_alias.txt` then show 5 samples.\n",
    "</div>"
   ]
  },
  {
   "cell_type": "code",
   "execution_count": 41,
   "metadata": {},
   "outputs": [
    {
     "name": "stdout",
     "output_type": "stream",
     "text": [
      "+-----------+----------+\n",
      "|mispelledID|standardID|\n",
      "+-----------+----------+\n",
      "|    1092764|   1000311|\n",
      "|    1095122|   1000557|\n",
      "|    6708070|   1007267|\n",
      "|   10088054|   1042317|\n",
      "|    1195917|   1042317|\n",
      "+-----------+----------+\n",
      "only showing top 5 rows\n",
      "\n"
     ]
    }
   ],
   "source": [
    "customSchemaArtistAlias = StructType([ \\\n",
    "    StructField(\"mispelledID\", LongType(), True), \\\n",
    "    StructField(\"standardID\", LongType(), True)])\n",
    "\n",
    "artistAliasDF = sqlContext.read \\\n",
    "    .format('com.databricks.spark.csv') \\\n",
    "    .options(header='false', delimiter='\\t', mode='DROPMALFORMED') \\\n",
    "    .load(base + 'artist_alias.txt', schema=customSchemaArtistAlias)\n",
    "\n",
    "artistAliasDF.cache()\n",
    "artistAliasDF.show(5)"
   ]
  },
  {
   "cell_type": "markdown",
   "metadata": {},
   "source": [
    "#### Question 3.4\n",
    "<div class=\"alert alert-info\">\n",
    "Verify the answer of question 3.2 (\"Are artists that have ID equal to `1000010` and `2082323` the same ?\") by finding the standard ids corresponding to the mispelled ids `1000010` and `2082323` respectively.\n",
    "</div>"
   ]
  },
  {
   "cell_type": "code",
   "execution_count": 42,
   "metadata": {},
   "outputs": [
    {
     "name": "stdout",
     "output_type": "stream",
     "text": [
      "+-----------+----------+\n",
      "|mispelledID|standardID|\n",
      "+-----------+----------+\n",
      "+-----------+----------+\n",
      "\n",
      "+-----------+----------+\n",
      "|mispelledID|standardID|\n",
      "+-----------+----------+\n",
      "|    2082323|   1000010|\n",
      "+-----------+----------+\n",
      "\n"
     ]
    }
   ],
   "source": [
    "artistAliasDF[artistAliasDF['mispelledID']==1000010].show()\n",
    "artistAliasDF[artistAliasDF['mispelledID']==2082323].show()"
   ]
  },
  {
   "cell_type": "markdown",
   "metadata": {},
   "source": [
    "<div class=\"alert alert-success\">\n",
    "We can notice that 2082323 is a mispelled artist name, and corresponds to the original artist with ID 11000010.\n",
    "The ID 11000010 is itself an original one, so it has not been considered as a mispelled artist.\n",
    "</div>"
   ]
  },
  {
   "cell_type": "code",
   "execution_count": 43,
   "metadata": {},
   "outputs": [
    {
     "name": "stdout",
     "output_type": "stream",
     "text": [
      "The number of rows, that before was 193027 now is 190881\n"
     ]
    }
   ],
   "source": [
    "# ARTIST ALIAS DATA CLEANING (USELESS ROW REMOVAL)\n",
    "artistAliasDFnew = artistAliasDF \\\n",
    "    .filter(artistAliasDF.mispelledID != artistAliasDF.standardID)\n",
    "\n",
    "# MESSAGE PRINT\n",
    "print(\"The number of rows, that before was\", artistAliasDF.count(), \"now is\", artistAliasDFnew.count())\n",
    "\n",
    "# OVERWRITE\n",
    "artistAliasDF = artistAliasDFnew"
   ]
  },
  {
   "cell_type": "markdown",
   "metadata": {},
   "source": [
    "<div class=\"alert alert-success\">\n",
    "We noticed that in the Artist Alias DataFrame there were multiple lines containing useless informations;\n",
    "in different words, the mispelledID was identical to the standardID. The filtering we've done deleted those lines.\n",
    "</div>"
   ]
  },
  {
   "cell_type": "markdown",
   "metadata": {},
   "source": [
    "### Question 4\n",
    "\n",
    "The mispelled or nonstandard information about artist make our results in the previous queries a bit \"sloppy\". To overcome this problem, we can replace all mispelled artist ids by the corresponding standard ids and re-compute the basic descriptive statistics on the \"amended\" data.\n",
    "First, we construct a \"dictionary\" that maps non-standard ids to a standard ones. Then this \"dictionary\" will be used to replace the mispelled artists.\n",
    "\n",
    "#### Question 4.1\n",
    "<div class=\"alert alert-info\">\n",
    "From data in the dataframe loaded from `/datasets/lastfm/artist_alias.txt`, construct a dictionary that maps each non-standard id to its standard id.  \n",
    "\n",
    "<div class=\"label label-success\">HINT:</div> Instead of using function `collect`, we can use `collectAsMap` to convert the collected data to a dictionary inline.\n",
    "</div>"
   ]
  },
  {
   "cell_type": "code",
   "execution_count": 44,
   "metadata": {
    "collapsed": true
   },
   "outputs": [],
   "source": [
    "artistAlias = artistAliasDF.rdd.map(lambda row: (row[0], row[1])).collectAsMap()"
   ]
  },
  {
   "cell_type": "markdown",
   "metadata": {},
   "source": [
    "#### Question 4.2\n",
    "<div class=\"alert alert-info\">\n",
    "Using the constructed dictionary in question 4.1, replace the non-standard artist ids in the dataframe that was loaded from `/datasets/lastfm/user_artist_data.txt` by the corresponding standard ids then show 5 samples.\n",
    "</div>\n",
    "\n",
    "\n",
    "**NOTE 1**: If an id doesn't exist in the dictionary as a mispelled id, it is really a standard id.\n",
    "\n",
    "\n",
    "Using funtion `map` on Spark Dataframe will give us an RDD. We can convert this RDD back to Dataframe by using `sqlContext.createDataFrame(rdd_name, sql_schema)`\n",
    "\n",
    "\n",
    "**NOTE 2**: be careful! you need to be able to verify that you indeed solved the problem of having bad artist IDs. In principle, for the new data to be correct, we should to have duplicate pairs (user, artist), potentially with different play counts, right? In answering the question, please **show** that you indeed fixed the problem. "
   ]
  },
  {
   "cell_type": "code",
   "execution_count": 39,
   "metadata": {},
   "outputs": [
    {
     "name": "stdout",
     "output_type": "stream",
     "text": [
      "+-------+--------+---------+\n",
      "| userID|artistID|playCount|\n",
      "+-------+--------+---------+\n",
      "|1000002|       1|       55|\n",
      "|1000002| 1000006|       33|\n",
      "|1000002| 1000007|        8|\n",
      "|1000002| 1000009|      144|\n",
      "|1000002| 1000010|      314|\n",
      "+-------+--------+---------+\n",
      "only showing top 5 rows\n",
      "\n",
      "The script takes 1.459196 seconds\n"
     ]
    }
   ],
   "source": [
    "from time import time\n",
    "\n",
    "# FUNCTION TO REPLACE THE MISPELLED ID WITH THE ORIGINAL ONE\n",
    "def replaceMispelledIDs(fields):\n",
    "    finalID = artistAlias.get(fields[1], fields[1])\n",
    "    return (fields[0], finalID, fields[2])\n",
    "\n",
    "# START TIME\n",
    "t0 = time()\n",
    "\n",
    "# DISTRIBUTED MAPPING FROM MISPELLED ID TO ORIGINAL ID\n",
    "newUserArtistDF = sqlContext.createDataFrame(\n",
    "    userArtistDF.rdd.map(replaceMispelledIDs), \n",
    "    userArtistDataSchema\n",
    ")\n",
    "\n",
    "# SECOND CLEANING PHASE (EXPLAINED IN THE COMMENT BELOW)\n",
    "newUserArtistDF = sqlContext.createDataFrame(\n",
    "    newUserArtistDF.rdd.map(replaceMispelledIDs), \n",
    "    userArtistDataSchema\n",
    ")\n",
    "\n",
    "# END TIME\n",
    "t1 = time()\n",
    "\n",
    "# PRINT RESULTS\n",
    "newUserArtistDF.show(5)\n",
    "print('The script takes %f seconds' %(t1-t0))"
   ]
  },
  {
   "cell_type": "markdown",
   "metadata": {},
   "source": [
    "<div class=\"alert alert-success\">\n",
    "The second clean phase hase been done because...\n",
    "</div>"
   ]
  },
  {
   "cell_type": "code",
   "execution_count": 45,
   "metadata": {},
   "outputs": [
    {
     "name": "stdout",
     "output_type": "stream",
     "text": [
      "+-------+--------+-----+\n",
      "| userID|artistID|count|\n",
      "+-------+--------+-----+\n",
      "|2013279| 2003588|    3|\n",
      "|2013595| 1034635|    2|\n",
      "|2013661| 1011031|    2|\n",
      "|2013712| 1224254|    2|\n",
      "|2013976| 1007712|    2|\n",
      "|2014211| 1295531|    2|\n",
      "|2014365| 9939720|    2|\n",
      "|2014580| 1244557|    2|\n",
      "|2015867| 1052205|    2|\n",
      "|2016026| 1013589|    2|\n",
      "|2016026| 1053818|    2|\n",
      "|2016156|     691|    3|\n",
      "|2016444| 1006334|    2|\n",
      "|2016717|     553|    2|\n",
      "|2016997|    4468|    2|\n",
      "|2017169| 1252957|    2|\n",
      "|2017874| 2025581|    2|\n",
      "|2017958| 2004120|    2|\n",
      "|2018654| 1003694|    2|\n",
      "|2018832| 1000591|    2|\n",
      "+-------+--------+-----+\n",
      "only showing top 20 rows\n",
      "\n"
     ]
    }
   ],
   "source": [
    "# FIRST CHECK THAT THE CORRECTION HAD SOME RESULTS\n",
    "newUserArtistDF \\\n",
    "    .groupBy('userID', 'artistID') \\\n",
    "    .agg(count(\"*\").alias(\"count\")) \\\n",
    "    .filter(\"count > 1\") \\\n",
    "    .show()"
   ]
  },
  {
   "cell_type": "markdown",
   "metadata": {},
   "source": [
    "<div class=\"alert alert-success\">\n",
    "As we can see from this result, there are a lot of pairs <i>('userID', 'artistID')</i> that show up multiple times.<br>\n",
    "This means that before we made the mispelling correction, the <i>'artistID'</i> value of these tuples were different, otherwise they would not have been in different tuples. Now they are in different rows, but they are the same, and this is demonstrated by our groupBy that shows a count more than 1 for the affected tuples.<br>\n",
    "</div>"
   ]
  },
  {
   "cell_type": "code",
   "execution_count": 40,
   "metadata": {},
   "outputs": [
    {
     "name": "stdout",
     "output_type": "stream",
     "text": [
      "+------+--------+---------+-----------+----------+\n",
      "|userID|artistID|playCount|mispelledID|standardID|\n",
      "+------+--------+---------+-----------+----------+\n",
      "+------+--------+---------+-----------+----------+\n",
      "\n"
     ]
    }
   ],
   "source": [
    "# RECHECK WITH THE MISPELLED ARTIST IDs,\n",
    "# TO CHECK THAT THE JOIN WITH THEM GIVES 0 VALUES\n",
    "newUserArtistDF \\\n",
    "    .join(artistAliasDF, newUserArtistDF.artistID == artistAliasDF.mispelledID, 'inner') \\\n",
    "    .show()"
   ]
  },
  {
   "cell_type": "markdown",
   "metadata": {},
   "source": [
    "#### Question 4.3\n",
    "<div class=\"alert alert-info\">\n",
    "Spark actions are executed through a set of stages, separated by distributed \"shuffle\" operations. Spark can be instructed to **automatically and efficiently** broadcast common data needed by tasks within **each stage**. The data broadcasted this way is cached in **serialized form** and deserialized before running each task.   \n",
    "<ul> </ul>\n",
    "We can thus improve our answer to question 4.2: we can reduce the communication cost by shipping the \"dictionary\" in a more efficient way by using `broadcast variable`. Broadcast variables allow the programmer to keep a read-only variable cached on **each machine** rather than shipping a copy of it with tasks. They are cached in deserialized form. They can be used, for example, to give every node a copy of a large input dataset in an efficient manner.   \n",
    "<ul></ul>\n",
    "The broadcast of variable `v` can be created by `bV = sc.broadcast(v)`. Then value of this broadcast variable can be access via `bV.value`  \n",
    "\n",
    "<ul></ul>\n",
    "To question is then: using a broadcast variable, modify the script in question 4.2 to get better performance in terms of running time.\n",
    "</div>\n"
   ]
  },
  {
   "cell_type": "code",
   "execution_count": 85,
   "metadata": {},
   "outputs": [
    {
     "name": "stdout",
     "output_type": "stream",
     "text": [
      "+-------+--------+---------+\n",
      "| userID|artistID|playCount|\n",
      "+-------+--------+---------+\n",
      "|1000002|       1|       55|\n",
      "|1000002| 1000006|       33|\n",
      "|1000002| 1000007|        8|\n",
      "|1000002| 1000009|      144|\n",
      "|1000002| 1000010|      314|\n",
      "+-------+--------+---------+\n",
      "only showing top 5 rows\n",
      "\n",
      "The script takes 0.027406 seconds\n"
     ]
    }
   ],
   "source": [
    "from time import time\n",
    "\n",
    "# BROADCAST THE MISPELLING DICTIONARY\n",
    "bArtistAlias = sc.broadcast(artistAlias)\n",
    "\n",
    "# FUNCTION TO REPLACE THE MISPELLED ID WITH THE ORIGINAL ONE\n",
    "def replaceMispelledIDs(fields):\n",
    "    finalID = bArtistAlias.value.get(fields[1], fields[1])\n",
    "    return (fields[0], finalID, fields[2])\n",
    "\n",
    "# START TIME\n",
    "t0 = time()\n",
    "\n",
    "# DISTRIBUTED MAPPING FROM MISPELLED ID TO ORIGINAL ID\n",
    "newUserArtistDF = sqlContext.createDataFrame(\n",
    "    userArtistDF.rdd.map(replaceMispelledIDs), \n",
    "    userArtistDataSchema\n",
    ")\n",
    "\n",
    "# SECOND CLEANING PHASE\n",
    "newUserArtistDF = sqlContext.createDataFrame(\n",
    "    newUserArtistDF.rdd.map(replaceMispelledIDs), \n",
    "    userArtistDataSchema\n",
    ")\n",
    "\n",
    "# END TIME\n",
    "t1 = time()\n",
    "\n",
    "# PRINT RESULTS\n",
    "newUserArtistDF.show(5)\n",
    "print('The script takes %f seconds' %(t1-t0))\n",
    "newUserArtistDF = newUserArtistDF.cache()"
   ]
  },
  {
   "cell_type": "markdown",
   "metadata": {},
   "source": [
    "Although having some advantages, explicitly creating broadcast variables is only useful when tasks across multiple stages need the same data or when caching the data in deserialized form is important."
   ]
  },
  {
   "cell_type": "markdown",
   "metadata": {},
   "source": [
    "<div class=\"alert alert-success\">\n",
    "Using broadcast variables our cleaning algorithm is so much faster than the previous implementation. The huge difference between the execution times is a clear sign that the communications over the network have a not-indifferent cost. We always have to use broadcast variables (if appropriate, of course).\n",
    "</div>"
   ]
  },
  {
   "cell_type": "markdown",
   "metadata": {},
   "source": [
    "### Question 5\n",
    "\n",
    "Well, our data frame contains clean and \"standard\" data. We can use it to redo previous statistic queries.\n",
    "\n",
    "#### Question 5.1\n",
    "<div class=\"alert alert-info\">\n",
    "How many unique artists? Compare with the result when using old data.\n",
    "</div>"
   ]
  },
  {
   "cell_type": "code",
   "execution_count": 46,
   "metadata": {},
   "outputs": [
    {
     "name": "stdout",
     "output_type": "stream",
     "text": [
      "The number of different artistIDs, that previously was 1631028 , now is 1568117 .\n",
      "The difference is 62911 representing the 3.86 % of the artists.\n"
     ]
    }
   ],
   "source": [
    "# COUNT THE NEW NUMBER OF ARTISTS\n",
    "newUniqueArtists = newUserArtistDF.select('artistID').distinct().count()\n",
    "\n",
    "# PRINT THE DIFFERENCE\n",
    "print('The number of different artistIDs, that previously was',\n",
    "    uniqueArtists, ', now is', newUniqueArtists, '.')\n",
    "print('The difference is', uniqueArtists-newUniqueArtists,\n",
    "    'representing the', \"{0:.2f}\".format((uniqueArtists-newUniqueArtists)*100/uniqueArtists), '% of the artists.')\n",
    "\n",
    "# OVERWRITE\n",
    "uniqueArtists = newUniqueArtists"
   ]
  },
  {
   "cell_type": "markdown",
   "metadata": {},
   "source": [
    "<div class=\"alert alert-success\">\n",
    "The difference of unique artistIDs is relevant: our mispelling correction worked fine, correcting the mispelled artistIDs.\n",
    "</div>"
   ]
  },
  {
   "cell_type": "markdown",
   "metadata": {},
   "source": [
    "#### Question 5.2\n",
    "\n",
    "<div class=\"alert alert-info\">\n",
    "Who are the top-10 artists?\n",
    "<ul>\n",
    "  <li>In terms of absolute play counts</li>\n",
    "  <li>In terms of \"audience size\", that is, how many users listened to one of their track at least once</li>\n",
    "</ul>  \n",
    "\n",
    "Plot the results, and explain the figures you obtain.\n",
    "<div>"
   ]
  },
  {
   "cell_type": "code",
   "execution_count": 48,
   "metadata": {},
   "outputs": [
    {
     "data": {
      "image/png": "[encoded data removed]",
      "text/plain": [
       "<matplotlib.figure.Figure at 0x7f3938334c18>"
      ]
     },
     "metadata": {},
     "output_type": "display_data"
    }
   ],
   "source": [
    "# TOP-10 ARTISTS IN TERM OF PLAY COUNTS\n",
    "top10ArtistsPC = newUserArtistDF.groupBy('artistID').sum('playCount').orderBy('sum(playCount)', ascending=0).take(10)\n",
    "\n",
    "# PLOT THE RESULTS\n",
    "y_pos = range(len(top10ArtistsPC))\n",
    "pdf = pd.DataFrame(data=top10ArtistsPC)\n",
    "plt.figure(figsize=(15,10))\n",
    "plt.barh(y_pos, pdf[1][::-1], align='center', alpha=0.4)\n",
    "plt.yticks(y_pos, pdf[0][::-1])\n",
    "plt.xlabel('Play Count')\n",
    "plt.ylabel('Artist')\n",
    "plt.title('Top-10 Artist ID per play counts')\n",
    "plt.show()"
   ]
  },
  {
   "cell_type": "markdown",
   "metadata": {},
   "source": [
    "<div class=\"alert alert-success\">\n",
    "The number of play counts in the top-10 of the artists is obviously changed: now the play counts are bigger, because the plays done on the \"mispelled artists\" are now counted in the original one.<br>\n",
    "However the results are not so different, because they have a very limited impact in the top-10: they don't change, for example, the chart order.\n",
    "</div>"
   ]
  },
  {
   "cell_type": "code",
   "execution_count": 49,
   "metadata": {},
   "outputs": [
    {
     "data": {
      "image/png": "[encoded data removed]",
      "text/plain": [
       "<matplotlib.figure.Figure at 0x7f3938f75e80>"
      ]
     },
     "metadata": {},
     "output_type": "display_data"
    }
   ],
   "source": [
    "# TOP-10 ARTISTS IN TERM OF AUDIENCE\n",
    "top10ArtistsAU = newUserArtistDF.groupBy('artistID').agg(countDistinct('userID').alias('count(userID)')).orderBy('count(userID)', ascending=0).take(10)\n",
    "\n",
    "# PLOT THE RESULTS\n",
    "y_pos = range(len(top10ArtistsAU))\n",
    "pdf = pd.DataFrame(data=top10ArtistsAU)\n",
    "plt.figure(figsize=(15,10))\n",
    "plt.barh(y_pos, pdf[1][::-1], align='center', alpha=0.4)\n",
    "plt.yticks(y_pos, pdf[0][::-1])\n",
    "plt.xlabel('# Users')\n",
    "plt.ylabel('Artist')\n",
    "plt.title('Top-10 Artist ID per audience size')\n",
    "plt.show()"
   ]
  },
  {
   "cell_type": "markdown",
   "metadata": {},
   "source": [
    "<div class=\"alert alert-success\">\n",
    "The \"top-10 per audience size\" graph is not really interesting per se but it confirms that there is a strong correlation between number of plays and popularity (that we call \"audience\" in this case). An artist with a huge number of plays is clearly really famous and for this reason we can find its ID in this graph too. Maybe it is better taking a look at a new graph which highlight this fact.\n",
    "</div>"
   ]
  },
  {
   "cell_type": "markdown",
   "metadata": {},
   "source": [
    "#### Question 5.3\n",
    "\n",
    "<div class=\"alert alert-info\">\n",
    "Who are the top-10 users?\n",
    "<ul>\n",
    "  <li>In terms of absolute play counts</li>\n",
    "  <li>In terms of \"curiosity\", that is, how many different artists they listened to</li>\n",
    "\n",
    "</ul>  \n",
    "\n",
    "Plot the results\n",
    "</div>"
   ]
  },
  {
   "cell_type": "code",
   "execution_count": 50,
   "metadata": {},
   "outputs": [
    {
     "data": {
      "image/png": "[encoded data removed]",
      "text/plain": [
       "<matplotlib.figure.Figure at 0x7f39389515f8>"
      ]
     },
     "metadata": {},
     "output_type": "display_data"
    }
   ],
   "source": [
    "# TOP-10 USERS IN TERM OF PLAY COUNTS\n",
    "top10UsersPC = newUserArtistDF.groupBy('userID').sum('playCount').orderBy('sum(playCount)', ascending=0).take(10)\n",
    "\n",
    "# PLOT THE RESULTS\n",
    "y_pos = range(len(top10UsersPC))\n",
    "pdf = pd.DataFrame(data=top10UsersPC)\n",
    "plt.figure(figsize=(15,10))\n",
    "plt.barh(y_pos, pdf[1][::-1], align='center', alpha=0.4)\n",
    "plt.yticks(y_pos, pdf[0][::-1])\n",
    "plt.xlabel('Play Count')\n",
    "plt.ylabel('User')\n",
    "plt.title('Top-10 Users ID per play counts')\n",
    "plt.show()"
   ]
  },
  {
   "cell_type": "code",
   "execution_count": 51,
   "metadata": {},
   "outputs": [
    {
     "data": {
      "image/png": "[encoded data removed]",
      "text/plain": [
       "<matplotlib.figure.Figure at 0x7f39396b3d68>"
      ]
     },
     "metadata": {},
     "output_type": "display_data"
    }
   ],
   "source": [
    "# TOP-10 USERS IN TERM OF CURIOSITY\n",
    "top10UsersCU = newUserArtistDF.groupBy('userID').agg(countDistinct('artistID').alias('count(artistID)')).orderBy('count(artistID)', ascending=0).take(10)\n",
    "\n",
    "# PLOT THE RESULTS\n",
    "y_pos = range(len(top10UsersCU))\n",
    "pdf = pd.DataFrame(data=top10UsersCU)\n",
    "plt.figure(figsize=(15,10))\n",
    "plt.barh(y_pos, pdf[1][::-1], align='center', alpha=0.4)\n",
    "plt.yticks(y_pos, pdf[0][::-1])\n",
    "plt.xlabel('# Artists')\n",
    "plt.ylabel('User')\n",
    "plt.title('Top-10 Users ID per curiosity')\n",
    "plt.show()"
   ]
  },
  {
   "cell_type": "markdown",
   "metadata": {},
   "source": [
    "Now we have some valuable information about the data. It's the time to study how to build a statistical models."
   ]
  },
  {
   "cell_type": "markdown",
   "metadata": {},
   "source": [
    "# 2. Build a statistical models to make recommendations\n",
    "\n",
    "## 2.1 Introduction to recommender systems\n",
    "\n",
    "In a recommendation-system application there are two classes of entities, which we shall refer to as `users` and `items`. Users have preferences for certain items, and these preferences must be inferred from the data. The data itself is represented as a `preference matrix` $A$, giving for each user-item pair, a value that represents what is known about the degree of preference of that user for that item. The table below is an example for a `preference matrix` of 5 users and `k` items. The `preference matrix` is also known as `utility matrix`.\n",
    "\n",
    "| | IT1 | IT2 | IT3 | ... | ITk |\n",
    "|---|---|---|---|---|---|\n",
    "| U1 | 1 |  | 5 | ... | 3 |\n",
    "| U2 |  | 2 |  | ... | 2 |\n",
    "| U3 | 5 |  | 3 | ... |  |\n",
    "| U4 | 3 | 3 |  | ... | 4 |\n",
    "| U5 |  | 1 |  | ... | ... |\n",
    "\n",
    "The value of row i, column j expresses how much does user `i` like item `j`. The values are often the rating scores of users for items. An unknown value implies that we have no explicit information about the user's preference for the item. The goal of a recommendation system is to predict \"the blanks\" in the `preference matrix`. For example, assume that the rating score is from 1 (dislike) to 5 (love), would user `U5` like `IT3` ? We have two approaches:\n",
    "\n",
    "* Designing our recommendation system to take into account properties of items such as brand, category, price... or even the similarity of their names. We can denote the similarity of items `IT2` and `IT3`, and then conclude that because user `U5` did not like `IT2`, they were unlikely to enjoy SW2 either.\n",
    "\n",
    "* We might observe that the people who rated both `IT2` and `IT3` tended to give them similar ratings. Thus, we could conclude that user `U5` would also give `IT3` a low rating, similar to `U5`'s rating of `IT2`\n",
    "\n",
    "It is not necessary to predict every blank entry in a `utility matrix`. Rather, it is only necessary to discover some entries in each row that are likely to be high. In most applications, the recommendation system does not oﬀer users a ranking of all items, but rather suggests a few that the user should value highly. It may not even be necessary to ﬁnd all items with the highest expected ratings, but only to ﬁnd a large subset of those with the highest ratings.\n",
    "\n",
    "\n",
    "## 2.2 Families of recommender systems\n",
    "\n",
    "In general, recommender systems can be categorized into two groups:\n",
    "\n",
    "* **Content-Based** systems focus on properties of items. Similarity of items is determined by measuring the similarity in their properties.\n",
    "\n",
    "* **Collaborative-Filtering** systems focus on the relationship between users and items. Similarity of items is determined by the similarity of the ratings of those items by the users who have rated both items.\n",
    "\n",
    "In the usecase of this notebook, artists take the role of `items`, and `users` keep the same role as `users`.\n",
    "Since we have no information about `artists`, except their names, we cannot build a `content-based` recommender system.\n",
    "\n",
    "Therefore, in the rest of this notebook, we only focus on `Collaborative-Filtering` algorithms.\n",
    "\n",
    "## 2.3 Collaborative-Filtering \n",
    "In this section, we study a member of a broad class of algorithms called `latent-factor` models. They try to explain observed interactions between large numbers of users and products through a relatively small number of unobserved, underlying reasons. It is analogous to explaining why millions of people buy a particular few of thousands of possible albums by describing users and albums in terms of tastes for perhaps tens of genres, tastes which are **not directly observable or given** as data. \n",
    "\n",
    "First, we formulate the learning problem as a matrix completion problem. Then, we will use a type of `matrix factorization` model to \"fill in\" the blanks.  We are given implicit ratings that users have given certain items (that is, the number of times they played a particular artist) and our goal is to predict their ratings for the rest of the items. Formally, if there are $n$ users and $m$ items, we are given an $n \\times m$ matrix $R$ in which the generic entry $(u, i)$ represents the rating for item $i$ by user $u$. **Matrix $R$ has many missing entries indicating unobserved ratings, and our task is to estimate these unobserved ratings**.\n",
    "\n",
    "A popular approach to the matrix completion problem is **matrix factorization**, where we want to \"summarize\" users and items with their **latent factors**.\n",
    "\n",
    "### 2.3.1 Basic idea and an example of Matrix Factorization\n",
    "For example, given a preference matrix 5x5 as below, we want to approximate this matrix into the product of two smaller matrixes $X$ and $Y$ .\n",
    "\n",
    "$$\n",
    "M = \n",
    "\\begin{bmatrix}\n",
    " 5 & 2 & 4 & 4 & 3 \\\\\n",
    " 3 & 1 & 2 & 4 & 1 \\\\\n",
    " 2 &  & 3 & 1 & 4 \\\\\n",
    " 2 & 5 & 4 & 3 & 5 \\\\\n",
    " 4 & 4 & 5 & 4 &  \\\\\n",
    "\\end{bmatrix}\n",
    "\\approx M^\\prime =\n",
    "\\begin{bmatrix}\n",
    " x_{11} & x_{12} \\\\\n",
    " x_{21} & x_{22} \\\\\n",
    " x_{31} & x_{32} \\\\\n",
    " x_{41} & x_{42} \\\\\n",
    " x_{51} & x_{52} \\\\\n",
    "\\end{bmatrix}\n",
    "\\times\n",
    "\\begin{bmatrix}\n",
    " y_{11} & y_{12} & y_{13} & y_{14} & y_{15} \\\\\n",
    " y_{21} & y_{22} & y_{23} & y_{24} & y_{25} \\\\\n",
    "\\end{bmatrix}\n",
    "$$\n",
    "\n",
    "$M^\\prime$ is an approximation that is as close to A as possible. To calculate how far from $M$ $M^\\prime$ is, we often calculate the sum of squared distances of non-empty elements in $M$ and the corresponding elements in $M^\\prime$.\n",
    "In this way, for $M^\\prime$, besides the approximated elements in $M$, we also have the non-observed elements. Therefore, to see how much does user `i` like item `j`, we simply pick up the value of $M^\\prime_{i,j}$.\n",
    "\n",
    "The challenge is how to calculate $X$ and $Y$. The bad news is that this can't be solved directly for both the best $X$ and best $Y$ at the same time. Fortunately, if $Y$ is known, we can calculate the best of $X$, and vice versa. It means from the initial values of $X$ and $Y$ in the beginning, we calculate the best $X$ according to $Y$, and then calculate the best $Y$ according to the new $X$. This process is repeated until the distance from $XY$ to $M$ is small. It's simple, right ?\n",
    "\n",
    "Let's take an example. To compute the approximation for the above 5x5 matrix $M$, first, we initialize the value of $X$ and $Y$ as below.\n",
    "\n",
    "$$\n",
    "M^\\prime = X \\times Y =\n",
    "\\begin{bmatrix}\n",
    " 1 & 1 \\\\\n",
    " 1 & 1 \\\\\n",
    " 1 & 1 \\\\\n",
    " 1 & 1 \\\\\n",
    " 1 & 1 \\\\\n",
    "\\end{bmatrix}\n",
    "\\times\n",
    "\\begin{bmatrix}\n",
    " 1 & 1 & 1 & 1 & 1 \\\\\n",
    " 1 & 1 & 1 & 1 & 1 \\\\\n",
    "\\end{bmatrix}\n",
    "=\n",
    "\\begin{bmatrix}\n",
    " 2 & 2 & 2 & 2 & 2 \\\\\n",
    " 2 & 2 & 2 & 2 & 2 \\\\\n",
    " 2 & 2 & 2 & 2 & 2 \\\\\n",
    " 2 & 2 & 2 & 2 & 2 \\\\\n",
    " 2 & 2 & 2 & 2 & 2 \\\\\n",
    "\\end{bmatrix}\n",
    "$$\n",
    "\n",
    "With the initial iteration, we calculate the Root-Mean-Square Error from $XY$ to $M$.\n",
    "\n",
    "Consider the ﬁrst rows of $M$ and $XY$ . We subtract the first row of $XY$ from the entries in the ﬁrst row of $M$, to get $3,0,2,2,1$. We square and sum these to get $18$. \n",
    "\n",
    "In the second row, we do the same to get $1,−1,0,2,−1$, square and sum to get $7$. \n",
    "\n",
    "In the third row, the second column is blank, so that entry is ignored when computing the RMSE. The diﬀerences are $0,1,−1,2$ and the sum of squares is $6$. \n",
    "\n",
    "For the fourth row, the diﬀerences are $0,3,2,1,3$ and the sum of squares is $23$. \n",
    "\n",
    "The ﬁfth row has a blank entry in the last column, so the diﬀerences are $2,2,3,2$ and the sum of squares is $21$. \n",
    "\n",
    "When we sum the sums from each of the ﬁve rows, we get $18+7+6+23+21 = 75$. So, $RMSE=\\sqrt{75/23}=1.806$ where $23$ is the number of non-empty values in $M$.\n",
    "\n",
    "Next, with the given value of $Y$, we calculate $X$ by finding the best value for $X_{11}$.\n",
    "\n",
    "$$\n",
    "M^\\prime = X \\times Y =\n",
    "\\begin{bmatrix}\n",
    " x & 1 \\\\\n",
    " 1 & 1 \\\\\n",
    " 1 & 1 \\\\\n",
    " 1 & 1 \\\\\n",
    " 1 & 1 \\\\\n",
    "\\end{bmatrix}\n",
    "\\times\n",
    "\\begin{bmatrix}\n",
    " 1 & 1 & 1 & 1 & 1 \\\\\n",
    " 1 & 1 & 1 & 1 & 1 \\\\\n",
    "\\end{bmatrix}\n",
    "=\n",
    "\\begin{bmatrix}\n",
    " x+1 & x+1 & x+1 & x+1 & x+1 \\\\\n",
    " 2 & 2 & 2 & 2 & 2 \\\\\n",
    " 2 & 2 & 2 & 2 & 2 \\\\\n",
    " 2 & 2 & 2 & 2 & 2 \\\\\n",
    " 2 & 2 & 2 & 2 & 2 \\\\\n",
    "\\end{bmatrix}\n",
    "$$\n",
    "\n",
    "Now, to minimize the $RMSE$  we minimize the difference of the first rows $(5−(x+1))^2 + (2−(x+1))^2 + (4−(x+1))^2 + (4−(x+1))^2 + (3−(x+1))^2$. By  taking the derivative and set that equal to 0, we pick $x=2.6$\n",
    "\n",
    "Given the new value of $X$, we can calculate the best value for $Y$.\n",
    "\n",
    "$$\n",
    "M^\\prime = X \\times Y =\n",
    "\\begin{bmatrix}\n",
    " 2.6 & 1 \\\\\n",
    " 1 & 1 \\\\\n",
    " 1 & 1 \\\\\n",
    " 1 & 1 \\\\\n",
    " 1 & 1 \\\\\n",
    "\\end{bmatrix}\n",
    "\\times\n",
    "\\begin{bmatrix}\n",
    " y & 1 & 1 & 1 & 1 \\\\\n",
    " 1 & 1 & 1 & 1 & 1 \\\\\n",
    "\\end{bmatrix}\n",
    "=\n",
    "\\begin{bmatrix}\n",
    " 3.6 & 3.6 & 3.6 & 3.6 & 3.6 \\\\\n",
    " 2 & 2 & 2 & 2 & 2 \\\\\n",
    " 2 & 2 & 2 & 2 & 2 \\\\\n",
    " 2 & 2 & 2 & 2 & 2 \\\\\n",
    " 2 & 2 & 2 & 2 & 2 \\\\\n",
    "\\end{bmatrix}\n",
    "$$\n",
    "\n",
    "By doing the same process as before, we can pick value for $y=1.617$. After that, we can check if the $RMSE$ is not converged, we continue to update $X$ by $Y$ and vice versa. In this example, for simple, we only update one element of each matrix in each iteration. In practice, we can update a full row or full matrix at once.\n"
   ]
  },
  {
   "cell_type": "markdown",
   "metadata": {},
   "source": [
    "### 2.3.2 Matrix Factorization: Objective and ALS Algorithm on a Single Machine\n",
    "\n",
    "More formally, in general, we select $k$ latent features, and describe each user $u$ with a $k-$dimensional vector $x_u$, and each item $i$ with a $k-$dimensional vector $y_i$.\n",
    "\n",
    "Then, to predict user $u$'s rating for item $i$, we do as follows: $ r_{ui} \\approx x_{u}^{T}y_i$.\n",
    "\n",
    "This can be put, more elegantly, in a matrix form. Let $x_1, \\cdots x_n \\in \\mathbb{R}^k$ be the factors for the users, and $y_1, \\cdots y_m \\in \\mathbb{R}^k$ the factors for the items. The $k \\times n$ user matrix $X$ and the $k \\times m$ item matrix $Y$ are then defined by:\n",
    "\n",
    "$$\n",
    "X = \n",
    "\\begin{bmatrix}\n",
    " |   &         & |  \\\\\n",
    "x_1  &  \\cdots & x_n\\\\\n",
    " |   &         & |  \\\\\n",
    "\\end{bmatrix}\n",
    "$$\n",
    "\n",
    "$$\n",
    "Y = \n",
    "\\begin{bmatrix}\n",
    " |   &         & |  \\\\\n",
    "y_1  &  \\cdots & y_i\\\\\n",
    " |   &         & |  \\\\\n",
    "\\end{bmatrix}\n",
    "$$\n",
    "\n",
    "Our goal is to estimate the complete ratings matrix $R \\approx X^{T} Y$. We can formulate this problem as an optimization problem in which we aim to minimize an objective function and find optimal $X$ and $Y$ . In particular, we aim to minimize the least squares error of the observed ratings (and regularize):\n",
    "\n",
    "$$\n",
    "\\min_{X,Y} \\sum_{r_{ui} \\text{observed}}(r_{ui} - x_{u}^{T}y_i)^2 + \\lambda \\left( \\sum_{u} \\|x_u\\|^2 + \\sum_{i} \\|y_i\\|^2 \\right) \n",
    "$$\n",
    "\n",
    "Notice that this objective is non-convex (because of the $x_{u}^{T} y_i$ term); in fact it’s NP-hard to optimize. Gradient descent can be used as an approximate approach here, however it turns out to be slow and costs lots of iterations. Note however, that if we fix the set of variables $X$ and treat them as constants, then the objective is a convex function of $Y$ and vice versa. Our approach will therefore be to fix $Y$ and optimize $X$, then fix $X$ and optimize $Y$, and repeat until convergence. This approach is known as **ALS (Alternating Least Squares)**. For our objective function, the alternating least squares algorithm can be expressed with this simple pseudo-code:"
   ]
  },
  {
   "cell_type": "markdown",
   "metadata": {},
   "source": [
    "\n",
    "**Initialize** $X$, $Y$\n",
    "\n",
    "**while(convergence is not true) do**\n",
    "\n",
    "\n",
    "**for** $u = 1 \\cdots n$ **do**\n",
    "\n",
    "$x_u = \\left( \\sum_{r_ui \\in r_{u*}} y_i y_{i}^{T} + \\lambda I_k \\right)^{-1} \\sum_{r_ui \\in r_{u*}} r_{ui} y_i $ \n",
    "   \n",
    "**end for**\n",
    "\n",
    "**for** $u = 1 \\cdots n$ **do**\n",
    "\n",
    "$y_i = \\left( \\sum_{r_ui \\in r_{*i}} x_u x_{u}^{T} + \\lambda I_k \\right)^{-1} \\sum_{r_ui \\in r_{*i}} r_{ui} x_u $ \n",
    "   \n",
    "**end for**\n",
    "\n",
    "\n",
    "**end while**\n"
   ]
  },
  {
   "cell_type": "markdown",
   "metadata": {},
   "source": [
    "For a single machine, we can analyze the computational cost of this algorithm. Updating each $x_u$ will cost $O(n_u k^2 + k^3)$, where $n_u$ is the number of items rated by user $u$, and similarly updating each $y_i$ will cost $O(n_i k^2 + k^3)$, where $n_i$ is the number of users that have rated item $i$.\n",
    "\n",
    "\n",
    "Once we’ve computed the matrices $X$ and $Y$, there are several ways compute a prediction. The first is to do what was discussed before, which is to simply predict $ r_{ui} \\approx x_{u}^{T}y_i$ for each user $u$ and item $i$. \n",
    "This approach will cost $O(nmk)$ if we’d like to estimate every user-item pair. \n",
    "\n",
    "However, this approach is prohibitively expensive for most real-world datasets. A second (and more holistic) approach is to use the $x_u$ and $y_i$ as features in another learning algorithm, incorporating these features with others that are relevant to the prediction task."
   ]
  },
  {
   "cell_type": "markdown",
   "metadata": {},
   "source": [
    "### 2.3.3 Parallel Altenating Least Squares\n",
    "\n",
    "There are several ways to distribute the computation of the ALS algorithm depending on how data is partitioned.\n",
    "\n",
    "#### Method 1: using joins\n",
    "First we consider a fully distributed version, in the sense that all data (both input and output) is stored in a distributed file system. In practice, input data (ratings) and parameters ($X$ and $Y$) are stored in an a Spark RDD. Specifically, ratings -- that are always **sparse** -- are stored as RDD of triplets:\n",
    "\n",
    "Ratings: RDD((u, i, $r_{ui}$), . . . )\n",
    "\n",
    "\n",
    "Instead, we can use dense representation for factor matrices $X$ and $Y$, and these are stored as RDDs of vectors. More precisely, we can use the data types introduced in Spark MLLib to store such vectors and matrices:\n",
    "\n",
    "X : RDD($x_1$,...,$x_n$)\n",
    "\n",
    "Y : RDD($y_1$,...,$y_m$)\n",
    "\n",
    "\n",
    "Now, recall the expression to compute $x_u$:\n",
    "\n",
    "$x_u = \\left( \\sum_{r_ui \\in r_{u*}} y_i y_{i}^{T} + \\lambda I_k \\right)^{-1} \\sum_{r_ui \\in r_{u*}} r_{ui} y_i $ \n",
    "\n",
    "Let's call the first summation *part A* and the second summation *part B*. To compute such parts, in parallel, we can proceed with the following high-level pseudocode:\n",
    "\n",
    "* Join the Ratings RDD with the $Y$ matrix RDD using key $i$ (items)\n",
    "* Map to compute $y_i y_{i}^{T}$ and emit using key $u$ (user)\n",
    "* ReduceByKey $u$ (user) to compute $\\sum_{r_ui \\in r_{u*}} y_i y_{i}^{T}$\n",
    "* Invert\n",
    "* Another ReduceByKey $u$ (user) to compute $\\sum_{r_ui \\in r_{u*}} r_{ui} y_i$\n",
    "\n",
    "We can use the same template to copmute $y_i$.\n",
    "\n",
    "This approach works fine, but note it requires computing $y_i y_{i}^{T}$ for each user that has rated item $i$. \n",
    "\n",
    "#### Method 2: using broadcast variables (advanced topic)\n",
    "The next approach takes advantage of the fact that the $X$ and $Y$ factor matrices are often very small and can be stored locally on each machine.\n",
    "\n",
    "* Partition the Ratings RDD **by user** to create $R_1$, and similarly partition the Ratings RDD **by item** to create $R_2$. This means there are two copies of the same Ratings RDD, albeit with different partitionings. In $R_1$, all ratings by the same user are on the same machine, and in $R_2$ all ratings for same item are on the same machine.\n",
    "* Broadcast the matrices $X$ and $Y$. Note that these matrices are not RDD of vectors: they are now \"local: matrices.\n",
    "* Using $R_1$ and $Y$, we can use expression $x_u$ from above to compute the update of $x_u$ locally on each machine\n",
    "* Using $R_2$ and $X$, we can use expression $y_i$ from above to compute the update of $y_i$ locally on each machine\n",
    "\n",
    "A further optimization to this method is to group the $X$ and $Y$ factors matrices into blocks (user blocks and item blocks) and reduce the communication by only sending to each machine the block of users (or items) that are needed to compute the updates at that machine. \n",
    "\n",
    "This method is called **Block ALS**. It is achieved by precomputing some information about the ratings matrix to determine the \"out-links\" of each user (which blocks of the items it will contribute to) and \"in-link\" information for each item (which of the factor vectors it receives from each user block it will depend on). For exmple, assume that machine 1 is responsible for users 1,2,...,37: these will be block 1 of users. The items rated by these users are block 1 of items. Only the factors of block 1 of users and block 1 of items will be broadcasted to machine 1.\n",
    "\n",
    "### Further readings\n",
    "Other methods for matrix factorization include:\n",
    "\n",
    "* Low Rank Approximation and Regression in Input Sparsity Time, by Kenneth L. Clarkson, David P. Woodruff. http://arxiv.org/abs/1207.6365\n",
    "* Generalized Low Rank Models (GLRM), by Madeleine Udell, Corinne Horn, Reza Zadeh, Stephen Boyd. http://arxiv.org/abs/1410.0342\n",
    "* Matrix Completion and Low-Rank SVD via Fast Alternating Least Squares, by Trevor Hastie, Rahul Mazumder, Jason D. Lee, Reza Zadeh . Statistics Department and ICME, Stanford University, 2014. http://stanford.edu/~rezab/papers/fastals.pdf"
   ]
  },
  {
   "cell_type": "markdown",
   "metadata": {},
   "source": [
    "# 3. Usecase : Music recommender system\n",
    "\n",
    "In this usecase, we use the data of users and artists in the previous sections to build a statistical model to recommend artists for users.\n",
    " \n",
    "## 3.1 Requirements\n",
    "According to the properties of data, we need to choose a recommender algorithm that is suitable for this implicit feedback data. It means that the algorithm should learn without access to user or artist attributes such as age, genre,.... Therefore, an algorithm of type `collaborative filtering` is the best choice.\n",
    "\n",
    "Second, in the data, there are some users that have listened to only 1 artist. We need an algorithm that might provide decent recommendations to even these users. After all, at some point, every user starts out with just one play at some point! \n",
    "\n",
    "Third, we need an algorithm that scales, both in its ability to build large models, and to create recommendations quickly. So, an algorithm which can run on a distributed system (SPARK, Hadoop...) is very suitable.\n",
    "\n",
    "From these requirement, we can choose using ALS algorithm in SPARK's MLLIB.\n",
    "\n",
    "Spark MLlib’s ALS implementation draws on ideas from [1](http://yifanhu.net/PUB/cf.pdf) and [2](http://link.springer.com/chapter/10.1007%2F978-3-540-68880-8_32).\n",
    "\n",
    "## 3.2 Notes\n",
    "\n",
    "Currently, MLLIB can only build models from an RDD. That means we have two ways to prepare data:\n",
    "\n",
    "* Loading to into SPARK SQL DataFrame as before, and then access the corresponding RDD by calling `<dataframe>.rdd`. The invalid data is often sucessfully dropped by using mode `DROPMALFORMED`. However, this way might not work in all cases. Fortunately, we can use it with this usecase.\n",
    "\n",
    "* Loading data directly to RDD. However, we have to deal with the invalid data ourself. In the trade-off, this way is the most reliable, and can work in every case.\n",
    "\n",
    "In this notebook, we will use the second approach: it requires a bit more effort, but the reward is worth it!\n",
    "\n",
    " \n",
    "## 3.3 Cleanup the data\n",
    "In section 1, we already replaced the ids of mispelled artists by the corresponding standard ids by using SPARK SQL API.\n",
    "However, if the data has the invalid entries such that SPARK SQL API is stuck, the best way to work with it is using an RDD.\n",
    "\n",
    "Just as a recall, we work with three datasets in `user_artist_data.txt`, `artist_data.txt` and `artist_alias.txt`. The entries in these file can be empty or have only one field. \n",
    "\n",
    "In details our goal now is:\n",
    "\n",
    "* Read the input ```user_artist_data.txt``` and transforms its representation into an output dataset.\n",
    "* To produce an output \"tuple\" containing the original user identifier and play counts, but with the artist identifier replaced by its most common alias, as found in the ```artist_alias.txt``` dataset.\n",
    "* Since the ```artist_alias.txt``` file is small, we can use a technique called **broadcast variables** to make such transformation more efficient.\n"
   ]
  },
  {
   "cell_type": "markdown",
   "metadata": {},
   "source": [
    "### Question 6\n",
    "\n",
    "#### Question 6.1\n",
    "\n",
    "<div class=\"alert alert-info\">\n",
    "Load data from `/datasets/lastfm/artist_alias.txt` and filter out the invalid entries to construct a dictionary to map from mispelled artists' ids to standard ids.\n",
    "</div>\n",
    "\n",
    "NOTE: From now on, we will use the \"standard\" data to train our model.\n",
    "\n",
    "HINT: If a line contains less than 2 fields or contains invalid numerial values, we can return a special tuple. After that, we can filter out these special tuples."
   ]
  },
  {
   "cell_type": "code",
   "execution_count": 2,
   "metadata": {
    "collapsed": true
   },
   "outputs": [],
   "source": [
    "# MISPELLING DICTIONARY LOADING\n",
    "rawArtistAlias = sc.textFile(base + \"artist_alias.txt\")\n",
    "\n",
    "# FUNCTION FOR EXTRACTION FIELDS\n",
    "def xtractFields(s):\n",
    "    \n",
    "    # Split a line into list of strings\n",
    "    line = re.split(\"\\s|\\t\", s, 1)\n",
    "    \n",
    "    # If this line has at least 2 characters...\n",
    "    if (len(line) > 1):\n",
    "        try:\n",
    "            # try to parse the first and the second components to integer type\n",
    "            return (int(line[0]), int(line[1]))\n",
    "        except ValueError:\n",
    "            # if parsing has any error, return a special tuple\n",
    "            return (-1,-1)\n",
    "    # otherwise, if has less than 2 characters...\n",
    "    else:\n",
    "        # return a special tuple\n",
    "        return (-1,-1)\n",
    "\n",
    "# CREATE THE CLEAN ARTIST ALIAS MAP\n",
    "artistAlias = (\n",
    "                rawArtistAlias\n",
    "                    # Extract fields using function xtractFields\n",
    "                    .map(xtractFields)\n",
    "\n",
    "                    # Filter out the special tuples\n",
    "                    .filter(lambda pair: pair != (-1,-1))\n",
    "\n",
    "                    # Collect result to the driver as a \"dictionary\"\n",
    "                    .collectAsMap()\n",
    "                )"
   ]
  },
  {
   "cell_type": "markdown",
   "metadata": {},
   "source": [
    "#### Question 6.2\n",
    "<div class=\"alert alert-info\">\n",
    "Using the dictionary in question 6.1, prepare RDD `userArtistDataRDD` by replacing mispelled artists' ids to standard ids. Show 5 samples.\n",
    "</div>\n",
    "\n",
    "HINT: Using broadcast varible can help us increase the effiency."
   ]
  },
  {
   "cell_type": "code",
   "execution_count": 3,
   "metadata": {},
   "outputs": [
    {
     "data": {
      "text/plain": [
       "[(1000002, 1, 55),\n",
       " (1000002, 1000006, 33),\n",
       " (1000002, 1000007, 8),\n",
       " (1000002, 1000009, 144),\n",
       " (1000002, 1000010, 314)]"
      ]
     },
     "execution_count": 3,
     "metadata": {},
     "output_type": "execute_result"
    }
   ],
   "source": [
    "# BROADCAST THE MISPELLING DICTIONARY\n",
    "bArtistAlias = sc.broadcast(artistAlias)\n",
    "rawUserArtistData = sc.textFile(base + \"user_artist_data.txt\")\n",
    "\n",
    "# FUNCTION TO REPLACE THE MISPELLED ID WITH THE ORIGINAL ONE\n",
    "def disambiguate(line):\n",
    "    [userID, artistID, count] = line.split(' ')\n",
    "    finalArtistID = bArtistAlias.value.get(int(artistID), int(artistID))\n",
    "    return (int(userID), finalArtistID, int(count))\n",
    "\n",
    "def disambiguateAgain(tuple3):\n",
    "    finalArtistID = bArtistAlias.value.get(int(tuple3[1]), int(tuple3[1]))\n",
    "    return (int(tuple3[0]), finalArtistID, int(tuple3[2]))\n",
    "\n",
    "# MISPELLING REMOVAL\n",
    "userArtistDataRDD = rawUserArtistData.map(disambiguate).map(disambiguateAgain) # double disambiguate explained below\n",
    "\n",
    "# PRINT 5 SAMPLES\n",
    "userArtistDataRDD.take(5)"
   ]
  },
  {
   "cell_type": "markdown",
   "metadata": {},
   "source": [
    "<div class=\"alert alert-success\">\n",
    "Remembering what we learnt during the cleaning process in the first part of the notebook we perform the double cleaning in this case too. We slightly change the given implementation of 'disambiguate' to adapt to different type of arguments.\n",
    "</div>"
   ]
  },
  {
   "cell_type": "markdown",
   "metadata": {},
   "source": [
    "<div class=\"alert alert-success\">\n",
    "The RDD is cleaned thanks to our broadcasted mispelling dictionary. To know if the algorithm produced a real improvement in our data, we can check the old number of different artists and compare it with the new one.\n",
    "</div>"
   ]
  },
  {
   "cell_type": "code",
   "execution_count": 59,
   "metadata": {},
   "outputs": [
    {
     "name": "stdout",
     "output_type": "stream",
     "text": [
      "The number of different artistIDs, that previously was 1631028 , now is 1568117\n",
      "The difference is of 62911 representing the 3.86 % of the artists.\n"
     ]
    }
   ],
   "source": [
    "# COUNT THE OLD NUMBER OF ARTISTS\n",
    "rawUniqueArtists = rawUserArtistData \\\n",
    "    .map(lambda line: line.split(' ')[1]) \\\n",
    "    .distinct() \\\n",
    "    .count()\n",
    "\n",
    "# COUNT THE NEW NUMBER OF ARTISTS\n",
    "uniqueArtists = userArtistDataRDD \\\n",
    "    .map(lambda line: line[1]) \\\n",
    "    .distinct() \\\n",
    "    .count()\n",
    "\n",
    "# PRINT THE DIFFERENCE\n",
    "print('The number of different artistIDs, that previously was',\n",
    "    rawUniqueArtists, ', now is', uniqueArtists)\n",
    "print('The difference is of', (rawUniqueArtists-uniqueArtists),\n",
    "    'representing the', \"{0:.2f}\".format((rawUniqueArtists-uniqueArtists)*100/rawUniqueArtists), '% of the artists.')"
   ]
  },
  {
   "cell_type": "markdown",
   "metadata": {},
   "source": [
    "<div class=\"alert alert-success\">\n",
    "The cleaning actually worked, reducing the cardinality of our artistIDs set. This mean that now, a lot of users \"listened to\" the original artist, and not an ID referred to a mispelled name.<br>\n",
    "<br>\n",
    "Now, we can \"compact\" our data, merging together the userIDs that listen to the same artistIDs, summing the counts:\n",
    "</div>"
   ]
  },
  {
   "cell_type": "code",
   "execution_count": 6,
   "metadata": {},
   "outputs": [
    {
     "data": {
      "text/plain": [
       "PythonRDD[29] at RDD at PythonRDD.scala:48"
      ]
     },
     "execution_count": 6,
     "metadata": {},
     "output_type": "execute_result"
    }
   ],
   "source": [
    "# COMPACT THE RDD MERGING TOGETHER THE TUPLES WITH THE SAME 'userID' and 'artistID'\n",
    "\n",
    "# Organize the tuples in a way that a (key,value) pair is created\n",
    "# Merge the tuple with the same key (userID,artistID), summing the play counts\n",
    "# Restore the previous organization of the tuples\n",
    "userArtistDataRDD = userArtistDataRDD \\\n",
    "    .map(lambda tuple3: ((tuple3[0], tuple3[1]), int(tuple3[2]))) \\\n",
    "    .reduceByKey(lambda c1, c2: c1 + c2) \\\n",
    "    .map(lambda pair: (pair[0][0], pair[0][1], pair[1]) )\n",
    "userArtistDataRDD.cache()"
   ]
  },
  {
   "cell_type": "markdown",
   "metadata": {},
   "source": [
    "<div class=\"alert alert-success\">\n",
    "Now the data is:<br>\n",
    "- cleaned one time (from unvalid entries)<br>\n",
    "- cleaned another time (from mispelled artist name)<br>\n",
    "- compacted (now the pair <i>(userID,artistID)</i> is unique, with only one count associated)<br>\n",
    "<br>\n",
    "We can go ahead with the training of the model.\n",
    "</div>"
   ]
  },
  {
   "cell_type": "markdown",
   "metadata": {},
   "source": [
    "## 3.4 Training our statistical model\n",
    "To train a model using ALS, we must use a preference matrix  as an input. MLlib uses the class `Rating` to support the construction of a distributed preference matrix."
   ]
  },
  {
   "cell_type": "markdown",
   "metadata": {},
   "source": [
    "### Question 7\n",
    "\n",
    "#### Question 7.1\n",
    "<div class=\"alert alert-info\">\n",
    "Given RDD `userArtistDataRDD` in question 6.2, construct a new RDD `trainingData` by tranforming each item of it into a `Rating` object.\n",
    "</div>"
   ]
  },
  {
   "cell_type": "code",
   "execution_count": 61,
   "metadata": {
    "collapsed": true
   },
   "outputs": [],
   "source": [
    "from pyspark.mllib.recommendation import ALS, MatrixFactorizationModel, Rating"
   ]
  },
  {
   "cell_type": "code",
   "execution_count": 62,
   "metadata": {
    "collapsed": true
   },
   "outputs": [],
   "source": [
    "# DATA HAS ALREADY BEEN AGGREGATED AND THERE IS A UNIQUE COUNT FOR EACH 'userID, artistID' PAIR\n",
    "\n",
    "# CONSTRUCT A TRAINING DATA TRANSFORMING EACH ITEM INTO A RATING OBJECT\n",
    "allData = userArtistDataRDD \\\n",
    "    .map(lambda r: Rating(r[0], r[1], r[2])) \\\n",
    "    .repartition(4) \\\n",
    "    .cache()"
   ]
  },
  {
   "cell_type": "markdown",
   "metadata": {},
   "source": [
    "#### Question 7.2\n",
    "<div class=\"alert alert-info\">\n",
    "A model can be trained by using `ALS.trainImplicit(<training data>, <rank>)`, where:\n",
    "<ul>\n",
    "<li>`training data` is the input data you decide to feed to the ALS algorithm</li>\n",
    "<li>`rank` is the number of latent features</li>\n",
    "</ul>  \n",
    "\n",
    "\n",
    "We can also use some additional parameters to adjust the quality of the model. Currently, let's set \n",
    "<ul>\n",
    "<li>`rank=10`</li>\n",
    "<li>`iterations=5`</li>\n",
    "<li>`lambda_=0.01`</li>\n",
    "<li>`alpha=1.0` </li>\n",
    "</ul>\n",
    "to build model.\n",
    "</div>"
   ]
  },
  {
   "cell_type": "code",
   "execution_count": 63,
   "metadata": {},
   "outputs": [
    {
     "name": "stdout",
     "output_type": "stream",
     "text": [
      "Finished training model in 287.215679 seconds\n"
     ]
    }
   ],
   "source": [
    "# START TIME\n",
    "t0 = time()\n",
    "\n",
    "# TRAINING (MODEL CONSTRUCTION)\n",
    "model = ALS.trainImplicit(\n",
    "    ratings=allData,\n",
    "    rank=10,\n",
    "    iterations=5,\n",
    "    lambda_=0.01,\n",
    "    alpha=1.0\n",
    ")\n",
    "\n",
    "# END TIME\n",
    "t1 = time()\n",
    "\n",
    "# PRINT TIME RESULT\n",
    "print(\"Finished training model in %f seconds\" %(t1-t0))"
   ]
  },
  {
   "cell_type": "markdown",
   "metadata": {},
   "source": [
    "#### Question 7.3\n",
    "<div class=\"alert alert-info\">\n",
    "The trained model can be saved into HDFS for later use. This can be done via `model.save(sc, <file_name>)`.\n",
    "Let's use this function to store our model as name `lastfm_model.spark`.\n",
    "</div>\n",
    "\n",
    "NOTE 1: since you may have noticed that building the model takes some time, it might come to your mind that this information could be stored, such that you can \"interrupt\" your laboratory session here, and restart next time by loading your model.\n",
    "\n",
    "NOTE 2: funnily enough, it could take more time to save the model than to build it from scratch! So take a look at the execution time to save the model: this method actually stores the model as Parquet files, which are column-oriented and compressed.\n",
    "\n",
    "NOTE 3: to check you have your file on HDFS, you are invited to open a terminal from the \"Home\" Jupyter dashboard, and type `hdfs dfs -ls` to check."
   ]
  },
  {
   "cell_type": "code",
   "execution_count": 64,
   "metadata": {},
   "outputs": [
    {
     "name": "stdout",
     "output_type": "stream",
     "text": [
      "Deleted lastfm_model.spark\n",
      "The model took 4.883318 seconds to be saved into HDFS\n"
     ]
    }
   ],
   "source": [
    "# REMOVE OLD MODEL IF PRESENT\n",
    "! hdfs dfs -rm -R -f -skipTrash lastfm_model.spark\n",
    "\n",
    "# START TIME\n",
    "t0 = time()\n",
    "\n",
    "# SAVE THE MODEL INTO HDFS\n",
    "model.save(sc, \"lastfm_model.spark\")\n",
    "\n",
    "# END TIME\n",
    "t1 = time()\n",
    "\n",
    "# PRINT MODEL HDFS-SAVING TIME\n",
    "print('The model took %f seconds to be saved into HDFS' %(t1-t0))"
   ]
  },
  {
   "cell_type": "markdown",
   "metadata": {},
   "source": [
    "#### Question 7.4\n",
    "<div class=\"alert alert-info\">\n",
    "A saved model can be load from file by using `MatrixFactorizationModel.load(sc, <file_name>)`. \n",
    "\n",
    "Let's load our model from file.\n",
    "</div>"
   ]
  },
  {
   "cell_type": "code",
   "execution_count": 65,
   "metadata": {},
   "outputs": [
    {
     "name": "stdout",
     "output_type": "stream",
     "text": [
      "The model took 2.242667 seconds to be loaded from HDFS\n"
     ]
    }
   ],
   "source": [
    "# START TIME\n",
    "t0 = time()\n",
    "\n",
    "# LOAD MODEL FROM HDFS\n",
    "model = MatrixFactorizationModel.load(sc, \"lastfm_model.spark\")\n",
    "\n",
    "# END TIME\n",
    "t1 = time()\n",
    "\n",
    "# PRINT MODEL LOADING TIME\n",
    "print('The model took %f seconds to be loaded from HDFS' %(t1-t0))"
   ]
  },
  {
   "cell_type": "markdown",
   "metadata": {},
   "source": [
    "#### Question 7.5\n",
    "<div class=\"alert alert-info\">\n",
    "Print the first row of user features in our model.\n",
    "</div>"
   ]
  },
  {
   "cell_type": "code",
   "execution_count": 66,
   "metadata": {},
   "outputs": [
    {
     "data": {
      "text/plain": [
       "[(116,\n",
       "  array('d', [-0.02401905506849289, -0.00399455102160573, 0.0024435576051473618, 0.015880296006798744, 0.0704515129327774, -0.06038975715637207, 0.004057879559695721, -0.03996367007493973, -0.029267841950058937, 0.02272583357989788]))]"
      ]
     },
     "execution_count": 66,
     "metadata": {},
     "output_type": "execute_result"
    }
   ],
   "source": [
    "# PRINT FIRST ROW OF USER FEATURES CONTAINED IN THE MODEL\n",
    "model.userFeatures().take(1)"
   ]
  },
  {
   "cell_type": "markdown",
   "metadata": {},
   "source": [
    "<div class=\"alert alert-success\">\n",
    "We can see that the number of features is 10, thanks to the value in the rank option during the creation phase.\n",
    "</div>"
   ]
  },
  {
   "cell_type": "markdown",
   "metadata": {},
   "source": [
    "### Question 8\n",
    "<div class=\"alert alert-info\">\n",
    "Show the top-5 artist names recommendated for a given user, for example: `2093760` (please, try with different users!).\n",
    "</div>\n",
    "\n",
    "HINT: The recommendations can be given by function `recommendProducts(userID, num_recommendations)`. These recommendations are only artist ids. You have to map them to artist names by using data in `artist_data.txt`."
   ]
  },
  {
   "cell_type": "code",
   "execution_count": 67,
   "metadata": {
    "collapsed": true
   },
   "outputs": [],
   "source": [
    "# MAKE 5 RECOMMENDATIONS TO THE USER WITH ID 2093760\n",
    "recommendations = (model.recommendProducts(2093760, 5))\n",
    "\n",
    "# THE RECOMMENDATIONS ARE A SET OF 'Rating' OBJECTS\n",
    "# WE NEED TO EXTRACT ONLY THE 'artistID'\n",
    "recArtist = set(rec[1] for rec in recommendations)"
   ]
  },
  {
   "cell_type": "code",
   "execution_count": 68,
   "metadata": {
    "collapsed": true
   },
   "outputs": [],
   "source": [
    "# LOAD THE DICTIONARY RELATED FILE\n",
    "rawArtistData = sc.textFile(base + \"artist_data.txt\")\n",
    "\n",
    "# FUNCTION TO EXTRACT THE ARTIST NAMES DICTIONARY\n",
    "def xtractFields(s):\n",
    "    line = re.split(\"\\s|\\t\", s, 1)\n",
    "    if (len(line) > 1):\n",
    "        try:\n",
    "            return (int(line[0]), str(line[1].strip()))\n",
    "        except ValueError:\n",
    "            return (-1,\"\")\n",
    "    else: \n",
    "        return (-1,\"\")\n",
    "\n",
    "# CREATE ARTIST NAMES DICTIONARY (CLEANING THE NON-VALID TUPLES)\n",
    "artistByID = rawArtistData.map(xtractFields).filter(lambda x: x[0] > 0)"
   ]
  },
  {
   "cell_type": "code",
   "execution_count": 69,
   "metadata": {},
   "outputs": [
    {
     "name": "stdout",
     "output_type": "stream",
     "text": [
      "['50 Cent', 'Jay-Z', 'Ludacris', '2Pac', 'The Game']\n"
     ]
    }
   ],
   "source": [
    "# FUNCTION TO CHECK IF THE artistID IS IN THE RECOMMENDATION SET\n",
    "def artistNames(line):\n",
    "    if (line[0] in recArtist):\n",
    "        return True\n",
    "    else:\n",
    "        return False\n",
    "\n",
    "# EXTRACT ONLY THE NAME SET\n",
    "# take all the artists\n",
    "# filter only the ones in the recommendation set\n",
    "# take only the name\n",
    "# collect as a list\n",
    "recList = artistByID \\\n",
    "    .filter(artistNames) \\\n",
    "    .values() \\\n",
    "    .collect()\n",
    "\n",
    "# PRINT THE RECOMMENDATION LIST\n",
    "print(recList)"
   ]
  },
  {
   "cell_type": "markdown",
   "metadata": {},
   "source": [
    "<div class=\"alert alert-success\">\n",
    "It's clear, from the results obtained, that the recommendation model generated with the help of MLlib tends to recommend artist with an high audience. Not having information about the music genre or other useful features of a music artist/band, it mainly uses the important value that has learned: the popularity.<br>\n",
    "<br>\n",
    "To be sure that the behaviour is the same also for other users, let's try with another one:\n",
    "</div>"
   ]
  },
  {
   "cell_type": "code",
   "execution_count": 70,
   "metadata": {},
   "outputs": [
    {
     "name": "stdout",
     "output_type": "stream",
     "text": [
      "['Static-X', 'Rob Zombie', 'Disturbed', 'Lacuna Coil', 'Godsmack']\n"
     ]
    }
   ],
   "source": [
    "# MAKE 5 RECOMMENDATIONS TO THE USER WITH ID 2093761\n",
    "recommendations = (model.recommendProducts(2093761, 5))\n",
    "\n",
    "# THE RECOMMENDATIONS ARE A SET OF 'Rating' OBJECTS\n",
    "# WE NEED TO EXTRACT ONLY THE 'artistID'\n",
    "recArtist = set(rec[1] for rec in recommendations)\n",
    "\n",
    "# EXTRACT ONLY THE NAME SET\n",
    "# take all the artists\n",
    "# filter only the ones in the recommendation set\n",
    "# take only the name\n",
    "# collect as a list\n",
    "recList = artistByID \\\n",
    "    .filter(artistNames) \\\n",
    "    .values() \\\n",
    "    .collect()\n",
    "\n",
    "# PRINT THE RECOMMENDATION LIST\n",
    "print(recList)"
   ]
  },
  {
   "cell_type": "markdown",
   "metadata": {},
   "source": [
    "<div class=\"alert alert-success\">\n",
    "Also in this case, the recommended artist are clearly in the list because of their audience.\n",
    "</div>"
   ]
  },
  {
   "cell_type": "markdown",
   "metadata": {},
   "source": [
    "<div class=\"alert alert-danger\">\n",
    "At the moment, it is necessary to manually unpersist the RDDs inside the model when you are done with it. The following function can be used to make sure models are promptly uncached.\n",
    "</div>"
   ]
  },
  {
   "cell_type": "code",
   "execution_count": 71,
   "metadata": {
    "collapsed": true
   },
   "outputs": [],
   "source": [
    "# FUNCTION TO MANUALLY UNCACHE THE RDD INSIDE THE MODEL\n",
    "def unpersist(model):\n",
    "    model.userFeatures().unpersist()\n",
    "    model.productFeatures().unpersist()\n",
    "\n",
    "# UNCACHE (UNPERSIST) THE MODEL\n",
    "unpersist(model)"
   ]
  },
  {
   "cell_type": "markdown",
   "metadata": {},
   "source": [
    "## 3.5 Evaluating Recommendation Quality \n",
    "\n",
    "In this section, we study how to evaluate the quality of our model. It's hard to say how good the recommendations are.\n",
    "One of serveral methods approach to evaluate  a recommender based on its ability to rank good items (artists) high in a list of recommendations. The problem is how to define \"good artists\". Currently, by training all data, \"good artists\" is defined as \"artists the user has listened to\", and the recommender system has already received all of this information as input. It could trivially return the users previously-listened artists as top recommendations and score perfectly. Indeed, this is not useful, because the recommender's is used to recommend artists that the user has **never** listened to. \n",
    "\n",
    "To overcome that problem, we can hide some of the artist play data and only use the rest to train model. Then, this held-out data can be interpreted as a collection of \"good\" recommendations for each user. The recommender is asked to rank all items in the model, and the rank of the held-out artists are examined. Ideally the recommender places all of them at or near the top of the list.\n",
    "\n",
    "The recommender's score can then be computed by comparing all held-out artists' ranks to the rest.  The fraction of pairs where the held-out artist is ranked higher is its score. 1.0 is perfect, 0.0 is the worst possible score, and 0.5 is the expected value achieved from randomly ranking artists. \n",
    "\n",
    "AUC(Area Under the Curve) can be used as a metric to evaluate model. It is also viewed as the probability that a randomly-chosen \"good\" artist ranks above a randomly-chosen \"bad\" artist.\n",
    "\n",
    "Next, we split the training data into 2 parts: `trainData` and `cvData` with ratio 0.9:0.1 respectively, where `trainData` is the dataset that will be used to train model. Then we write a function to calculate AUC to evaluate the quality of our model.\n"
   ]
  },
  {
   "cell_type": "markdown",
   "metadata": {},
   "source": [
    "### Question 9\n",
    "\n",
    "#### Question 9.1\n",
    "<div class=\"alert alert-info\">\n",
    "Split the data into `trainData` and `cvData` with ratio 0.9:0.1 and use the first part to train a statistic model with:\n",
    "<ul>\n",
    "<li>`rank`=10</li>\n",
    "<li>`iterations`=5</li>\n",
    "<li>`lambda_`=0.01</li>\n",
    "<li>`alpha`=1.0</li>\n",
    "</ul>\n",
    "</div>"
   ]
  },
  {
   "cell_type": "code",
   "execution_count": 72,
   "metadata": {},
   "outputs": [
    {
     "data": {
      "text/plain": [
       "PythonRDD[630] at RDD at PythonRDD.scala:48"
      ]
     },
     "execution_count": 72,
     "metadata": {},
     "output_type": "execute_result"
    }
   ],
   "source": [
    "# SPLIT DATA INTO A TRAINING PART (90%) AND A TEST DATA (10%)\n",
    "trainData, cvData = allData.randomSplit([9,1])\n",
    "\n",
    "# CACHE THE TWO DATASETS\n",
    "trainData.cache()\n",
    "cvData.cache()"
   ]
  },
  {
   "cell_type": "code",
   "execution_count": 73,
   "metadata": {},
   "outputs": [
    {
     "name": "stdout",
     "output_type": "stream",
     "text": [
      "Finished training model in 68.749244 seconds\n"
     ]
    }
   ],
   "source": [
    "# START TIME\n",
    "t0 = time()\n",
    "\n",
    "# TRAINING (MODEL CONSTRUCTION)\n",
    "model = ALS.trainImplicit(\n",
    "    ratings=trainData,\n",
    "    rank=10,\n",
    "    iterations=5,\n",
    "    lambda_=0.01,\n",
    "    alpha=1.0\n",
    ")\n",
    "\n",
    "# END TIME\n",
    "t1 = time()\n",
    "\n",
    "# PRINT TIME RESULT\n",
    "print(\"Finished training model in %f seconds\" %(t1-t0))"
   ]
  },
  {
   "cell_type": "markdown",
   "metadata": {},
   "source": [
    "#### Area under the ROC curve: a function to compute it"
   ]
  },
  {
   "cell_type": "code",
   "execution_count": 74,
   "metadata": {
    "collapsed": true
   },
   "outputs": [],
   "source": [
    "# GET AND BROADCAST ALL UNIQUE artistID\n",
    "allItemIDs = np.array(allData.map(lambda x: x[1]).distinct().collect())\n",
    "bAllItemIDs = sc.broadcast(allItemIDs)"
   ]
  },
  {
   "cell_type": "code",
   "execution_count": 75,
   "metadata": {
    "collapsed": true
   },
   "outputs": [],
   "source": [
    "from random import randint\n",
    "\n",
    "# Depend on the number of item in userIDAndPosItemIDs,\n",
    "# create a set of \"negative\" products for each user. These are randomly chosen\n",
    "# from among all of the other items, excluding those that are \"positive\" for the user.\n",
    "# NOTE 1: mapPartitions operates on many (user,positive-items) pairs at once\n",
    "# NOTE 2: flatMap breaks the collections above down into one big set of tuples\n",
    "def xtractNegative(userIDAndPosItemIDs):\n",
    "    def pickEnoughNegatives(line):\n",
    "        userID = line[0]\n",
    "        posItemIDSet = set(line[1])\n",
    "        #posItemIDSet = line[1]\n",
    "        negative = []\n",
    "        allItemIDs = bAllItemIDs.value\n",
    "        # Keep about as many negative examples per user as positive. Duplicates are OK.\n",
    "        i = 0\n",
    "        while (i < len(allItemIDs) and len(negative) < len(posItemIDSet)):\n",
    "            itemID = allItemIDs[randint(0,len(allItemIDs)-1)]\n",
    "            if itemID not in posItemIDSet:\n",
    "                negative.append(itemID)\n",
    "            i += 1\n",
    "        \n",
    "        # Result is a collection of (user,negative-item) tuples\n",
    "        return map(lambda itemID: (userID, itemID), negative)\n",
    "\n",
    "    # Init an RNG and the item IDs set once for partition\n",
    "    # allItemIDs = bAllItemIDs.value\n",
    "    return map(pickEnoughNegatives, userIDAndPosItemIDs)\n",
    "\n",
    "def ratioOfCorrectRanks(positiveRatings, negativeRatings):\n",
    "    \n",
    "    # find number elements in arr that has index >= start and has value smaller than x\n",
    "    # arr is a sorted array\n",
    "    def findNumElementsSmallerThan(arr, x, start=0):\n",
    "        left = start\n",
    "        right = len(arr) -1\n",
    "        # if x is bigger than the biggest element in arr\n",
    "        if start > right or x > arr[right]:\n",
    "            return right + 1\n",
    "        mid = -1\n",
    "        while left <= right:\n",
    "            mid = (left + right) // 2\n",
    "            if arr[mid] < x:\n",
    "                left = mid + 1\n",
    "            elif arr[mid] > x:\n",
    "                right = mid - 1\n",
    "            else:\n",
    "                while mid-1 >= start and arr[mid-1] == x:\n",
    "                    mid -= 1\n",
    "                return mid\n",
    "        return mid if arr[mid] > x else mid + 1\n",
    "    \n",
    "    ## AUC may be viewed as the probability that a random positive item scores\n",
    "    ## higher than a random negative one. Here the proportion of all positive-negative\n",
    "    ## pairs that are correctly ranked is computed. The result is equal to the AUC metric.\n",
    "    correct = 0 ## L\n",
    "    total = 0 ## L\n",
    "    \n",
    "    # sorting positiveRatings array needs more cost\n",
    "    #positiveRatings = np.array(map(lambda x: x.rating, positiveRatings))\n",
    "\n",
    "    negativeRatings = list(map(lambda x: x.rating, negativeRatings))\n",
    "    \n",
    "    #np.sort(positiveRatings)\n",
    "    negativeRatings.sort()# = np.sort(negativeRatings)\n",
    "    total = len(positiveRatings)*len(negativeRatings)\n",
    "    \n",
    "    for positive in positiveRatings:\n",
    "        # Count the correctly-ranked pairs\n",
    "        correct += findNumElementsSmallerThan(negativeRatings, positive.rating)\n",
    "        \n",
    "    ## Return AUC: fraction of pairs ranked correctly\n",
    "    return float(correct) / total\n",
    "\n",
    "def calculateAUC(positiveData, bAllItemIDs, predictFunction):\n",
    "    # Take held-out data as the \"positive\", and map to tuples\n",
    "    positiveUserProducts = positiveData.map(lambda r: (r[0], r[1]))\n",
    "    # Make predictions for each of them, including a numeric score, and gather by user\n",
    "    positivePredictions = predictFunction(positiveUserProducts).groupBy(lambda r: r.user)\n",
    "    \n",
    "    # Create a set of \"negative\" products for each user. These are randomly chosen \n",
    "    # from among all of the other items, excluding those that are \"positive\" for the user. \n",
    "    negativeUserProducts = positiveUserProducts.groupByKey().mapPartitions(xtractNegative).flatMap(lambda x: x)\n",
    "    # Make predictions on the rest\n",
    "    negativePredictions = predictFunction(negativeUserProducts).groupBy(lambda r: r.user)\n",
    "    \n",
    "    return (\n",
    "            positivePredictions.join(negativePredictions)\n",
    "                .values()\n",
    "                .map(\n",
    "                    lambda positive_negativeRatings: ratioOfCorrectRanks(positive_negativeRatings[0], positive_negativeRatings[1])\n",
    "                )\n",
    "                .mean()\n",
    "            )"
   ]
  },
  {
   "cell_type": "markdown",
   "metadata": {},
   "source": [
    "####  Question 9.2\n",
    "<div class=\"alert alert-info\">\n",
    "Using part `cvData` and function `calculateAUC` to compute the AUC of the trained model.\n",
    "</div>"
   ]
  },
  {
   "cell_type": "code",
   "execution_count": 76,
   "metadata": {},
   "outputs": [
    {
     "name": "stdout",
     "output_type": "stream",
     "text": [
      "AUC =  0.9638537328974321\n",
      "Finished calculating the AUC in 49.822897 seconds\n"
     ]
    }
   ],
   "source": [
    "# START TIME\n",
    "t0 = time()\n",
    "\n",
    "# AUC CALCULATION (WE GIVE TO THE FUNCTION THE TEST DATA AND ALL THE ARTISTS)\n",
    "auc = calculateAUC(cvData, bAllItemIDs, model.predictAll)\n",
    "\n",
    "# END TIME\n",
    "t1 = time()\n",
    "\n",
    "# PRINT THE RESULTS\n",
    "print(\"AUC = \", auc)\n",
    "print(\"Finished calculating the AUC in %f seconds\" %(t1-t0))"
   ]
  },
  {
   "cell_type": "markdown",
   "metadata": {},
   "source": [
    "<div class=\"alert alert-success\">\n",
    "As explained in the track of the notebook, the AUC can be seen as the probability that the classifier will rank a randomly chosen positive example higher than a randomly chosen negative.<br>\n",
    "In a different way, it can be expressed as the area under the ROC curve (and in that case can be called <i>AUROC</i>):<br>\n",
    "- the x axis is represented by the <i>FPR (False Positive Rate)</i>, which is given by $ \\frac{FP}{FP + TN}$, where FP is the False Positive count, and TN is the True Negative count.<br>\n",
    "- the y axis is represented by the <i>TPR (True Positive Rate)</i>, which is given by $ \\frac{TP}{TP + FN}$, where TP is the True Positive count, and FN is the False Negative count.<br>\n",
    "<br>\n",
    "Now we have the AUC of our model, a way to measure (in a good and reasonable way) the precision of our recommendation system.\n",
    "</div>"
   ]
  },
  {
   "cell_type": "markdown",
   "metadata": {},
   "source": [
    "#### Question 9.3\n",
    "<div class=\"alert alert-info\">\n",
    "Now we have the AUC of our model, it’s helpful to benchmark this against a simpler approach. For example, consider recommending the globally most-played artists to every user. This is not personalized, but is simple and may be effective.   \n",
    "<ul></ul>\n",
    "Implement this simple pupolarity-based prediction algorithm, evaluate its AUC score, and compare to the results achieved by the more sophisticated ALS algorithm.\n",
    "</div>"
   ]
  },
  {
   "cell_type": "code",
   "execution_count": 77,
   "metadata": {
    "collapsed": true
   },
   "outputs": [],
   "source": [
    "# BROADCAST THE artistID LIST WITH THEIR OWN playCount\n",
    "bListenCount = sc.broadcast(trainData\n",
    "                                .map(lambda r: (r[1], r[2])) # forget about the userID (key=artistID, value=playCount)\n",
    "                                .reduceByKey(lambda playCount1, playCount2: playCount1 + playCount2) # sum the values\n",
    "                                .collectAsMap())\n",
    "\n",
    "# FUNCTION FOR THE SIMPLE MODEL CONSTRUCTION\n",
    "def predictMostListened(allData):\n",
    "    return allData.map(lambda r: Rating(r[0], r[1], bListenCount.value.get( r[1] , 0.0)))"
   ]
  },
  {
   "cell_type": "code",
   "execution_count": 78,
   "metadata": {},
   "outputs": [
    {
     "name": "stdout",
     "output_type": "stream",
     "text": [
      "AUC =  0.9385439731250316\n"
     ]
    }
   ],
   "source": [
    "# AUC CALCULATION (WE GIVE TO THE FUNCTION THE TEST DATA AND ALL THE ARTISTS)\n",
    "auc = calculateAUC(cvData, bAllItemIDs, predictMostListened)\n",
    "\n",
    "# PRINT THE RESULTS\n",
    "print(\"AUC = \", auc)"
   ]
  },
  {
   "cell_type": "markdown",
   "metadata": {},
   "source": [
    "<div class=\"alert alert-success\">\n",
    "We can clearly see from the AUC that the \"manual-created\" simple model performs worse than the \"MLlib-created\" ALS model.\n",
    "</div>"
   ]
  },
  {
   "cell_type": "markdown",
   "metadata": {},
   "source": [
    "## 3.6 Personalized recommendations with ALS\n",
    "\n",
    "In the previous section, we build our models with some given paramters without any knowledge about them. Actually, choosing the best parameters' values is very important. It can significantly affect the quality of models. Especially, with the current implementation of ALS in MLlib, these parameters are not learned by the algorithm, and must be chosen by the caller. The following parameters should get consideration before training models:\n",
    "\n",
    "* `rank = 10`: the number of latent factors in the model, or equivalently, the number of columns $k$ in the user-feature and product-feature matrices. In non-trivial cases, this is also their rank. \n",
    "\n",
    "* `iterations = 5`: the number of iterations that the factorization runs. Instead of runing the algorithm until RMSE converged which actually takes very long time to finish with large datasets, we only let it run in a given number of iterations. More iterations take more time but may produce a better factorization.\n",
    "\n",
    "* `lambda_ = 0.01`: a standard overfitting parameter. Higher values resist overfitting, but values that are too high hurt the factorization's accuracy.\n",
    "\n",
    "*  `alpha = 1.0`: controls the relative weight of observed versus unobserved userproduct interactions in the factorization. \n",
    "\n",
    "Although all of them have impact on the models' quality, `iterations` is more of a constraint on resources used in the factorization. So, `rank`, `lambda_` and `alpha` can be considered hyperparameters to the model. \n",
    "We will try to find \"good\" values for them. Indeed, the values of hyperparameter are not necessarily optimal. Choosing good hyperparameter values is a common problem in machine learning. The most basic way to choose values is to simply try combinations of values and evaluate a metric for each of them, and choose the combination that produces the best value of the metric. \n"
   ]
  },
  {
   "cell_type": "markdown",
   "metadata": {},
   "source": [
    "### Question 10\n",
    "\n",
    "#### Question 10.1\n",
    "<div class=\"alert alert-info\">\n",
    "For simplicity, assume that we want to explore the following parameter space: $ rank \\in \\{10, 50\\}$, $lambda\\_ \\in \\{1.0, 0.0001\\}$ and $alpha \\in \\{1.0, 40.0\\}$.\n",
    "\n",
    "Find the best combination of them in terms of the highest AUC value.\n",
    "</div>"
   ]
  },
  {
   "cell_type": "code",
   "execution_count": 79,
   "metadata": {},
   "outputs": [
    {
     "name": "stdout",
     "output_type": "stream",
     "text": [
      "Train model with: [rank=10, lambda_=1.000000, alpha=1.000000]\n",
      "Train model with: [rank=10, lambda_=1.000000, alpha=40.000000]\n",
      "Train model with: [rank=10, lambda_=0.000100, alpha=1.000000]\n",
      "Train model with: [rank=10, lambda_=0.000100, alpha=40.000000]\n",
      "Train model with: [rank=50, lambda_=1.000000, alpha=1.000000]\n",
      "Train model with: [rank=50, lambda_=1.000000, alpha=40.000000]\n",
      "Train model with: [rank=50, lambda_=0.000100, alpha=1.000000]\n",
      "Train model with: [rank=50, lambda_=0.000100, alpha=40.000000]\n",
      "                    0         1\n",
      "0     (50, 1.0, 40.0)  0.976920\n",
      "1     (10, 1.0, 40.0)  0.976372\n",
      "2  (50, 0.0001, 40.0)  0.976043\n",
      "3  (10, 0.0001, 40.0)  0.975901\n",
      "4      (10, 1.0, 1.0)  0.969862\n",
      "5      (50, 1.0, 1.0)  0.967288\n",
      "6   (10, 0.0001, 1.0)  0.964977\n",
      "7   (50, 0.0001, 1.0)  0.954350\n"
     ]
    },
    {
     "data": {
      "text/plain": [
       "PythonRDD[630] at RDD at PythonRDD.scala:48"
      ]
     },
     "execution_count": 79,
     "metadata": {},
     "output_type": "execute_result"
    }
   ],
   "source": [
    "evaluations = []\n",
    "\n",
    "# In theory, we should run multiple times and get the average for each params combination.\n",
    "# For simplicity, we only run one time\n",
    "for rank in [10, 50]:\n",
    "    for lambda_ in [1.0, 0.0001]:\n",
    "        for alpha in [1.0, 40.0]:\n",
    "            \n",
    "            print(\"Train model with: [rank=%d, lambda_=%f, alpha=%f]\" %(rank, lambda_, alpha))\n",
    "            \n",
    "            # MODEL TRAINING\n",
    "            model = ALS.trainImplicit(\n",
    "                            ratings=trainData,\n",
    "                            rank=rank,\n",
    "                            iterations=5,\n",
    "                            lambda_=lambda_,\n",
    "                            alpha=alpha\n",
    "                        )\n",
    "\n",
    "            # AUC CALCULATION\n",
    "            auc = calculateAUC(cvData, bAllItemIDs, model.predictAll)\n",
    "\n",
    "            # APPEND TO THE EVALUATION LIST\n",
    "            evaluations.append(((rank, lambda_, alpha), auc))\n",
    "\n",
    "            # MANUALLY UNCACHE THE MODEL\n",
    "            unpersist(model)\n",
    "\n",
    "# SORT ACCORDING TO THE AUC VALUE\n",
    "evaluations.sort(key=lambda e: e[1], reverse=True)\n",
    "\n",
    "# CREATE A PANDAS DATAFRAME OF THE EVALUATIONS AND PRINT IT\n",
    "evalDataFrame = pd.DataFrame(data=evaluations)\n",
    "print(evalDataFrame)\n",
    "\n",
    "# UNCACHE THE TRAINING AND TEST DATA\n",
    "trainData.unpersist()\n",
    "cvData.unpersist()"
   ]
  },
  {
   "cell_type": "code",
   "execution_count": 88,
   "metadata": {},
   "outputs": [
    {
     "data": {
      "text/html": [
       "<table border=\"1\" class=\"dataframe\">\n",
       "  <thead>\n",
       "    <tr style=\"text-align: right;\">\n",
       "      <th>Parameters</th>\n",
       "      <th>AUC</th>\n",
       "    </tr>\n",
       "  </thead>\n",
       "  <tbody>\n",
       "    <tr>\n",
       "      <td>(50, 1.0, 40.0)</td>\n",
       "      <td>0.976920</td>\n",
       "    </tr>\n",
       "    <tr>\n",
       "      <td>(10, 1.0, 40.0)</td>\n",
       "      <td>0.976372</td>\n",
       "    </tr>\n",
       "    <tr>\n",
       "      <td>(50, 0.0001, 40.0)</td>\n",
       "      <td>0.976043</td>\n",
       "    </tr>\n",
       "    <tr>\n",
       "      <td>(10, 0.0001, 40.0)</td>\n",
       "      <td>0.975901</td>\n",
       "    </tr>\n",
       "    <tr>\n",
       "      <td>(10, 1.0, 1.0)</td>\n",
       "      <td>0.969862</td>\n",
       "    </tr>\n",
       "    <tr>\n",
       "      <td>(50, 1.0, 1.0)</td>\n",
       "      <td>0.967288</td>\n",
       "    </tr>\n",
       "    <tr>\n",
       "      <td>(10, 0.0001, 1.0)</td>\n",
       "      <td>0.964977</td>\n",
       "    </tr>\n",
       "    <tr>\n",
       "      <td>(50, 0.0001, 1.0)</td>\n",
       "      <td>0.954350</td>\n",
       "    </tr>\n",
       "  </tbody>\n",
       "</table>"
      ],
      "text/plain": [
       "<IPython.core.display.HTML object>"
      ]
     },
     "metadata": {},
     "output_type": "display_data"
    }
   ],
   "source": [
    "displayDF(evalDataFrame, [\"Parameters\", \"AUC\"])"
   ]
  },
  {
   "cell_type": "markdown",
   "metadata": {},
   "source": [
    "#### Question 10.2 \n",
    "<div class=\"alert alert-info\">\n",
    "Using \"optimal\" hyper-parameters in question 10.1, re-train the model and show top-5 artist names recommendated for user `2093760`.\n",
    "</div>"
   ]
  },
  {
   "cell_type": "code",
   "execution_count": 80,
   "metadata": {},
   "outputs": [
    {
     "name": "stdout",
     "output_type": "stream",
     "text": [
      "['50 Cent', 'Snoop Dogg', '2Pac', 'Eminem', 'Jay-Z and Linkin Park']\n"
     ]
    }
   ],
   "source": [
    "# TRAINING (MODEL CONSTRUCTION)\n",
    "model = ALS.trainImplicit( \\\n",
    "    ratings=allData, \\\n",
    "    rank=evalDataFrame[0][0][0], \\\n",
    "    iterations=5, \\\n",
    "    lambda_=evalDataFrame[0][0][1], \\\n",
    "    alpha=evalDataFrame[0][0][2] \\\n",
    ")\n",
    "\n",
    "# UNCACHE TRAINING DATA\n",
    "allData.unpersist()\n",
    "\n",
    "# MAKE 5 RECOMMENDATIONS TO THE USER WITH ID 2093760\n",
    "recommendations = (model.recommendProducts(2093760, 5))\n",
    "\n",
    "# THE RECOMMENDATIONS ARE A SET OF 'Rating' OBJECTS\n",
    "# WE NEED TO EXTRACT ONLY THE 'artistID'\n",
    "recArtist = set(rec[1] for rec in recommendations)\n",
    "\n",
    "# EXTRACT ONLY THE NAME SET\n",
    "# take all the artists\n",
    "# filter only the ones in the recommendation set\n",
    "# take only the name\n",
    "# collect as a list\n",
    "recList = artistByID \\\n",
    "    .filter(artistNames) \\\n",
    "    .values() \\\n",
    "    .collect()\n",
    "\n",
    "# PRINT THE RECOMMENDATION LIST\n",
    "print(recList)\n",
    "\n",
    "# UNCACHE MODEL\n",
    "unpersist(model)"
   ]
  },
  {
   "cell_type": "markdown",
   "metadata": {},
   "source": [
    "# 4. Beyond the notebook\n",
    "\n"
   ]
  },
  {
   "cell_type": "code",
   "execution_count": null,
   "metadata": {
    "collapsed": true
   },
   "outputs": [],
   "source": [
    "# Neighborhood-based Collaborative Filtering model\n",
    "\n",
    "import heapq\n",
    "from pyspark.rdd import RDD\n",
    "from itertools import combinations\n",
    "\n",
    "def topNByKey(self, num, sortValue = None, reverse=False):\n",
    " \n",
    "    def init(a):\n",
    "        return [a]\n",
    " \n",
    "    def combine(agg, a):\n",
    "        agg.append(a)\n",
    "        return getTopN(agg)\n",
    " \n",
    "    def merge(a, b):\n",
    "        agg = a + b\n",
    "        return getTopN(agg)\n",
    " \n",
    "    def getTopN(agg):\n",
    "        if reverse == True:\n",
    "            return heapq.nlargest(num, agg, sortValue)\n",
    "        else:\n",
    "            return heapq.nsmallest(num, agg, sortValue)              \n",
    " \n",
    "    return self.combineByKey(init, combine, merge)\n",
    "\n",
    "RDD.topNByKey = topNByKey\n",
    "\n",
    "class NCF:\n",
    "    def __init__(self, data, neighborhoodSize = 5):\n",
    "        self.data = data\n",
    "        \n",
    "        self.similarityPairs = data \\\n",
    "            .map(lambda triplet: (triplet[0], triplet)) \\\n",
    "            .topNByKey(neighborhoodSize, sortValue = lambda triplet: triplet[2], reverse = True) \\\n",
    "            .flatMap(lambda pair: pair[1]) \\\n",
    "            .map(lambda triplet: (triplet[1], triplet[0])) \\\n",
    "            .groupByKey() \\\n",
    "            .map(lambda x : list(x[1])) \\\n",
    "            .filter(lambda l: len(l) > 1) \\\n",
    "            .flatMap(lambda l: combinations(l, 2)) \\\n",
    "            .filter(lambda pair: pair[0] != pair[1]) \\\n",
    "            .map(lambda pair: ((pair[0], pair[1]), 1) if pair[0] < pair[1] else ((pair[1], pair[0]), 1)) \\\n",
    "            .reduceByKey(lambda count1, count2: count1 + count2)\n",
    "            \n",
    "        print(\"Finished\")\n",
    "    \n",
    "    def recommendProducts(self, userID, nb_items):\n",
    "        bUserID = sc.broadcast(userID)\n",
    "        fiveNN = self.similarityPairs \\\n",
    "            .filter(lambda pair: pair[0][0] == userID or pair[0][1] == bUserID.value) \\\n",
    "            .map(lambda pair: (pair[0][0], pair[1]) if pair[0][1] == bUserID.value else (pair[0][1], pair[1])) \\\n",
    "            .takeOrdered(5, key = lambda pair: -pair[0])\n",
    "            \n",
    "        fiveNN = [x[0] for x in fiveNN]\n",
    "           \n",
    "        knownArtists = self.data \\\n",
    "            .filter(lambda tuple3: tuple3[0] == bUserID.value) \\\n",
    "            .map(lambda tuple3: tuple3[1]) \\\n",
    "            .collect()\n",
    "        \n",
    "        bFiveNN = sc.broadcast(fiveNN)\n",
    "        bKnownArtists = sc.broadcast(knownArtists)\n",
    "        \n",
    "        result = self.data \\\n",
    "            .filter(lambda triplet: triplet[0] in bFiveNN.value) \\\n",
    "            .map(lambda triplet: (triplet[1], triplet[2])) \\\n",
    "            .filter(lambda pair: pair[0] not in bKnownArtists.value) \\\n",
    "            .reduceByKey(lambda count1, count2: count1 + count2) \\\n",
    "            .takeOrdered(nb_items, key = lambda pair: -pair[1])\n",
    "            \n",
    "        return [x[0] for x in result]"
   ]
  },
  {
   "cell_type": "code",
   "execution_count": 11,
   "metadata": {
    "collapsed": true
   },
   "outputs": [],
   "source": [
    "model = NCF(userArtistData)\n",
    "NCF.recommendProducts(model,2017397, 5)"
   ]
  },
  {
   "cell_type": "code",
   "execution_count": null,
   "metadata": {
    "collapsed": true
   },
   "outputs": [],
   "source": []
  },
  {
   "cell_type": "markdown",
   "metadata": {},
   "source": [
    "# Summary\n",
    "\n",
    "In this notebook, we introduce an algorithm to do matrix factorization and the way of using it to make recommendation. Further more, we studied how to build a large-scale recommender system on SPARK using ALS algorithm and evaluate its quality. Finally, a simple approach to choose good parameters is mentioned."
   ]
  },
  {
   "cell_type": "markdown",
   "metadata": {},
   "source": [
    "# References\n",
    "\n",
    "- The example in section 2 is taken from [Recommender system](infolab.stanford.edu/~ullman/mmds/ch9.pdf)"
   ]
  },
  {
   "cell_type": "code",
   "execution_count": null,
   "metadata": {
    "collapsed": true
   },
   "outputs": [],
   "source": []
  }
 ],
 "metadata": {
  "kernelspec": {
   "display_name": "Python 3",
   "language": "python",
   "name": "python3"
  },
  "language_info": {
   "codemirror_mode": {
    "name": "ipython",
    "version": 3
   },
   "file_extension": ".py",
   "mimetype": "text/x-python",
   "name": "python",
   "nbconvert_exporter": "python",
   "pygments_lexer": "ipython3",
   "version": "3.6.2"
  }
 },
 "nbformat": 4,
 "nbformat_minor": 2
}
